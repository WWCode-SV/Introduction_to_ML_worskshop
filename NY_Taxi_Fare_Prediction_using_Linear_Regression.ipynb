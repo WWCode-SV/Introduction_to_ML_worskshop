{
  "nbformat": 4,
  "nbformat_minor": 0,
  "metadata": {
    "colab": {
      "name": "NY Taxi Fare Prediction using Linear Regression.ipynb",
      "provenance": [],
      "authorship_tag": "ABX9TyOvzOE/Lzz8vNYt5Am+3C0s",
      "include_colab_link": true
    },
    "kernelspec": {
      "name": "python3",
      "display_name": "Python 3"
    }
  },
  "cells": [
    {
      "cell_type": "markdown",
      "metadata": {
        "id": "view-in-github",
        "colab_type": "text"
      },
      "source": [
        "<a href=\"https://colab.research.google.com/github/WWCode-SV/Introduction_to_ML_worskshop/blob/master/NY_Taxi_Fare_Prediction_using_Linear_Regression.ipynb\" target=\"_parent\"><img src=\"https://colab.research.google.com/assets/colab-badge.svg\" alt=\"Open In Colab\"/></a>"
      ]
    },
    {
      "cell_type": "code",
      "metadata": {
        "id": "CVl-YPYXgsL0",
        "colab_type": "code",
        "outputId": "da67a1ec-01f3-4cb0-ffc0-99e60a84b1fb",
        "colab": {
          "base_uri": "https://localhost:8080/",
          "height": 34
        }
      },
      "source": [
        "#Mounting Google Drive\n",
        "from google.colab import drive\n",
        "drive.mount('/content/gdrive')"
      ],
      "execution_count": 1,
      "outputs": [
        {
          "output_type": "stream",
          "text": [
            "Drive already mounted at /content/gdrive; to attempt to forcibly remount, call drive.mount(\"/content/gdrive\", force_remount=True).\n"
          ],
          "name": "stdout"
        }
      ]
    },
    {
      "cell_type": "markdown",
      "metadata": {
        "id": "CVxJH-nLD1SA",
        "colab_type": "text"
      },
      "source": [
        "# Problem Description\n",
        "- We are asked to predict the amount of fare for a taxi ride in New York City given :\n",
        "  - Pickup and Dropoff locations\n",
        "  - Number of passengers in a ride\n",
        "  - Pickup date time for a ride\n",
        "- So fare amount is our target variable and rest of the variables are our predictor variables. Hence, its a supervised regression problem\n",
        "- In this notebook we will build a regression model to solve this using Linear Regression model from scikit learn library"
      ]
    },
    {
      "cell_type": "markdown",
      "metadata": {
        "id": "5KhgvOkCEVGr",
        "colab_type": "text"
      },
      "source": [
        "## Table of contents\n",
        "1. Data Loading\n",
        "2. Data Exploration\n",
        "3. Univariate Analysis and Outlier Treatment\n",
        "4. Bivariate Analysis\n",
        "5. Preprocessing\n",
        "5. Linear Regression Fitting\n",
        "6. Cost Function\n",
        "7. Optimization Visualization\n",
        "8. Feature Engineering \n",
        "9. Regularization"
      ]
    },
    {
      "cell_type": "markdown",
      "metadata": {
        "id": "SmGEfZ1TfB4h",
        "colab_type": "text"
      },
      "source": [
        "### 1. Data Loading"
      ]
    },
    {
      "cell_type": "code",
      "metadata": {
        "id": "UBsMhL1UhcOb",
        "colab_type": "code",
        "colab": {
          "base_uri": "https://localhost:8080/",
          "height": 51
        },
        "outputId": "6240f776-fca8-451c-f7f2-52886dc90b93"
      },
      "source": [
        "#importing required packages\n",
        "import numpy as np\n",
        "import pandas as pd\n",
        "from scipy import stats\n",
        "from sklearn.model_selection import train_test_split\n",
        "from sklearn.linear_model import LinearRegression\n",
        "from sklearn.metrics import mean_squared_error\n",
        "\n",
        "import matplotlib.pyplot as plt\n",
        "% matplotlib inline\n",
        "import seaborn as sns\n",
        "plt.style.use('bmh')\n",
        "sns.set_style({'axes.grid':False})"
      ],
      "execution_count": 2,
      "outputs": [
        {
          "output_type": "stream",
          "text": [
            "/usr/local/lib/python3.6/dist-packages/statsmodels/tools/_testing.py:19: FutureWarning: pandas.util.testing is deprecated. Use the functions in the public API at pandas.testing instead.\n",
            "  import pandas.util.testing as tm\n"
          ],
          "name": "stderr"
        }
      ]
    },
    {
      "cell_type": "code",
      "metadata": {
        "id": "NiLz6NL5hhkY",
        "colab_type": "code",
        "colab": {}
      },
      "source": [
        "#reading csv file into pandas dataframe\n",
        "data = pd.read_csv('/content/gdrive/My Drive/ColabNotebooks/NYTaxiFarePrediction/Data/train.csv')"
      ],
      "execution_count": 0,
      "outputs": []
    },
    {
      "cell_type": "markdown",
      "metadata": {
        "id": "zispHdUzQsDo",
        "colab_type": "text"
      },
      "source": [
        "> Note : We will do the train test split after preprocessing and feature engineering so that the changes are consistent in both train and test dataset\n"
      ]
    },
    {
      "cell_type": "markdown",
      "metadata": {
        "id": "IF7n3W0Ifjwk",
        "colab_type": "text"
      },
      "source": [
        "### 2. Data Exploration\n",
        "  - Investigating the number of features, their datatype, their meaning and statistics."
      ]
    },
    {
      "cell_type": "code",
      "metadata": {
        "id": "JYfHZ6NrfDTv",
        "colab_type": "code",
        "outputId": "ad1d42aa-09b1-430d-83b2-3bd1cb8f7722",
        "colab": {
          "base_uri": "https://localhost:8080/",
          "height": 221
        }
      },
      "source": [
        "#list first five rows\n",
        "print('Preview data:')\n",
        "display(data.head())"
      ],
      "execution_count": 4,
      "outputs": [
        {
          "output_type": "stream",
          "text": [
            "Preview data:\n"
          ],
          "name": "stdout"
        },
        {
          "output_type": "display_data",
          "data": {
            "text/html": [
              "<div>\n",
              "<style scoped>\n",
              "    .dataframe tbody tr th:only-of-type {\n",
              "        vertical-align: middle;\n",
              "    }\n",
              "\n",
              "    .dataframe tbody tr th {\n",
              "        vertical-align: top;\n",
              "    }\n",
              "\n",
              "    .dataframe thead th {\n",
              "        text-align: right;\n",
              "    }\n",
              "</style>\n",
              "<table border=\"1\" class=\"dataframe\">\n",
              "  <thead>\n",
              "    <tr style=\"text-align: right;\">\n",
              "      <th></th>\n",
              "      <th>Unnamed: 0</th>\n",
              "      <th>fare_amount</th>\n",
              "      <th>pickup_datetime</th>\n",
              "      <th>pickup_longitude</th>\n",
              "      <th>pickup_latitude</th>\n",
              "      <th>dropoff_longitude</th>\n",
              "      <th>dropoff_latitude</th>\n",
              "      <th>passenger_count</th>\n",
              "    </tr>\n",
              "  </thead>\n",
              "  <tbody>\n",
              "    <tr>\n",
              "      <th>0</th>\n",
              "      <td>0</td>\n",
              "      <td>4.5</td>\n",
              "      <td>2009-06-15 17:26:21 UTC</td>\n",
              "      <td>-73.844315</td>\n",
              "      <td>40.721317</td>\n",
              "      <td>-73.84161</td>\n",
              "      <td>40.712276</td>\n",
              "      <td>1</td>\n",
              "    </tr>\n",
              "    <tr>\n",
              "      <th>1</th>\n",
              "      <td>1</td>\n",
              "      <td>16.9</td>\n",
              "      <td>2010-01-05 16:52:16 UTC</td>\n",
              "      <td>-74.016045</td>\n",
              "      <td>40.711304</td>\n",
              "      <td>-73.97927</td>\n",
              "      <td>40.782005</td>\n",
              "      <td>1</td>\n",
              "    </tr>\n",
              "    <tr>\n",
              "      <th>2</th>\n",
              "      <td>2</td>\n",
              "      <td>5.7</td>\n",
              "      <td>2011-08-18 00:35:00 UTC</td>\n",
              "      <td>-73.982735</td>\n",
              "      <td>40.761270</td>\n",
              "      <td>-73.99124</td>\n",
              "      <td>40.750560</td>\n",
              "      <td>2</td>\n",
              "    </tr>\n",
              "    <tr>\n",
              "      <th>3</th>\n",
              "      <td>3</td>\n",
              "      <td>7.7</td>\n",
              "      <td>2012-04-21 04:30:42 UTC</td>\n",
              "      <td>-73.987130</td>\n",
              "      <td>40.733143</td>\n",
              "      <td>-73.99157</td>\n",
              "      <td>40.758090</td>\n",
              "      <td>1</td>\n",
              "    </tr>\n",
              "    <tr>\n",
              "      <th>4</th>\n",
              "      <td>4</td>\n",
              "      <td>5.3</td>\n",
              "      <td>2010-03-09 07:51:00 UTC</td>\n",
              "      <td>-73.968094</td>\n",
              "      <td>40.768010</td>\n",
              "      <td>-73.95666</td>\n",
              "      <td>40.783764</td>\n",
              "      <td>1</td>\n",
              "    </tr>\n",
              "  </tbody>\n",
              "</table>\n",
              "</div>"
            ],
            "text/plain": [
              "   Unnamed: 0  fare_amount  ... dropoff_latitude  passenger_count\n",
              "0           0          4.5  ...        40.712276                1\n",
              "1           1         16.9  ...        40.782005                1\n",
              "2           2          5.7  ...        40.750560                2\n",
              "3           3          7.7  ...        40.758090                1\n",
              "4           4          5.3  ...        40.783764                1\n",
              "\n",
              "[5 rows x 8 columns]"
            ]
          },
          "metadata": {
            "tags": []
          }
        }
      ]
    },
    {
      "cell_type": "code",
      "metadata": {
        "id": "wCqzp_iGi9KR",
        "colab_type": "code",
        "outputId": "5c2bd0b7-4bbe-4c7e-ee7c-1294efb027ab",
        "colab": {
          "base_uri": "https://localhost:8080/",
          "height": 187
        }
      },
      "source": [
        "# check datatypes\n",
        "print('Check datatypes:')\n",
        "display(data.dtypes)"
      ],
      "execution_count": 5,
      "outputs": [
        {
          "output_type": "stream",
          "text": [
            "Check datatypes:\n"
          ],
          "name": "stdout"
        },
        {
          "output_type": "display_data",
          "data": {
            "text/plain": [
              "Unnamed: 0             int64\n",
              "fare_amount          float64\n",
              "pickup_datetime       object\n",
              "pickup_longitude     float64\n",
              "pickup_latitude      float64\n",
              "dropoff_longitude    float64\n",
              "dropoff_latitude     float64\n",
              "passenger_count        int64\n",
              "dtype: object"
            ]
          },
          "metadata": {
            "tags": []
          }
        }
      ]
    },
    {
      "cell_type": "code",
      "metadata": {
        "id": "V3meyM6ckouU",
        "colab_type": "code",
        "colab": {}
      },
      "source": [
        "#pickup_datetime is in object datatype so let's convert it to datetime format\n",
        "data['pickup_datetime'] = pd.to_datetime(data['pickup_datetime'], infer_datetime_format=True)"
      ],
      "execution_count": 0,
      "outputs": []
    },
    {
      "cell_type": "code",
      "metadata": {
        "id": "Uw9QoyJjk_bH",
        "colab_type": "code",
        "outputId": "0f03b76e-c9eb-4231-bc63-9b305a29a9f5",
        "colab": {
          "base_uri": "https://localhost:8080/",
          "height": 187
        }
      },
      "source": [
        "# check datatypes after converting\n",
        "print('Check datatypes:')\n",
        "display(data.dtypes)"
      ],
      "execution_count": 7,
      "outputs": [
        {
          "output_type": "stream",
          "text": [
            "Check datatypes:\n"
          ],
          "name": "stdout"
        },
        {
          "output_type": "display_data",
          "data": {
            "text/plain": [
              "Unnamed: 0                    int64\n",
              "fare_amount                 float64\n",
              "pickup_datetime      datetime64[ns]\n",
              "pickup_longitude            float64\n",
              "pickup_latitude             float64\n",
              "dropoff_longitude           float64\n",
              "dropoff_latitude            float64\n",
              "passenger_count               int64\n",
              "dtype: object"
            ]
          },
          "metadata": {
            "tags": []
          }
        }
      ]
    },
    {
      "cell_type": "code",
      "metadata": {
        "id": "w1ByT43ijCie",
        "colab_type": "code",
        "outputId": "c179e74f-f2ae-4cc3-8a0a-e938dc534409",
        "colab": {
          "base_uri": "https://localhost:8080/",
          "height": 297
        }
      },
      "source": [
        "# check statistics of the features\n",
        "data.describe()"
      ],
      "execution_count": 8,
      "outputs": [
        {
          "output_type": "execute_result",
          "data": {
            "text/html": [
              "<div>\n",
              "<style scoped>\n",
              "    .dataframe tbody tr th:only-of-type {\n",
              "        vertical-align: middle;\n",
              "    }\n",
              "\n",
              "    .dataframe tbody tr th {\n",
              "        vertical-align: top;\n",
              "    }\n",
              "\n",
              "    .dataframe thead th {\n",
              "        text-align: right;\n",
              "    }\n",
              "</style>\n",
              "<table border=\"1\" class=\"dataframe\">\n",
              "  <thead>\n",
              "    <tr style=\"text-align: right;\">\n",
              "      <th></th>\n",
              "      <th>Unnamed: 0</th>\n",
              "      <th>fare_amount</th>\n",
              "      <th>pickup_longitude</th>\n",
              "      <th>pickup_latitude</th>\n",
              "      <th>dropoff_longitude</th>\n",
              "      <th>dropoff_latitude</th>\n",
              "      <th>passenger_count</th>\n",
              "    </tr>\n",
              "  </thead>\n",
              "  <tbody>\n",
              "    <tr>\n",
              "      <th>count</th>\n",
              "      <td>5.000000e+06</td>\n",
              "      <td>5.000000e+06</td>\n",
              "      <td>5.000000e+06</td>\n",
              "      <td>5.000000e+06</td>\n",
              "      <td>4.999964e+06</td>\n",
              "      <td>4.999964e+06</td>\n",
              "      <td>5.000000e+06</td>\n",
              "    </tr>\n",
              "    <tr>\n",
              "      <th>mean</th>\n",
              "      <td>2.500000e+06</td>\n",
              "      <td>1.134080e+01</td>\n",
              "      <td>-7.250678e+01</td>\n",
              "      <td>3.991974e+01</td>\n",
              "      <td>-7.250652e+01</td>\n",
              "      <td>3.991725e+01</td>\n",
              "      <td>1.684695e+00</td>\n",
              "    </tr>\n",
              "    <tr>\n",
              "      <th>std</th>\n",
              "      <td>1.443376e+06</td>\n",
              "      <td>9.820175e+00</td>\n",
              "      <td>1.280970e+01</td>\n",
              "      <td>8.963509e+00</td>\n",
              "      <td>1.284777e+01</td>\n",
              "      <td>9.486767e+00</td>\n",
              "      <td>1.331854e+00</td>\n",
              "    </tr>\n",
              "    <tr>\n",
              "      <th>min</th>\n",
              "      <td>0.000000e+00</td>\n",
              "      <td>-1.000000e+02</td>\n",
              "      <td>-3.426609e+03</td>\n",
              "      <td>-3.488080e+03</td>\n",
              "      <td>-3.412653e+03</td>\n",
              "      <td>-3.488080e+03</td>\n",
              "      <td>0.000000e+00</td>\n",
              "    </tr>\n",
              "    <tr>\n",
              "      <th>25%</th>\n",
              "      <td>1.250000e+06</td>\n",
              "      <td>6.000000e+00</td>\n",
              "      <td>-7.399206e+01</td>\n",
              "      <td>4.073491e+01</td>\n",
              "      <td>-7.399139e+01</td>\n",
              "      <td>4.073404e+01</td>\n",
              "      <td>1.000000e+00</td>\n",
              "    </tr>\n",
              "    <tr>\n",
              "      <th>50%</th>\n",
              "      <td>2.500000e+06</td>\n",
              "      <td>8.500000e+00</td>\n",
              "      <td>-7.398181e+01</td>\n",
              "      <td>4.075264e+01</td>\n",
              "      <td>-7.398016e+01</td>\n",
              "      <td>4.075315e+01</td>\n",
              "      <td>1.000000e+00</td>\n",
              "    </tr>\n",
              "    <tr>\n",
              "      <th>75%</th>\n",
              "      <td>3.749999e+06</td>\n",
              "      <td>1.250000e+01</td>\n",
              "      <td>-7.396711e+01</td>\n",
              "      <td>4.076712e+01</td>\n",
              "      <td>-7.396367e+01</td>\n",
              "      <td>4.076811e+01</td>\n",
              "      <td>2.000000e+00</td>\n",
              "    </tr>\n",
              "    <tr>\n",
              "      <th>max</th>\n",
              "      <td>4.999999e+06</td>\n",
              "      <td>1.273310e+03</td>\n",
              "      <td>3.439425e+03</td>\n",
              "      <td>3.310365e+03</td>\n",
              "      <td>3.457622e+03</td>\n",
              "      <td>3.345917e+03</td>\n",
              "      <td>2.080000e+02</td>\n",
              "    </tr>\n",
              "  </tbody>\n",
              "</table>\n",
              "</div>"
            ],
            "text/plain": [
              "         Unnamed: 0   fare_amount  ...  dropoff_latitude  passenger_count\n",
              "count  5.000000e+06  5.000000e+06  ...      4.999964e+06     5.000000e+06\n",
              "mean   2.500000e+06  1.134080e+01  ...      3.991725e+01     1.684695e+00\n",
              "std    1.443376e+06  9.820175e+00  ...      9.486767e+00     1.331854e+00\n",
              "min    0.000000e+00 -1.000000e+02  ...     -3.488080e+03     0.000000e+00\n",
              "25%    1.250000e+06  6.000000e+00  ...      4.073404e+01     1.000000e+00\n",
              "50%    2.500000e+06  8.500000e+00  ...      4.075315e+01     1.000000e+00\n",
              "75%    3.749999e+06  1.250000e+01  ...      4.076811e+01     2.000000e+00\n",
              "max    4.999999e+06  1.273310e+03  ...      3.345917e+03     2.080000e+02\n",
              "\n",
              "[8 rows x 7 columns]"
            ]
          },
          "metadata": {
            "tags": []
          },
          "execution_count": 8
        }
      ]
    },
    {
      "cell_type": "markdown",
      "metadata": {
        "id": "ALqup3f-R5Zk",
        "colab_type": "text"
      },
      "source": [
        "\n",
        "\n",
        "> - One interesting observation from the statistics, we can see is that there are fare amount less than zero.\n",
        "> - Since this is not possible, these are mistakes in data collection and hence considered outliers which skew the distribution.\n",
        "> - We will address that in next section.\n",
        "\n"
      ]
    },
    {
      "cell_type": "markdown",
      "metadata": {
        "id": "svxvSIQ0jS7E",
        "colab_type": "text"
      },
      "source": [
        "### 3. Univariate Analysis and Outlier Treatment\n",
        "\n"
      ]
    },
    {
      "cell_type": "code",
      "metadata": {
        "id": "FrPtmDJyn1Ie",
        "colab_type": "code",
        "outputId": "938567d6-1665-4a21-fbac-726e4da529e7",
        "colab": {
          "base_uri": "https://localhost:8080/",
          "height": 241
        }
      },
      "source": [
        "# plot histogram of fare\n",
        "data.fare_amount.hist(bins=5, figsize=(14,3))\n",
        "plt.xlabel('fare $USD')\n",
        "plt.title('Histogram');"
      ],
      "execution_count": 9,
      "outputs": [
        {
          "output_type": "display_data",
          "data": {
            "image/png": "[encoded data removed]",
            "text/plain": [
              "<Figure size 1008x216 with 1 Axes>"
            ]
          },
          "metadata": {
            "tags": [],
            "needs_background": "light"
          }
        }
      ]
    },
    {
      "cell_type": "code",
      "metadata": {
        "id": "LZGWR30xhXLa",
        "colab_type": "code",
        "outputId": "58fe3090-990a-4faa-ea05-18b43e736e36",
        "colab": {
          "base_uri": "https://localhost:8080/",
          "height": 51
        }
      },
      "source": [
        "# we remove these outliers from our dataset\n",
        "print('Old size: %d' % len(data))\n",
        "data = data[data.fare_amount>=0]\n",
        "print('New size: %d' % len(data))"
      ],
      "execution_count": 10,
      "outputs": [
        {
          "output_type": "stream",
          "text": [
            "Old size: 5000000\n",
            "New size: 4999789\n"
          ],
          "name": "stdout"
        }
      ]
    },
    {
      "cell_type": "code",
      "metadata": {
        "id": "25GMfPiYhorH",
        "colab_type": "code",
        "outputId": "0fe25ba5-7385-4365-8b67-762ce4eb7077",
        "colab": {
          "base_uri": "https://localhost:8080/",
          "height": 241
        }
      },
      "source": [
        "# plot histogram of fare\n",
        "data.fare_amount.hist(bins=5, figsize=(14,3))\n",
        "plt.xlabel('fare $USD')\n",
        "plt.title('Histogram');"
      ],
      "execution_count": 11,
      "outputs": [
        {
          "output_type": "display_data",
          "data": {
            "image/png": "[encoded data removed]",
            "text/plain": [
              "<Figure size 1008x216 with 1 Axes>"
            ]
          },
          "metadata": {
            "tags": [],
            "needs_background": "light"
          }
        }
      ]
    },
    {
      "cell_type": "code",
      "metadata": {
        "id": "MH_azSBVVPRZ",
        "colab_type": "code",
        "colab": {
          "base_uri": "https://localhost:8080/",
          "height": 397
        },
        "outputId": "cef51a26-7c71-4003-9ad9-dc007823e65c"
      },
      "source": [
        "# Class distribution of passenger_count\n",
        "fig, ax = plt.subplots(figsize = (14,6))\n",
        "class_dist = data.passenger_count.value_counts()\n",
        "class_dist.plot(kind = 'bar', ax = ax)\n",
        "ax.set_title('Class distribution of passenger_count')\n",
        "ax.set_ylabel('absolute frequency')\n",
        "plt.show()"
      ],
      "execution_count": 12,
      "outputs": [
        {
          "output_type": "display_data",
          "data": {
            "image/png": "[encoded data removed]",
            "text/plain": [
              "<Figure size 1008x432 with 1 Axes>"
            ]
          },
          "metadata": {
            "tags": [],
            "needs_background": "light"
          }
        }
      ]
    },
    {
      "cell_type": "markdown",
      "metadata": {
        "id": "nzCzTfhaWDK5",
        "colab_type": "text"
      },
      "source": [
        "\n",
        "\n",
        "> Classes like 208, 129, and 51 turn out to be outliers, since it is not psiible for a taxi to carry. These instances should be removed.\n",
        "\n"
      ]
    },
    {
      "cell_type": "code",
      "metadata": {
        "id": "wEC0mWgnWaIk",
        "colab_type": "code",
        "colab": {}
      },
      "source": [
        "passenger_count_to_drop = data.loc[(data.passenger_count==208) | (data.passenger_count==129) | (data.passenger_count==9) | (data.passenger_count==51) | \n",
        "                                   (data.passenger_count==0)].index\n",
        "data.drop(passenger_count_to_drop, axis = 0, inplace = True)"
      ],
      "execution_count": 0,
      "outputs": []
    },
    {
      "cell_type": "code",
      "metadata": {
        "id": "whr1ImCQXgTx",
        "colab_type": "code",
        "colab": {
          "base_uri": "https://localhost:8080/",
          "height": 51
        },
        "outputId": "f73b8112-5194-4224-a131-042a0198e1be"
      },
      "source": [
        "# we remove these outliers from our dataset\n",
        "print('Old size: %d' % len(data))\n",
        "data = data[data.fare_amount>=0]\n",
        "print('New size: %d' % len(data))"
      ],
      "execution_count": 14,
      "outputs": [
        {
          "output_type": "stream",
          "text": [
            "Old size: 4982140\n",
            "New size: 4982140\n"
          ],
          "name": "stdout"
        }
      ]
    },
    {
      "cell_type": "code",
      "metadata": {
        "id": "Jv3NwyrsXuJv",
        "colab_type": "code",
        "colab": {
          "base_uri": "https://localhost:8080/",
          "height": 384
        },
        "outputId": "4390c41d-4b6b-4353-88eb-6a23b3571ff2"
      },
      "source": [
        "# Class distribution of passenger_count\n",
        "fig, ax = plt.subplots(figsize = (14,6))\n",
        "class_dist = data.passenger_count.value_counts()\n",
        "class_dist.plot(kind = 'bar', ax = ax)\n",
        "ax.set_title('Class distribution of passenger_count')\n",
        "ax.set_ylabel('absolute frequency')\n",
        "plt.show()"
      ],
      "execution_count": 15,
      "outputs": [
        {
          "output_type": "display_data",
          "data": {
            "image/png": "[encoded data removed]",
            "text/plain": [
              "<Figure size 1008x432 with 1 Axes>"
            ]
          },
          "metadata": {
            "tags": [],
            "needs_background": "light"
          }
        }
      ]
    },
    {
      "cell_type": "markdown",
      "metadata": {
        "id": "8AIJa92pX88t",
        "colab_type": "text"
      },
      "source": [
        "\n",
        "\n",
        "> - So as we can see performing univariate analysis helps us detect  and remove outliers in our dataset.\n",
        "> - You can deduce other conclusions by exploring dataset.\n",
        "\n"
      ]
    },
    {
      "cell_type": "markdown",
      "metadata": {
        "id": "6Cm9-MigrgOw",
        "colab_type": "text"
      },
      "source": [
        "### 8. Feature Engineering"
      ]
    },
    {
      "cell_type": "code",
      "metadata": {
        "id": "3npV2MZ2sdjj",
        "colab_type": "code",
        "colab": {}
      },
      "source": [
        "# Convert lons and lats into cartesian coordinates. Assume the earth as sphere not ellipsoid\n",
        "R = 6371000 # Approximate mean radius of earth (in m)\n",
        " # lons and lats must be in radians\n",
        "lon1,lat1,lon2,lat2 = map(np.radians, [data.pickup_longitude, data.pickup_latitude, data.dropoff_longitude, data.dropoff_latitude])\n",
        "\n",
        "data['pickup_x'] = R*np.cos(lon1)*np.cos(lat1)\n",
        "data['pickup_y'] = R*np.sin(lon1)*np.cos(lat1)\n",
        "data['dropoff_x'] = R*np.cos(lon2)*np.cos(lat2)\n",
        "data['dropoff_y'] = R*np.sin(lon2)*np.cos(lat2)\n",
        "\n",
        "# Now calculate the euclidean distance\n",
        "x1 = data['pickup_x']\n",
        "y1 = data['pickup_y']\n",
        "x2 = data['dropoff_x']\n",
        "y2 = data['dropoff_y']\n",
        "data['euclidean_distance'] = (np.sqrt(( x1 - x2)**2 + ( y1 - y2)**2))/1000 # in km"
      ],
      "execution_count": 0,
      "outputs": []
    },
    {
      "cell_type": "code",
      "metadata": {
        "id": "8XYZvyXZu-XQ",
        "colab_type": "code",
        "colab": {}
      },
      "source": [
        "# Create two variables taking absolute differences of lons and lats\n",
        "data['abs_lon_diff'] = np.abs(data.pickup_longitude - data.dropoff_longitude)\n",
        "data['abs_lat_diff'] = np.abs(data.pickup_latitude - data.dropoff_latitude)"
      ],
      "execution_count": 0,
      "outputs": []
    },
    {
      "cell_type": "code",
      "metadata": {
        "id": "xEP7Xk-VvRzJ",
        "colab_type": "code",
        "colab": {}
      },
      "source": [
        "# Extract pickup_hour, day, date, month, and year from pickup_datetime and then drop the field as the format is not supported\n",
        "data['pickup_hour'] = data.pickup_datetime.dt.hour\n",
        "data['pickup_date'] =  data.pickup_datetime.dt.day\n",
        "data['pickup_day_of_week'] =  data.pickup_datetime.dt.dayofweek\n",
        "data['pickup_month'] =  data.pickup_datetime.dt.month\n",
        "data['pickup_year'] =  data.pickup_datetime.dt.year\n",
        "data.drop(['pickup_datetime'], axis = 1, inplace = True)"
      ],
      "execution_count": 0,
      "outputs": []
    },
    {
      "cell_type": "markdown",
      "metadata": {
        "id": "1HzyloFpwwJL",
        "colab_type": "text"
      },
      "source": [
        "### Model Building "
      ]
    },
    {
      "cell_type": "code",
      "metadata": {
        "id": "pJNU99P9avGE",
        "colab_type": "code",
        "colab": {}
      },
      "source": [
        "# split data into train test set into train and test in 70:30 ratio\n",
        "y = data[\"fare_amount\"]\n",
        "X = data.drop([\"fare_amount\"], axis=1)\n",
        "\n",
        "X_train, X_test, y_train, y_test = train_test_split(X, y, test_size = 0.30, random_state = 42)"
      ],
      "execution_count": 0,
      "outputs": []
    },
    {
      "cell_type": "code",
      "metadata": {
        "id": "20MIifLsiWMJ",
        "colab_type": "code",
        "colab": {
          "base_uri": "https://localhost:8080/",
          "height": 340
        },
        "outputId": "db150fb2-303a-4bca-886d-5d0e35e27b6d"
      },
      "source": [
        "X_train.dtypes"
      ],
      "execution_count": 20,
      "outputs": [
        {
          "output_type": "execute_result",
          "data": {
            "text/plain": [
              "Unnamed: 0              int64\n",
              "pickup_longitude      float64\n",
              "pickup_latitude       float64\n",
              "dropoff_longitude     float64\n",
              "dropoff_latitude      float64\n",
              "passenger_count         int64\n",
              "pickup_x              float64\n",
              "pickup_y              float64\n",
              "dropoff_x             float64\n",
              "dropoff_y             float64\n",
              "euclidean_distance    float64\n",
              "abs_lon_diff          float64\n",
              "abs_lat_diff          float64\n",
              "pickup_hour             int64\n",
              "pickup_date             int64\n",
              "pickup_day_of_week      int64\n",
              "pickup_month            int64\n",
              "pickup_year             int64\n",
              "dtype: object"
            ]
          },
          "metadata": {
            "tags": []
          },
          "execution_count": 20
        }
      ]
    },
    {
      "cell_type": "code",
      "metadata": {
        "id": "jTGZP15MiZIJ",
        "colab_type": "code",
        "colab": {
          "base_uri": "https://localhost:8080/",
          "height": 34
        },
        "outputId": "e08ba0d2-c65b-4fc3-f631-703d7d831162"
      },
      "source": [
        "y_train.dtypes"
      ],
      "execution_count": 21,
      "outputs": [
        {
          "output_type": "execute_result",
          "data": {
            "text/plain": [
              "dtype('float64')"
            ]
          },
          "metadata": {
            "tags": []
          },
          "execution_count": 21
        }
      ]
    },
    {
      "cell_type": "code",
      "metadata": {
        "id": "kmj_sa4UxiAl",
        "colab_type": "code",
        "colab": {}
      },
      "source": [
        "# Train and predict using linear regression\n",
        "\n",
        "linear_reg = LinearRegression()\n",
        "\n",
        "# Train with the objt\n",
        "linear_reg.fit(X_train, y_train)\n",
        "\n",
        "# Make prediction\n",
        "y_pred = linear_reg.predict(X_test)"
      ],
      "execution_count": 0,
      "outputs": []
    },
    {
      "cell_type": "markdown",
      "metadata": {
        "id": "dXahsf8axzcl",
        "colab_type": "text"
      },
      "source": [
        "### Cost Funtion\n",
        "- To evaluate performnace of the model and optimize it\n",
        "- We apply different Loss Functions as learned and compare."
      ]
    },
    {
      "cell_type": "markdown",
      "metadata": {
        "id": "Y8H5tTf8JdOG",
        "colab_type": "text"
      },
      "source": [
        "#### Mean Squared Error"
      ]
    },
    {
      "cell_type": "code",
      "metadata": {
        "id": "hxrSw_rTeBKQ",
        "colab_type": "code",
        "colab": {
          "base_uri": "https://localhost:8080/",
          "height": 34
        },
        "outputId": "0e74db69-3f89-4495-f402-d140b20185c9"
      },
      "source": [
        "mean_squared_error(y_test, y_pred)"
      ],
      "execution_count": 23,
      "outputs": [
        {
          "output_type": "execute_result",
          "data": {
            "text/plain": [
              "96.45338376786233"
            ]
          },
          "metadata": {
            "tags": []
          },
          "execution_count": 23
        }
      ]
    },
    {
      "cell_type": "markdown",
      "metadata": {
        "id": "7KEbVGroJkx9",
        "colab_type": "text"
      },
      "source": [
        "#### Root Mean Squared Error"
      ]
    },
    {
      "cell_type": "code",
      "metadata": {
        "id": "YJDglR0UMGWA",
        "colab_type": "code",
        "colab": {
          "base_uri": "https://localhost:8080/",
          "height": 34
        },
        "outputId": "a5b068ba-944d-49cc-8e88-f3d0be9cdba9"
      },
      "source": [
        "np.sqrt(mean_squared_error(y_test, y_pred))"
      ],
      "execution_count": 24,
      "outputs": [
        {
          "output_type": "execute_result",
          "data": {
            "text/plain": [
              "9.82106836183632"
            ]
          },
          "metadata": {
            "tags": []
          },
          "execution_count": 24
        }
      ]
    }
  ]
}