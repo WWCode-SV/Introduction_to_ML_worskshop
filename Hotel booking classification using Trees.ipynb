{
 "cells": [
  {
   "cell_type": "markdown",
   "metadata": {},
   "source": [
    "In this notebook we will build a classification model using DecisionTrees and Random forest classifier from python's scikit learn library"
   ]
  },
  {
   "cell_type": "markdown",
   "metadata": {},
   "source": [
    "## Table of contents\n",
    "1. Data Loading\n",
    "2. Data Exploration\n",
    "3. Visualization\n",
    "4. Preprocessing\n",
    "5. Decision Trees and hyperparameter analysis \n",
    "5. Random Forest\n",
    "6. Model comparision using ROC curve"
   ]
  },
  {
   "cell_type": "markdown",
   "metadata": {},
   "source": [
    "## Loading Data"
   ]
  },
  {
   "cell_type": "markdown",
   "metadata": {},
   "source": [
    "In this section we will import all the necessary packages and load the datasets we plan to work on. We will use the \n",
    "<a href='https://www.kaggle.com/jessemostipak/hotel-booking-demand'> Hotel booking data </a> and build a model to determine which customers will cancel their hotel booking"
   ]
  },
  {
   "cell_type": "code",
   "execution_count": 113,
   "metadata": {},
   "outputs": [],
   "source": [
    "import numpy as np\n",
    "import pandas as pd\n",
    "import seaborn as sns\n",
    "import matplotlib.pyplot as plt\n",
    "from sklearn.tree import DecisionTreeClassifier\n",
    "from sklearn.ensemble import RandomForestClassifier\n",
    "from sklearn.naive_bayes import GaussianNB\n",
    "from sklearn.model_selection import train_test_split\n",
    "from sklearn import metrics\n",
    "from sklearn.preprocessing import LabelEncoder\n",
    "from sklearn.metrics import recall_score, precision_score, accuracy_score, f1_score\n",
    "from sklearn.metrics import confusion_matrix,auc,roc_auc_score,roc_curve"
   ]
  },
  {
   "cell_type": "code",
   "execution_count": 3,
   "metadata": {},
   "outputs": [],
   "source": [
    "# Load the data\n",
    "file_path = 'C:\\Users\\Tejal\\Documents\\Tejal\\WWC-siliconvalley\\hotel_bookings.csv'\n",
    "df = pd.read_csv(file_path)"
   ]
  },
  {
   "cell_type": "markdown",
   "metadata": {},
   "source": [
    "## Explore the dataset"
   ]
  },
  {
   "cell_type": "markdown",
   "metadata": {},
   "source": [
    "Understanding the data, its features and distribution is a major part of builiding ML models. "
   ]
  },
  {
   "cell_type": "code",
   "execution_count": 251,
   "metadata": {},
   "outputs": [
    {
     "data": {
      "text/html": [
       "<div>\n",
       "<style scoped>\n",
       "    .dataframe tbody tr th:only-of-type {\n",
       "        vertical-align: middle;\n",
       "    }\n",
       "\n",
       "    .dataframe tbody tr th {\n",
       "        vertical-align: top;\n",
       "    }\n",
       "\n",
       "    .dataframe thead th {\n",
       "        text-align: right;\n",
       "    }\n",
       "</style>\n",
       "<table border=\"1\" class=\"dataframe\">\n",
       "  <thead>\n",
       "    <tr style=\"text-align: right;\">\n",
       "      <th></th>\n",
       "      <th>hotel</th>\n",
       "      <th>is_canceled</th>\n",
       "      <th>lead_time</th>\n",
       "      <th>arrival_date_year</th>\n",
       "      <th>arrival_date_week_number</th>\n",
       "      <th>arrival_date_day_of_month</th>\n",
       "      <th>stays_in_weekend_nights</th>\n",
       "      <th>stays_in_week_nights</th>\n",
       "      <th>meal</th>\n",
       "      <th>distribution_channel</th>\n",
       "      <th>is_repeated_guest</th>\n",
       "      <th>assigned_room_type</th>\n",
       "      <th>booking_changes</th>\n",
       "      <th>deposit_type</th>\n",
       "      <th>days_in_waiting_list</th>\n",
       "      <th>customer_type</th>\n",
       "      <th>adr</th>\n",
       "      <th>required_car_parking_spaces</th>\n",
       "      <th>total_of_special_requests</th>\n",
       "      <th>total_customers</th>\n",
       "    </tr>\n",
       "  </thead>\n",
       "  <tbody>\n",
       "    <tr>\n",
       "      <th>0</th>\n",
       "      <td>1</td>\n",
       "      <td>0</td>\n",
       "      <td>342</td>\n",
       "      <td>0</td>\n",
       "      <td>27</td>\n",
       "      <td>1</td>\n",
       "      <td>0</td>\n",
       "      <td>0</td>\n",
       "      <td>0</td>\n",
       "      <td>1</td>\n",
       "      <td>0</td>\n",
       "      <td>2</td>\n",
       "      <td>3</td>\n",
       "      <td>0</td>\n",
       "      <td>0</td>\n",
       "      <td>2</td>\n",
       "      <td>0.0</td>\n",
       "      <td>0</td>\n",
       "      <td>0</td>\n",
       "      <td>2.0</td>\n",
       "    </tr>\n",
       "    <tr>\n",
       "      <th>1</th>\n",
       "      <td>1</td>\n",
       "      <td>0</td>\n",
       "      <td>737</td>\n",
       "      <td>0</td>\n",
       "      <td>27</td>\n",
       "      <td>1</td>\n",
       "      <td>0</td>\n",
       "      <td>0</td>\n",
       "      <td>0</td>\n",
       "      <td>1</td>\n",
       "      <td>0</td>\n",
       "      <td>2</td>\n",
       "      <td>4</td>\n",
       "      <td>0</td>\n",
       "      <td>0</td>\n",
       "      <td>2</td>\n",
       "      <td>0.0</td>\n",
       "      <td>0</td>\n",
       "      <td>0</td>\n",
       "      <td>2.0</td>\n",
       "    </tr>\n",
       "    <tr>\n",
       "      <th>2</th>\n",
       "      <td>1</td>\n",
       "      <td>0</td>\n",
       "      <td>7</td>\n",
       "      <td>0</td>\n",
       "      <td>27</td>\n",
       "      <td>1</td>\n",
       "      <td>0</td>\n",
       "      <td>1</td>\n",
       "      <td>0</td>\n",
       "      <td>1</td>\n",
       "      <td>0</td>\n",
       "      <td>2</td>\n",
       "      <td>0</td>\n",
       "      <td>0</td>\n",
       "      <td>0</td>\n",
       "      <td>2</td>\n",
       "      <td>75.0</td>\n",
       "      <td>0</td>\n",
       "      <td>0</td>\n",
       "      <td>1.0</td>\n",
       "    </tr>\n",
       "    <tr>\n",
       "      <th>3</th>\n",
       "      <td>1</td>\n",
       "      <td>0</td>\n",
       "      <td>13</td>\n",
       "      <td>0</td>\n",
       "      <td>27</td>\n",
       "      <td>1</td>\n",
       "      <td>0</td>\n",
       "      <td>1</td>\n",
       "      <td>0</td>\n",
       "      <td>0</td>\n",
       "      <td>0</td>\n",
       "      <td>0</td>\n",
       "      <td>0</td>\n",
       "      <td>0</td>\n",
       "      <td>0</td>\n",
       "      <td>2</td>\n",
       "      <td>75.0</td>\n",
       "      <td>0</td>\n",
       "      <td>0</td>\n",
       "      <td>1.0</td>\n",
       "    </tr>\n",
       "    <tr>\n",
       "      <th>4</th>\n",
       "      <td>1</td>\n",
       "      <td>0</td>\n",
       "      <td>14</td>\n",
       "      <td>0</td>\n",
       "      <td>27</td>\n",
       "      <td>1</td>\n",
       "      <td>0</td>\n",
       "      <td>2</td>\n",
       "      <td>0</td>\n",
       "      <td>3</td>\n",
       "      <td>0</td>\n",
       "      <td>0</td>\n",
       "      <td>0</td>\n",
       "      <td>0</td>\n",
       "      <td>0</td>\n",
       "      <td>2</td>\n",
       "      <td>98.0</td>\n",
       "      <td>0</td>\n",
       "      <td>1</td>\n",
       "      <td>2.0</td>\n",
       "    </tr>\n",
       "  </tbody>\n",
       "</table>\n",
       "</div>"
      ],
      "text/plain": [
       "   hotel  is_canceled  lead_time  arrival_date_year  arrival_date_week_number  \\\n",
       "0      1            0        342                  0                        27   \n",
       "1      1            0        737                  0                        27   \n",
       "2      1            0          7                  0                        27   \n",
       "3      1            0         13                  0                        27   \n",
       "4      1            0         14                  0                        27   \n",
       "\n",
       "   arrival_date_day_of_month  stays_in_weekend_nights  stays_in_week_nights  \\\n",
       "0                          1                        0                     0   \n",
       "1                          1                        0                     0   \n",
       "2                          1                        0                     1   \n",
       "3                          1                        0                     1   \n",
       "4                          1                        0                     2   \n",
       "\n",
       "   meal  distribution_channel  is_repeated_guest  assigned_room_type  \\\n",
       "0     0                     1                  0                   2   \n",
       "1     0                     1                  0                   2   \n",
       "2     0                     1                  0                   2   \n",
       "3     0                     0                  0                   0   \n",
       "4     0                     3                  0                   0   \n",
       "\n",
       "   booking_changes  deposit_type  days_in_waiting_list  customer_type   adr  \\\n",
       "0                3             0                     0              2   0.0   \n",
       "1                4             0                     0              2   0.0   \n",
       "2                0             0                     0              2  75.0   \n",
       "3                0             0                     0              2  75.0   \n",
       "4                0             0                     0              2  98.0   \n",
       "\n",
       "   required_car_parking_spaces  total_of_special_requests  total_customers  \n",
       "0                            0                          0              2.0  \n",
       "1                            0                          0              2.0  \n",
       "2                            0                          0              1.0  \n",
       "3                            0                          0              1.0  \n",
       "4                            0                          1              2.0  "
      ]
     },
     "execution_count": 251,
     "metadata": {},
     "output_type": "execute_result"
    }
   ],
   "source": [
    "df.head()"
   ]
  },
  {
   "cell_type": "code",
   "execution_count": 4,
   "metadata": {},
   "outputs": [
    {
     "data": {
      "text/plain": [
       "(119390, 32)"
      ]
     },
     "execution_count": 4,
     "metadata": {},
     "output_type": "execute_result"
    }
   ],
   "source": [
    "# Data has 119390 rows (data points) and 32 columns (features)\n",
    "df.shape   "
   ]
  },
  {
   "cell_type": "code",
   "execution_count": 6,
   "metadata": {},
   "outputs": [
    {
     "data": {
      "text/plain": [
       "hotel                              object\n",
       "is_canceled                         int64\n",
       "lead_time                           int64\n",
       "arrival_date_year                   int64\n",
       "arrival_date_month                 object\n",
       "arrival_date_week_number            int64\n",
       "arrival_date_day_of_month           int64\n",
       "stays_in_weekend_nights             int64\n",
       "stays_in_week_nights                int64\n",
       "adults                              int64\n",
       "children                          float64\n",
       "babies                              int64\n",
       "meal                               object\n",
       "country                            object\n",
       "market_segment                     object\n",
       "distribution_channel               object\n",
       "is_repeated_guest                   int64\n",
       "previous_cancellations              int64\n",
       "previous_bookings_not_canceled      int64\n",
       "reserved_room_type                 object\n",
       "assigned_room_type                 object\n",
       "booking_changes                     int64\n",
       "deposit_type                       object\n",
       "agent                             float64\n",
       "company                           float64\n",
       "days_in_waiting_list                int64\n",
       "customer_type                      object\n",
       "adr                               float64\n",
       "required_car_parking_spaces         int64\n",
       "total_of_special_requests           int64\n",
       "reservation_status                 object\n",
       "reservation_status_date            object\n",
       "dtype: object"
      ]
     },
     "execution_count": 6,
     "metadata": {},
     "output_type": "execute_result"
    }
   ],
   "source": [
    "# Check the datatype of features\n",
    "df.dtypes"
   ]
  },
  {
   "cell_type": "code",
   "execution_count": 7,
   "metadata": {},
   "outputs": [
    {
     "data": {
      "text/plain": [
       "Index([u'hotel', u'is_canceled', u'lead_time', u'arrival_date_year',\n",
       "       u'arrival_date_month', u'arrival_date_week_number',\n",
       "       u'arrival_date_day_of_month', u'stays_in_weekend_nights',\n",
       "       u'stays_in_week_nights', u'adults', u'children', u'babies', u'meal',\n",
       "       u'country', u'market_segment', u'distribution_channel',\n",
       "       u'is_repeated_guest', u'previous_cancellations',\n",
       "       u'previous_bookings_not_canceled', u'reserved_room_type',\n",
       "       u'assigned_room_type', u'booking_changes', u'deposit_type', u'agent',\n",
       "       u'company', u'days_in_waiting_list', u'customer_type', u'adr',\n",
       "       u'required_car_parking_spaces', u'total_of_special_requests',\n",
       "       u'reservation_status', u'reservation_status_date'],\n",
       "      dtype='object')"
      ]
     },
     "execution_count": 7,
     "metadata": {},
     "output_type": "execute_result"
    }
   ],
   "source": [
    "# Feature list \n",
    "df.columns"
   ]
  },
  {
   "cell_type": "code",
   "execution_count": 10,
   "metadata": {},
   "outputs": [
    {
     "data": {
      "text/html": [
       "<div>\n",
       "<style scoped>\n",
       "    .dataframe tbody tr th:only-of-type {\n",
       "        vertical-align: middle;\n",
       "    }\n",
       "\n",
       "    .dataframe tbody tr th {\n",
       "        vertical-align: top;\n",
       "    }\n",
       "\n",
       "    .dataframe thead th {\n",
       "        text-align: right;\n",
       "    }\n",
       "</style>\n",
       "<table border=\"1\" class=\"dataframe\">\n",
       "  <thead>\n",
       "    <tr style=\"text-align: right;\">\n",
       "      <th></th>\n",
       "      <th>column_name</th>\n",
       "      <th>percent_missing</th>\n",
       "    </tr>\n",
       "  </thead>\n",
       "  <tbody>\n",
       "    <tr>\n",
       "      <th>company</th>\n",
       "      <td>company</td>\n",
       "      <td>94.306893</td>\n",
       "    </tr>\n",
       "    <tr>\n",
       "      <th>agent</th>\n",
       "      <td>agent</td>\n",
       "      <td>13.686238</td>\n",
       "    </tr>\n",
       "    <tr>\n",
       "      <th>country</th>\n",
       "      <td>country</td>\n",
       "      <td>0.408744</td>\n",
       "    </tr>\n",
       "    <tr>\n",
       "      <th>children</th>\n",
       "      <td>children</td>\n",
       "      <td>0.003350</td>\n",
       "    </tr>\n",
       "    <tr>\n",
       "      <th>reserved_room_type</th>\n",
       "      <td>reserved_room_type</td>\n",
       "      <td>0.000000</td>\n",
       "    </tr>\n",
       "    <tr>\n",
       "      <th>assigned_room_type</th>\n",
       "      <td>assigned_room_type</td>\n",
       "      <td>0.000000</td>\n",
       "    </tr>\n",
       "    <tr>\n",
       "      <th>booking_changes</th>\n",
       "      <td>booking_changes</td>\n",
       "      <td>0.000000</td>\n",
       "    </tr>\n",
       "    <tr>\n",
       "      <th>deposit_type</th>\n",
       "      <td>deposit_type</td>\n",
       "      <td>0.000000</td>\n",
       "    </tr>\n",
       "    <tr>\n",
       "      <th>hotel</th>\n",
       "      <td>hotel</td>\n",
       "      <td>0.000000</td>\n",
       "    </tr>\n",
       "    <tr>\n",
       "      <th>previous_cancellations</th>\n",
       "      <td>previous_cancellations</td>\n",
       "      <td>0.000000</td>\n",
       "    </tr>\n",
       "    <tr>\n",
       "      <th>days_in_waiting_list</th>\n",
       "      <td>days_in_waiting_list</td>\n",
       "      <td>0.000000</td>\n",
       "    </tr>\n",
       "    <tr>\n",
       "      <th>customer_type</th>\n",
       "      <td>customer_type</td>\n",
       "      <td>0.000000</td>\n",
       "    </tr>\n",
       "    <tr>\n",
       "      <th>adr</th>\n",
       "      <td>adr</td>\n",
       "      <td>0.000000</td>\n",
       "    </tr>\n",
       "    <tr>\n",
       "      <th>required_car_parking_spaces</th>\n",
       "      <td>required_car_parking_spaces</td>\n",
       "      <td>0.000000</td>\n",
       "    </tr>\n",
       "    <tr>\n",
       "      <th>total_of_special_requests</th>\n",
       "      <td>total_of_special_requests</td>\n",
       "      <td>0.000000</td>\n",
       "    </tr>\n",
       "    <tr>\n",
       "      <th>reservation_status</th>\n",
       "      <td>reservation_status</td>\n",
       "      <td>0.000000</td>\n",
       "    </tr>\n",
       "    <tr>\n",
       "      <th>previous_bookings_not_canceled</th>\n",
       "      <td>previous_bookings_not_canceled</td>\n",
       "      <td>0.000000</td>\n",
       "    </tr>\n",
       "    <tr>\n",
       "      <th>is_repeated_guest</th>\n",
       "      <td>is_repeated_guest</td>\n",
       "      <td>0.000000</td>\n",
       "    </tr>\n",
       "    <tr>\n",
       "      <th>is_canceled</th>\n",
       "      <td>is_canceled</td>\n",
       "      <td>0.000000</td>\n",
       "    </tr>\n",
       "    <tr>\n",
       "      <th>distribution_channel</th>\n",
       "      <td>distribution_channel</td>\n",
       "      <td>0.000000</td>\n",
       "    </tr>\n",
       "    <tr>\n",
       "      <th>market_segment</th>\n",
       "      <td>market_segment</td>\n",
       "      <td>0.000000</td>\n",
       "    </tr>\n",
       "    <tr>\n",
       "      <th>meal</th>\n",
       "      <td>meal</td>\n",
       "      <td>0.000000</td>\n",
       "    </tr>\n",
       "    <tr>\n",
       "      <th>babies</th>\n",
       "      <td>babies</td>\n",
       "      <td>0.000000</td>\n",
       "    </tr>\n",
       "    <tr>\n",
       "      <th>adults</th>\n",
       "      <td>adults</td>\n",
       "      <td>0.000000</td>\n",
       "    </tr>\n",
       "    <tr>\n",
       "      <th>stays_in_week_nights</th>\n",
       "      <td>stays_in_week_nights</td>\n",
       "      <td>0.000000</td>\n",
       "    </tr>\n",
       "    <tr>\n",
       "      <th>stays_in_weekend_nights</th>\n",
       "      <td>stays_in_weekend_nights</td>\n",
       "      <td>0.000000</td>\n",
       "    </tr>\n",
       "    <tr>\n",
       "      <th>arrival_date_day_of_month</th>\n",
       "      <td>arrival_date_day_of_month</td>\n",
       "      <td>0.000000</td>\n",
       "    </tr>\n",
       "    <tr>\n",
       "      <th>arrival_date_week_number</th>\n",
       "      <td>arrival_date_week_number</td>\n",
       "      <td>0.000000</td>\n",
       "    </tr>\n",
       "    <tr>\n",
       "      <th>arrival_date_month</th>\n",
       "      <td>arrival_date_month</td>\n",
       "      <td>0.000000</td>\n",
       "    </tr>\n",
       "    <tr>\n",
       "      <th>arrival_date_year</th>\n",
       "      <td>arrival_date_year</td>\n",
       "      <td>0.000000</td>\n",
       "    </tr>\n",
       "    <tr>\n",
       "      <th>lead_time</th>\n",
       "      <td>lead_time</td>\n",
       "      <td>0.000000</td>\n",
       "    </tr>\n",
       "    <tr>\n",
       "      <th>reservation_status_date</th>\n",
       "      <td>reservation_status_date</td>\n",
       "      <td>0.000000</td>\n",
       "    </tr>\n",
       "  </tbody>\n",
       "</table>\n",
       "</div>"
      ],
      "text/plain": [
       "                                                   column_name  \\\n",
       "company                                                company   \n",
       "agent                                                    agent   \n",
       "country                                                country   \n",
       "children                                              children   \n",
       "reserved_room_type                          reserved_room_type   \n",
       "assigned_room_type                          assigned_room_type   \n",
       "booking_changes                                booking_changes   \n",
       "deposit_type                                      deposit_type   \n",
       "hotel                                                    hotel   \n",
       "previous_cancellations                  previous_cancellations   \n",
       "days_in_waiting_list                      days_in_waiting_list   \n",
       "customer_type                                    customer_type   \n",
       "adr                                                        adr   \n",
       "required_car_parking_spaces        required_car_parking_spaces   \n",
       "total_of_special_requests            total_of_special_requests   \n",
       "reservation_status                          reservation_status   \n",
       "previous_bookings_not_canceled  previous_bookings_not_canceled   \n",
       "is_repeated_guest                            is_repeated_guest   \n",
       "is_canceled                                        is_canceled   \n",
       "distribution_channel                      distribution_channel   \n",
       "market_segment                                  market_segment   \n",
       "meal                                                      meal   \n",
       "babies                                                  babies   \n",
       "adults                                                  adults   \n",
       "stays_in_week_nights                      stays_in_week_nights   \n",
       "stays_in_weekend_nights                stays_in_weekend_nights   \n",
       "arrival_date_day_of_month            arrival_date_day_of_month   \n",
       "arrival_date_week_number              arrival_date_week_number   \n",
       "arrival_date_month                          arrival_date_month   \n",
       "arrival_date_year                            arrival_date_year   \n",
       "lead_time                                            lead_time   \n",
       "reservation_status_date                reservation_status_date   \n",
       "\n",
       "                                percent_missing  \n",
       "company                               94.306893  \n",
       "agent                                 13.686238  \n",
       "country                                0.408744  \n",
       "children                               0.003350  \n",
       "reserved_room_type                     0.000000  \n",
       "assigned_room_type                     0.000000  \n",
       "booking_changes                        0.000000  \n",
       "deposit_type                           0.000000  \n",
       "hotel                                  0.000000  \n",
       "previous_cancellations                 0.000000  \n",
       "days_in_waiting_list                   0.000000  \n",
       "customer_type                          0.000000  \n",
       "adr                                    0.000000  \n",
       "required_car_parking_spaces            0.000000  \n",
       "total_of_special_requests              0.000000  \n",
       "reservation_status                     0.000000  \n",
       "previous_bookings_not_canceled         0.000000  \n",
       "is_repeated_guest                      0.000000  \n",
       "is_canceled                            0.000000  \n",
       "distribution_channel                   0.000000  \n",
       "market_segment                         0.000000  \n",
       "meal                                   0.000000  \n",
       "babies                                 0.000000  \n",
       "adults                                 0.000000  \n",
       "stays_in_week_nights                   0.000000  \n",
       "stays_in_weekend_nights                0.000000  \n",
       "arrival_date_day_of_month              0.000000  \n",
       "arrival_date_week_number               0.000000  \n",
       "arrival_date_month                     0.000000  \n",
       "arrival_date_year                      0.000000  \n",
       "lead_time                              0.000000  \n",
       "reservation_status_date                0.000000  "
      ]
     },
     "execution_count": 10,
     "metadata": {},
     "output_type": "execute_result"
    }
   ],
   "source": [
    "# Check for null values\n",
    "percent_missing = df.isnull().sum() * 100 / len(df)\n",
    "missing_value_df = pd.DataFrame({'column_name': df.columns,\n",
    "                                 'percent_missing': percent_missing})\n",
    "missing_value_df.sort_values('percent_missing', ascending=False,inplace=True)\n",
    "missing_value_df"
   ]
  },
  {
   "cell_type": "markdown",
   "metadata": {},
   "source": [
    "Company, agent, country and children have null values. There are multiple techniques for imputing null value but for simplicity we impute them with 0. As company has a very high null value percentage we will drop the column"
   ]
  },
  {
   "cell_type": "code",
   "execution_count": 4,
   "metadata": {},
   "outputs": [],
   "source": [
    "# Let us create a copy of dataframe for backup and impute null with 0\n",
    "backup_df=df.copy\n",
    "df = df.drop('company',axis=1)\n",
    "df=df.fillna(0)"
   ]
  },
  {
   "cell_type": "code",
   "execution_count": 5,
   "metadata": {},
   "outputs": [
    {
     "data": {
      "text/plain": [
       "0"
      ]
     },
     "execution_count": 5,
     "metadata": {},
     "output_type": "execute_result"
    }
   ],
   "source": [
    "# The df has no Null values\n",
    "(df['agent'].isnull().sum()/len(df)) * 100"
   ]
  },
  {
   "cell_type": "markdown",
   "metadata": {},
   "source": [
    "## Data Visualization"
   ]
  },
  {
   "cell_type": "markdown",
   "metadata": {},
   "source": [
    "In this task, our target variable is is_cancelled which indicates if the booking was cancelled. 1 --> canceled, 0 --> Not canceled "
   ]
  },
  {
   "cell_type": "code",
   "execution_count": 15,
   "metadata": {},
   "outputs": [
    {
     "data": {
      "text/plain": [
       "<matplotlib.axes._subplots.AxesSubplot at 0xedb4b38>"
      ]
     },
     "execution_count": 15,
     "metadata": {},
     "output_type": "execute_result"
    },
    {
     "data": {
      "image/png": "[encoded data removed]",
      "text/plain": [
       "<Figure size 432x288 with 1 Axes>"
      ]
     },
     "metadata": {},
     "output_type": "display_data"
    }
   ],
   "source": [
    "df['is_canceled'].value_counts().plot(kind='pie',autopct='%1.1f%%')"
   ]
  },
  {
   "cell_type": "markdown",
   "metadata": {},
   "source": [
    "37% customers have cancelled their bookings. we see that our data in imbalanced"
   ]
  },
  {
   "cell_type": "code",
   "execution_count": 35,
   "metadata": {},
   "outputs": [
    {
     "data": {
      "text/plain": [
       "Index([u'hotel', u'is_canceled', u'lead_time', u'arrival_date_year',\n",
       "       u'arrival_date_month', u'arrival_date_week_number',\n",
       "       u'arrival_date_day_of_month', u'stays_in_weekend_nights',\n",
       "       u'stays_in_week_nights', u'adults', u'children', u'babies', u'meal',\n",
       "       u'country', u'market_segment', u'distribution_channel',\n",
       "       u'is_repeated_guest', u'previous_cancellations',\n",
       "       u'previous_bookings_not_canceled', u'reserved_room_type',\n",
       "       u'assigned_room_type', u'booking_changes', u'deposit_type', u'agent',\n",
       "       u'days_in_waiting_list', u'customer_type', u'adr',\n",
       "       u'required_car_parking_spaces', u'total_of_special_requests',\n",
       "       u'reservation_status', u'reservation_status_date'],\n",
       "      dtype='object')"
      ]
     },
     "execution_count": 35,
     "metadata": {},
     "output_type": "execute_result"
    }
   ],
   "source": [
    "df.columns"
   ]
  },
  {
   "cell_type": "code",
   "execution_count": 37,
   "metadata": {},
   "outputs": [
    {
     "data": {
      "text/plain": [
       "<matplotlib.axes._subplots.AxesSubplot at 0xe400550>"
      ]
     },
     "execution_count": 37,
     "metadata": {},
     "output_type": "execute_result"
    },
    {
     "data": {
      "image/png": "[encoded data removed]",
      "text/plain": [
       "<Figure size 432x288 with 1 Axes>"
      ]
     },
     "metadata": {},
     "output_type": "display_data"
    }
   ],
   "source": [
    "# Hotel feature count and distribution across 0 and 1 class \n",
    "df['hotel'].value_counts().plot(kind='pie',autopct='%1.1f%%')"
   ]
  },
  {
   "cell_type": "code",
   "execution_count": 36,
   "metadata": {},
   "outputs": [
    {
     "data": {
      "text/plain": [
       "<matplotlib.axes._subplots.AxesSubplot at 0x111c07f0>"
      ]
     },
     "execution_count": 36,
     "metadata": {},
     "output_type": "execute_result"
    },
    {
     "data": {
      "image/png": "[encoded data removed]",
      "text/plain": [
       "<Figure size 432x288 with 1 Axes>"
      ]
     },
     "metadata": {
      "needs_background": "light"
     },
     "output_type": "display_data"
    }
   ],
   "source": [
    "sns.countplot(x='is_canceled',hue='hotel',data=df)"
   ]
  },
  {
   "cell_type": "markdown",
   "metadata": {},
   "source": [
    "As data has higher city hotel reservation data points compared to resort, above observation is on par with  same trend"
   ]
  },
  {
   "cell_type": "code",
   "execution_count": 38,
   "metadata": {},
   "outputs": [
    {
     "data": {
      "text/plain": [
       "<matplotlib.axes._subplots.AxesSubplot at 0xeabe0b8>"
      ]
     },
     "execution_count": 38,
     "metadata": {},
     "output_type": "execute_result"
    },
    {
     "data": {
      "image/png": "[encoded data removed]",
      "text/plain": [
       "<Figure size 432x288 with 1 Axes>"
      ]
     },
     "metadata": {
      "needs_background": "light"
     },
     "output_type": "display_data"
    }
   ],
   "source": [
    "#market segments\n",
    "df.groupby(['market_segment'])['is_canceled'].count().plot(kind='bar')"
   ]
  },
  {
   "cell_type": "markdown",
   "metadata": {},
   "source": [
    "## Feature Engineering"
   ]
  },
  {
   "cell_type": "markdown",
   "metadata": {},
   "source": [
    "1. Derive new features using existing features\n",
    "2. Remove irrelevant features\n",
    "3. Transform existing features\n",
    "4. Encoding categorical variables"
   ]
  },
  {
   "cell_type": "code",
   "execution_count": 6,
   "metadata": {},
   "outputs": [],
   "source": [
    "#Let us add weekend stay and weekday stay days to get total days of stay\n",
    "df['total_days'] = df['stays_in_week_nights'] + df['stays_in_weekend_nights']\n",
    "# drop the weekend stay and weekday stay days features\n",
    "df = df.drop('stays_in_week_nights',axis=1).drop('stays_in_weekend_nights',axis=1)"
   ]
  },
  {
   "cell_type": "code",
   "execution_count": 62,
   "metadata": {},
   "outputs": [
    {
     "data": {
      "image/png": "[encoded data removed]",
      "text/plain": [
       "<Figure size 1440x1440 with 2 Axes>"
      ]
     },
     "metadata": {},
     "output_type": "display_data"
    }
   ],
   "source": [
    "from pylab import *\n",
    "df_0=df[(df['is_canceled']==0)]\n",
    "df_1=df[df['is_canceled']==1]\n",
    "sns.set(rc={\"figure.figsize\": (20, 20)})\n",
    "subplot(2,2,1)\n",
    "ax = sns.distplot(df_0['total_days'], bins=100, color='r')\n",
    "subplot(2,2,2)\n",
    "ax=sns.distplot(df_1['total_days'], bins=100, color='g')"
   ]
  },
  {
   "cell_type": "markdown",
   "metadata": {},
   "source": [
    "Customers who have canaclled had longer stay duration than the rest"
   ]
  },
  {
   "cell_type": "code",
   "execution_count": 7,
   "metadata": {},
   "outputs": [],
   "source": [
    "#Total customers\n",
    "df['total_customers'] = df['adults'] + df['children']+df['babies']\n",
    "df = df.drop('adults',axis=1).drop('children',axis=1).drop('babies',axis=1)"
   ]
  },
  {
   "cell_type": "code",
   "execution_count": 8,
   "metadata": {},
   "outputs": [],
   "source": [
    "df = df.drop(['reservation_status_date'],axis=1)"
   ]
  },
  {
   "cell_type": "code",
   "execution_count": 9,
   "metadata": {},
   "outputs": [],
   "source": [
    "len(df['agent'].unique()) # 334 unique values - Large number of unique agents and it is categorical, difficult to encode\n",
    "df = df.drop('agent',axis=1)"
   ]
  },
  {
   "cell_type": "code",
   "execution_count": 10,
   "metadata": {},
   "outputs": [],
   "source": [
    "len(df['country'].unique()) # 178 countries\n",
    "df = df.drop('country',axis=1)"
   ]
  },
  {
   "cell_type": "code",
   "execution_count": 11,
   "metadata": {},
   "outputs": [],
   "source": [
    "# df['previous_bookings_not_canceled'].value_counts() # We observe that most data has value = 0; hence we drop the feature\n",
    "# df.groupby(['is_canceled'])['previous_bookings_not_canceled'].value_counts() # We observe that data distribution across both class is remains same\n",
    "df = df.drop('previous_bookings_not_canceled',axis=1)"
   ]
  },
  {
   "cell_type": "code",
   "execution_count": 12,
   "metadata": {},
   "outputs": [],
   "source": [
    "# df['previous_cancellations'].value_counts().plot('bar') \n",
    "# df.groupby(['is_canceled'])['previous_cancellations'].value_counts()\n",
    "df = df.drop('previous_cancellations',axis=1)"
   ]
  },
  {
   "cell_type": "code",
   "execution_count": 13,
   "metadata": {},
   "outputs": [
    {
     "data": {
      "text/plain": [
       "23"
      ]
     },
     "execution_count": 13,
     "metadata": {},
     "output_type": "execute_result"
    }
   ],
   "source": [
    "len(df.columns)"
   ]
  },
  {
   "cell_type": "code",
   "execution_count": 14,
   "metadata": {},
   "outputs": [],
   "source": [
    "backup = df.copy()"
   ]
  },
  {
   "cell_type": "code",
   "execution_count": 54,
   "metadata": {},
   "outputs": [],
   "source": [
    "#Custom encoding\n",
    "df['arrival_date_month'] = df['arrival_date_month'].map({'January':1, 'February': 2, 'March':3, \\\n",
    "                                                         'April':4, 'May':5, 'June':6, 'July':7,\\\n",
    "                                                         'August':8, 'September':9, 'October':10, \\\n",
    "                                                         'November':11, 'December':12})"
   ]
  },
  {
   "cell_type": "code",
   "execution_count": 55,
   "metadata": {},
   "outputs": [],
   "source": [
    "encode = LabelEncoder()"
   ]
  },
  {
   "cell_type": "code",
   "execution_count": 154,
   "metadata": {},
   "outputs": [
    {
     "data": {
      "text/plain": [
       "Index([u'hotel', u'is_canceled', u'lead_time', u'arrival_date_year',\n",
       "       u'arrival_date_month', u'arrival_date_week_number',\n",
       "       u'arrival_date_day_of_month', u'stays_in_weekend_nights',\n",
       "       u'stays_in_week_nights', u'meal', u'market_segment',\n",
       "       u'distribution_channel', u'is_repeated_guest', u'reserved_room_type',\n",
       "       u'assigned_room_type', u'booking_changes', u'deposit_type',\n",
       "       u'days_in_waiting_list', u'customer_type', u'adr',\n",
       "       u'required_car_parking_spaces', u'total_of_special_requests',\n",
       "       u'reservation_status', u'total_customers'],\n",
       "      dtype='object')"
      ]
     },
     "execution_count": 154,
     "metadata": {},
     "output_type": "execute_result"
    }
   ],
   "source": [
    "df.columns"
   ]
  },
  {
   "cell_type": "code",
   "execution_count": 56,
   "metadata": {},
   "outputs": [],
   "source": [
    "cat_col=['hotel','arrival_date_year','meal','market_segment','distribution_channel','reserved_room_type', 'assigned_room_type',\\\n",
    "        'deposit_type','customer_type','reservation_status']\n",
    "for i in cat_col:\n",
    "    df[i] = encode.fit_transform(df[i])"
   ]
  },
  {
   "cell_type": "code",
   "execution_count": 18,
   "metadata": {},
   "outputs": [
    {
     "data": {
      "text/html": [
       "<div>\n",
       "<style scoped>\n",
       "    .dataframe tbody tr th:only-of-type {\n",
       "        vertical-align: middle;\n",
       "    }\n",
       "\n",
       "    .dataframe tbody tr th {\n",
       "        vertical-align: top;\n",
       "    }\n",
       "\n",
       "    .dataframe thead th {\n",
       "        text-align: right;\n",
       "    }\n",
       "</style>\n",
       "<table border=\"1\" class=\"dataframe\">\n",
       "  <thead>\n",
       "    <tr style=\"text-align: right;\">\n",
       "      <th></th>\n",
       "      <th>hotel</th>\n",
       "      <th>arrival_date_year</th>\n",
       "      <th>meal</th>\n",
       "      <th>market_segment</th>\n",
       "      <th>distribution_channel</th>\n",
       "      <th>reserved_room_type</th>\n",
       "      <th>assigned_room_type</th>\n",
       "      <th>deposit_type</th>\n",
       "      <th>customer_type</th>\n",
       "      <th>reservation_status</th>\n",
       "    </tr>\n",
       "  </thead>\n",
       "  <tbody>\n",
       "    <tr>\n",
       "      <th>0</th>\n",
       "      <td>1</td>\n",
       "      <td>0</td>\n",
       "      <td>0</td>\n",
       "      <td>3</td>\n",
       "      <td>1</td>\n",
       "      <td>2</td>\n",
       "      <td>2</td>\n",
       "      <td>0</td>\n",
       "      <td>2</td>\n",
       "      <td>1</td>\n",
       "    </tr>\n",
       "    <tr>\n",
       "      <th>1</th>\n",
       "      <td>1</td>\n",
       "      <td>0</td>\n",
       "      <td>0</td>\n",
       "      <td>3</td>\n",
       "      <td>1</td>\n",
       "      <td>2</td>\n",
       "      <td>2</td>\n",
       "      <td>0</td>\n",
       "      <td>2</td>\n",
       "      <td>1</td>\n",
       "    </tr>\n",
       "    <tr>\n",
       "      <th>2</th>\n",
       "      <td>1</td>\n",
       "      <td>0</td>\n",
       "      <td>0</td>\n",
       "      <td>3</td>\n",
       "      <td>1</td>\n",
       "      <td>0</td>\n",
       "      <td>2</td>\n",
       "      <td>0</td>\n",
       "      <td>2</td>\n",
       "      <td>1</td>\n",
       "    </tr>\n",
       "    <tr>\n",
       "      <th>3</th>\n",
       "      <td>1</td>\n",
       "      <td>0</td>\n",
       "      <td>0</td>\n",
       "      <td>2</td>\n",
       "      <td>0</td>\n",
       "      <td>0</td>\n",
       "      <td>0</td>\n",
       "      <td>0</td>\n",
       "      <td>2</td>\n",
       "      <td>1</td>\n",
       "    </tr>\n",
       "    <tr>\n",
       "      <th>4</th>\n",
       "      <td>1</td>\n",
       "      <td>0</td>\n",
       "      <td>0</td>\n",
       "      <td>6</td>\n",
       "      <td>3</td>\n",
       "      <td>0</td>\n",
       "      <td>0</td>\n",
       "      <td>0</td>\n",
       "      <td>2</td>\n",
       "      <td>1</td>\n",
       "    </tr>\n",
       "  </tbody>\n",
       "</table>\n",
       "</div>"
      ],
      "text/plain": [
       "   hotel  arrival_date_year  meal  market_segment  distribution_channel  \\\n",
       "0      1                  0     0               3                     1   \n",
       "1      1                  0     0               3                     1   \n",
       "2      1                  0     0               3                     1   \n",
       "3      1                  0     0               2                     0   \n",
       "4      1                  0     0               6                     3   \n",
       "\n",
       "   reserved_room_type  assigned_room_type  deposit_type  customer_type  \\\n",
       "0                   2                   2             0              2   \n",
       "1                   2                   2             0              2   \n",
       "2                   0                   2             0              2   \n",
       "3                   0                   0             0              2   \n",
       "4                   0                   0             0              2   \n",
       "\n",
       "   reservation_status  \n",
       "0                   1  \n",
       "1                   1  \n",
       "2                   1  \n",
       "3                   1  \n",
       "4                   1  "
      ]
     },
     "execution_count": 18,
     "metadata": {},
     "output_type": "execute_result"
    }
   ],
   "source": [
    "df[cat_col].head()"
   ]
  },
  {
   "cell_type": "markdown",
   "metadata": {},
   "source": [
    "### Feature correlation\n",
    "<b>Spearman</b> and <b>Pearson</b> are the 2 statistical methods to compute the correlation between features. \n",
    "- Pearson is suggested method for features with continuous values and linear relationship\n",
    "- Spearman is suggested method when features have ordinal categorical data or non-linear relationship\n",
    "<br>Pandas correlation method by default uses Pearson method, but we can also change it to spearman </br>"
   ]
  },
  {
   "cell_type": "code",
   "execution_count": 117,
   "metadata": {
    "scrolled": false
   },
   "outputs": [
    {
     "data": {
      "text/html": [
       "<div>\n",
       "<style scoped>\n",
       "    .dataframe tbody tr th:only-of-type {\n",
       "        vertical-align: middle;\n",
       "    }\n",
       "\n",
       "    .dataframe tbody tr th {\n",
       "        vertical-align: top;\n",
       "    }\n",
       "\n",
       "    .dataframe thead th {\n",
       "        text-align: right;\n",
       "    }\n",
       "</style>\n",
       "<table border=\"1\" class=\"dataframe\">\n",
       "  <thead>\n",
       "    <tr style=\"text-align: right;\">\n",
       "      <th></th>\n",
       "      <th>hotel</th>\n",
       "      <th>is_canceled</th>\n",
       "      <th>lead_time</th>\n",
       "      <th>arrival_date_year</th>\n",
       "      <th>arrival_date_month</th>\n",
       "      <th>arrival_date_week_number</th>\n",
       "      <th>arrival_date_day_of_month</th>\n",
       "      <th>meal</th>\n",
       "      <th>market_segment</th>\n",
       "      <th>distribution_channel</th>\n",
       "      <th>...</th>\n",
       "      <th>assigned_room_type</th>\n",
       "      <th>booking_changes</th>\n",
       "      <th>deposit_type</th>\n",
       "      <th>days_in_waiting_list</th>\n",
       "      <th>customer_type</th>\n",
       "      <th>adr</th>\n",
       "      <th>required_car_parking_spaces</th>\n",
       "      <th>total_of_special_requests</th>\n",
       "      <th>total_days</th>\n",
       "      <th>total_customers</th>\n",
       "    </tr>\n",
       "  </thead>\n",
       "  <tbody>\n",
       "    <tr>\n",
       "      <th>hotel</th>\n",
       "      <td>1.000000</td>\n",
       "      <td>-0.136531</td>\n",
       "      <td>-0.075381</td>\n",
       "      <td>-0.035267</td>\n",
       "      <td>-0.001817</td>\n",
       "      <td>-0.001270</td>\n",
       "      <td>0.001862</td>\n",
       "      <td>-0.008018</td>\n",
       "      <td>-0.083795</td>\n",
       "      <td>-0.174419</td>\n",
       "      <td>...</td>\n",
       "      <td>0.307834</td>\n",
       "      <td>0.072820</td>\n",
       "      <td>-0.159021</td>\n",
       "      <td>-0.072432</td>\n",
       "      <td>-0.047531</td>\n",
       "      <td>-0.096719</td>\n",
       "      <td>0.218873</td>\n",
       "      <td>0.043390</td>\n",
       "      <td>0.247479</td>\n",
       "      <td>0.040821</td>\n",
       "    </tr>\n",
       "    <tr>\n",
       "      <th>is_canceled</th>\n",
       "      <td>-0.136531</td>\n",
       "      <td>1.000000</td>\n",
       "      <td>0.293123</td>\n",
       "      <td>0.016660</td>\n",
       "      <td>0.011022</td>\n",
       "      <td>0.008148</td>\n",
       "      <td>-0.006130</td>\n",
       "      <td>-0.017678</td>\n",
       "      <td>0.059338</td>\n",
       "      <td>0.167600</td>\n",
       "      <td>...</td>\n",
       "      <td>-0.176028</td>\n",
       "      <td>-0.144381</td>\n",
       "      <td>0.468634</td>\n",
       "      <td>0.054186</td>\n",
       "      <td>-0.068140</td>\n",
       "      <td>0.047557</td>\n",
       "      <td>-0.195498</td>\n",
       "      <td>-0.234658</td>\n",
       "      <td>0.017779</td>\n",
       "      <td>0.046522</td>\n",
       "    </tr>\n",
       "    <tr>\n",
       "      <th>lead_time</th>\n",
       "      <td>-0.075381</td>\n",
       "      <td>0.293123</td>\n",
       "      <td>1.000000</td>\n",
       "      <td>0.040142</td>\n",
       "      <td>0.131424</td>\n",
       "      <td>0.126871</td>\n",
       "      <td>0.002268</td>\n",
       "      <td>0.000349</td>\n",
       "      <td>0.013797</td>\n",
       "      <td>0.220414</td>\n",
       "      <td>...</td>\n",
       "      <td>-0.172219</td>\n",
       "      <td>0.000149</td>\n",
       "      <td>0.375667</td>\n",
       "      <td>0.170084</td>\n",
       "      <td>0.073403</td>\n",
       "      <td>-0.063077</td>\n",
       "      <td>-0.116451</td>\n",
       "      <td>-0.095712</td>\n",
       "      <td>0.157167</td>\n",
       "      <td>0.072265</td>\n",
       "    </tr>\n",
       "    <tr>\n",
       "      <th>arrival_date_year</th>\n",
       "      <td>-0.035267</td>\n",
       "      <td>0.016660</td>\n",
       "      <td>0.040142</td>\n",
       "      <td>1.000000</td>\n",
       "      <td>-0.527739</td>\n",
       "      <td>-0.540561</td>\n",
       "      <td>-0.000221</td>\n",
       "      <td>0.065840</td>\n",
       "      <td>0.107697</td>\n",
       "      <td>0.022644</td>\n",
       "      <td>...</td>\n",
       "      <td>0.036141</td>\n",
       "      <td>0.030872</td>\n",
       "      <td>-0.064714</td>\n",
       "      <td>-0.056497</td>\n",
       "      <td>-0.006149</td>\n",
       "      <td>0.197580</td>\n",
       "      <td>-0.013684</td>\n",
       "      <td>0.108531</td>\n",
       "      <td>0.031438</td>\n",
       "      <td>0.052127</td>\n",
       "    </tr>\n",
       "    <tr>\n",
       "      <th>arrival_date_month</th>\n",
       "      <td>-0.001817</td>\n",
       "      <td>0.011022</td>\n",
       "      <td>0.131424</td>\n",
       "      <td>-0.527739</td>\n",
       "      <td>1.000000</td>\n",
       "      <td>0.995105</td>\n",
       "      <td>-0.026063</td>\n",
       "      <td>-0.015205</td>\n",
       "      <td>0.001293</td>\n",
       "      <td>0.007381</td>\n",
       "      <td>...</td>\n",
       "      <td>-0.006378</td>\n",
       "      <td>0.004809</td>\n",
       "      <td>0.004048</td>\n",
       "      <td>0.019045</td>\n",
       "      <td>-0.029753</td>\n",
       "      <td>0.079315</td>\n",
       "      <td>0.000257</td>\n",
       "      <td>0.028026</td>\n",
       "      <td>0.021536</td>\n",
       "      <td>0.027252</td>\n",
       "    </tr>\n",
       "    <tr>\n",
       "      <th>arrival_date_week_number</th>\n",
       "      <td>-0.001270</td>\n",
       "      <td>0.008148</td>\n",
       "      <td>0.126871</td>\n",
       "      <td>-0.540561</td>\n",
       "      <td>0.995105</td>\n",
       "      <td>1.000000</td>\n",
       "      <td>0.066809</td>\n",
       "      <td>-0.017381</td>\n",
       "      <td>-0.000510</td>\n",
       "      <td>0.005699</td>\n",
       "      <td>...</td>\n",
       "      <td>-0.005684</td>\n",
       "      <td>0.005508</td>\n",
       "      <td>0.003891</td>\n",
       "      <td>0.022933</td>\n",
       "      <td>-0.028432</td>\n",
       "      <td>0.075791</td>\n",
       "      <td>0.001920</td>\n",
       "      <td>0.026149</td>\n",
       "      <td>0.018719</td>\n",
       "      <td>0.025220</td>\n",
       "    </tr>\n",
       "    <tr>\n",
       "      <th>arrival_date_day_of_month</th>\n",
       "      <td>0.001862</td>\n",
       "      <td>-0.006130</td>\n",
       "      <td>0.002268</td>\n",
       "      <td>-0.000221</td>\n",
       "      <td>-0.026063</td>\n",
       "      <td>0.066809</td>\n",
       "      <td>1.000000</td>\n",
       "      <td>-0.007086</td>\n",
       "      <td>-0.004088</td>\n",
       "      <td>0.001578</td>\n",
       "      <td>...</td>\n",
       "      <td>0.011646</td>\n",
       "      <td>0.010613</td>\n",
       "      <td>-0.001358</td>\n",
       "      <td>0.022728</td>\n",
       "      <td>0.012188</td>\n",
       "      <td>0.030245</td>\n",
       "      <td>0.008683</td>\n",
       "      <td>0.003062</td>\n",
       "      <td>-0.027408</td>\n",
       "      <td>0.006742</td>\n",
       "    </tr>\n",
       "    <tr>\n",
       "      <th>meal</th>\n",
       "      <td>-0.008018</td>\n",
       "      <td>-0.017678</td>\n",
       "      <td>0.000349</td>\n",
       "      <td>0.065840</td>\n",
       "      <td>-0.015205</td>\n",
       "      <td>-0.017381</td>\n",
       "      <td>-0.007086</td>\n",
       "      <td>1.000000</td>\n",
       "      <td>0.145132</td>\n",
       "      <td>0.116957</td>\n",
       "      <td>...</td>\n",
       "      <td>-0.120792</td>\n",
       "      <td>0.024650</td>\n",
       "      <td>-0.092151</td>\n",
       "      <td>-0.007132</td>\n",
       "      <td>0.044658</td>\n",
       "      <td>0.059098</td>\n",
       "      <td>-0.038923</td>\n",
       "      <td>0.023136</td>\n",
       "      <td>0.045277</td>\n",
       "      <td>-0.005975</td>\n",
       "    </tr>\n",
       "    <tr>\n",
       "      <th>market_segment</th>\n",
       "      <td>-0.083795</td>\n",
       "      <td>0.059338</td>\n",
       "      <td>0.013797</td>\n",
       "      <td>0.107697</td>\n",
       "      <td>0.001293</td>\n",
       "      <td>-0.000510</td>\n",
       "      <td>-0.004088</td>\n",
       "      <td>0.145132</td>\n",
       "      <td>1.000000</td>\n",
       "      <td>0.767751</td>\n",
       "      <td>...</td>\n",
       "      <td>0.026377</td>\n",
       "      <td>-0.071818</td>\n",
       "      <td>-0.184847</td>\n",
       "      <td>-0.041503</td>\n",
       "      <td>-0.165814</td>\n",
       "      <td>0.232763</td>\n",
       "      <td>-0.062226</td>\n",
       "      <td>0.274373</td>\n",
       "      <td>0.126052</td>\n",
       "      <td>0.213221</td>\n",
       "    </tr>\n",
       "    <tr>\n",
       "      <th>distribution_channel</th>\n",
       "      <td>-0.174419</td>\n",
       "      <td>0.167600</td>\n",
       "      <td>0.220414</td>\n",
       "      <td>0.022644</td>\n",
       "      <td>0.007381</td>\n",
       "      <td>0.005699</td>\n",
       "      <td>0.001578</td>\n",
       "      <td>0.116957</td>\n",
       "      <td>0.767751</td>\n",
       "      <td>1.000000</td>\n",
       "      <td>...</td>\n",
       "      <td>-0.104502</td>\n",
       "      <td>-0.113601</td>\n",
       "      <td>0.092580</td>\n",
       "      <td>0.048642</td>\n",
       "      <td>-0.069640</td>\n",
       "      <td>0.092396</td>\n",
       "      <td>-0.132280</td>\n",
       "      <td>0.098815</td>\n",
       "      <td>0.101407</td>\n",
       "      <td>0.144357</td>\n",
       "    </tr>\n",
       "    <tr>\n",
       "      <th>is_repeated_guest</th>\n",
       "      <td>0.050421</td>\n",
       "      <td>-0.084793</td>\n",
       "      <td>-0.124410</td>\n",
       "      <td>0.010341</td>\n",
       "      <td>-0.030729</td>\n",
       "      <td>-0.030131</td>\n",
       "      <td>-0.006145</td>\n",
       "      <td>-0.057009</td>\n",
       "      <td>-0.250286</td>\n",
       "      <td>-0.263219</td>\n",
       "      <td>...</td>\n",
       "      <td>0.032441</td>\n",
       "      <td>0.012092</td>\n",
       "      <td>-0.057502</td>\n",
       "      <td>-0.022235</td>\n",
       "      <td>-0.017111</td>\n",
       "      <td>-0.134314</td>\n",
       "      <td>0.077090</td>\n",
       "      <td>0.013050</td>\n",
       "      <td>-0.106626</td>\n",
       "      <td>-0.136748</td>\n",
       "    </tr>\n",
       "    <tr>\n",
       "      <th>reserved_room_type</th>\n",
       "      <td>0.249677</td>\n",
       "      <td>-0.061282</td>\n",
       "      <td>-0.106089</td>\n",
       "      <td>0.092809</td>\n",
       "      <td>-0.007923</td>\n",
       "      <td>-0.007997</td>\n",
       "      <td>0.016929</td>\n",
       "      <td>-0.120749</td>\n",
       "      <td>0.094540</td>\n",
       "      <td>-0.041720</td>\n",
       "      <td>...</td>\n",
       "      <td>0.814005</td>\n",
       "      <td>0.045060</td>\n",
       "      <td>-0.199689</td>\n",
       "      <td>-0.068821</td>\n",
       "      <td>-0.120978</td>\n",
       "      <td>0.392060</td>\n",
       "      <td>0.131583</td>\n",
       "      <td>0.137466</td>\n",
       "      <td>0.181296</td>\n",
       "      <td>0.383357</td>\n",
       "    </tr>\n",
       "    <tr>\n",
       "      <th>assigned_room_type</th>\n",
       "      <td>0.307834</td>\n",
       "      <td>-0.176028</td>\n",
       "      <td>-0.172219</td>\n",
       "      <td>0.036141</td>\n",
       "      <td>-0.006378</td>\n",
       "      <td>-0.005684</td>\n",
       "      <td>0.011646</td>\n",
       "      <td>-0.120792</td>\n",
       "      <td>0.026377</td>\n",
       "      <td>-0.104502</td>\n",
       "      <td>...</td>\n",
       "      <td>1.000000</td>\n",
       "      <td>0.096162</td>\n",
       "      <td>-0.242384</td>\n",
       "      <td>-0.068676</td>\n",
       "      <td>-0.084427</td>\n",
       "      <td>0.258134</td>\n",
       "      <td>0.160131</td>\n",
       "      <td>0.124683</td>\n",
       "      <td>0.109042</td>\n",
       "      <td>0.302422</td>\n",
       "    </tr>\n",
       "    <tr>\n",
       "      <th>booking_changes</th>\n",
       "      <td>0.072820</td>\n",
       "      <td>-0.144381</td>\n",
       "      <td>0.000149</td>\n",
       "      <td>0.030872</td>\n",
       "      <td>0.004809</td>\n",
       "      <td>0.005508</td>\n",
       "      <td>0.010613</td>\n",
       "      <td>0.024650</td>\n",
       "      <td>-0.071818</td>\n",
       "      <td>-0.113601</td>\n",
       "      <td>...</td>\n",
       "      <td>0.096162</td>\n",
       "      <td>1.000000</td>\n",
       "      <td>-0.112153</td>\n",
       "      <td>-0.011634</td>\n",
       "      <td>0.092029</td>\n",
       "      <td>0.019618</td>\n",
       "      <td>0.065620</td>\n",
       "      <td>0.052833</td>\n",
       "      <td>0.096498</td>\n",
       "      <td>-0.003173</td>\n",
       "    </tr>\n",
       "    <tr>\n",
       "      <th>deposit_type</th>\n",
       "      <td>-0.159021</td>\n",
       "      <td>0.468634</td>\n",
       "      <td>0.375667</td>\n",
       "      <td>-0.064714</td>\n",
       "      <td>0.004048</td>\n",
       "      <td>0.003891</td>\n",
       "      <td>-0.001358</td>\n",
       "      <td>-0.092151</td>\n",
       "      <td>-0.184847</td>\n",
       "      <td>0.092580</td>\n",
       "      <td>...</td>\n",
       "      <td>-0.242384</td>\n",
       "      <td>-0.112153</td>\n",
       "      <td>1.000000</td>\n",
       "      <td>0.121017</td>\n",
       "      <td>-0.076404</td>\n",
       "      <td>-0.089838</td>\n",
       "      <td>-0.090929</td>\n",
       "      <td>-0.266672</td>\n",
       "      <td>-0.100809</td>\n",
       "      <td>-0.079281</td>\n",
       "    </tr>\n",
       "    <tr>\n",
       "      <th>days_in_waiting_list</th>\n",
       "      <td>-0.072432</td>\n",
       "      <td>0.054186</td>\n",
       "      <td>0.170084</td>\n",
       "      <td>-0.056497</td>\n",
       "      <td>0.019045</td>\n",
       "      <td>0.022933</td>\n",
       "      <td>0.022728</td>\n",
       "      <td>-0.007132</td>\n",
       "      <td>-0.041503</td>\n",
       "      <td>0.048642</td>\n",
       "      <td>...</td>\n",
       "      <td>-0.068676</td>\n",
       "      <td>-0.011634</td>\n",
       "      <td>0.121017</td>\n",
       "      <td>1.000000</td>\n",
       "      <td>0.099121</td>\n",
       "      <td>-0.040756</td>\n",
       "      <td>-0.030600</td>\n",
       "      <td>-0.082730</td>\n",
       "      <td>-0.022652</td>\n",
       "      <td>-0.026431</td>\n",
       "    </tr>\n",
       "    <tr>\n",
       "      <th>customer_type</th>\n",
       "      <td>-0.047531</td>\n",
       "      <td>-0.068140</td>\n",
       "      <td>0.073403</td>\n",
       "      <td>-0.006149</td>\n",
       "      <td>-0.029753</td>\n",
       "      <td>-0.028432</td>\n",
       "      <td>0.012188</td>\n",
       "      <td>0.044658</td>\n",
       "      <td>-0.165814</td>\n",
       "      <td>-0.069640</td>\n",
       "      <td>...</td>\n",
       "      <td>-0.084427</td>\n",
       "      <td>0.092029</td>\n",
       "      <td>-0.076404</td>\n",
       "      <td>0.099121</td>\n",
       "      <td>1.000000</td>\n",
       "      <td>-0.077155</td>\n",
       "      <td>-0.030060</td>\n",
       "      <td>-0.135624</td>\n",
       "      <td>-0.137577</td>\n",
       "      <td>-0.113232</td>\n",
       "    </tr>\n",
       "    <tr>\n",
       "      <th>adr</th>\n",
       "      <td>-0.096719</td>\n",
       "      <td>0.047557</td>\n",
       "      <td>-0.063077</td>\n",
       "      <td>0.197580</td>\n",
       "      <td>0.079315</td>\n",
       "      <td>0.075791</td>\n",
       "      <td>0.030245</td>\n",
       "      <td>0.059098</td>\n",
       "      <td>0.232763</td>\n",
       "      <td>0.092396</td>\n",
       "      <td>...</td>\n",
       "      <td>0.258134</td>\n",
       "      <td>0.019618</td>\n",
       "      <td>-0.089838</td>\n",
       "      <td>-0.040756</td>\n",
       "      <td>-0.077155</td>\n",
       "      <td>1.000000</td>\n",
       "      <td>0.056628</td>\n",
       "      <td>0.172185</td>\n",
       "      <td>0.067945</td>\n",
       "      <td>0.368105</td>\n",
       "    </tr>\n",
       "    <tr>\n",
       "      <th>required_car_parking_spaces</th>\n",
       "      <td>0.218873</td>\n",
       "      <td>-0.195498</td>\n",
       "      <td>-0.116451</td>\n",
       "      <td>-0.013684</td>\n",
       "      <td>0.000257</td>\n",
       "      <td>0.001920</td>\n",
       "      <td>0.008683</td>\n",
       "      <td>-0.038923</td>\n",
       "      <td>-0.062226</td>\n",
       "      <td>-0.132280</td>\n",
       "      <td>...</td>\n",
       "      <td>0.160131</td>\n",
       "      <td>0.065620</td>\n",
       "      <td>-0.090929</td>\n",
       "      <td>-0.030600</td>\n",
       "      <td>-0.030060</td>\n",
       "      <td>0.056628</td>\n",
       "      <td>1.000000</td>\n",
       "      <td>0.082626</td>\n",
       "      <td>-0.025794</td>\n",
       "      <td>0.047934</td>\n",
       "    </tr>\n",
       "    <tr>\n",
       "      <th>total_of_special_requests</th>\n",
       "      <td>0.043390</td>\n",
       "      <td>-0.234658</td>\n",
       "      <td>-0.095712</td>\n",
       "      <td>0.108531</td>\n",
       "      <td>0.028026</td>\n",
       "      <td>0.026149</td>\n",
       "      <td>0.003062</td>\n",
       "      <td>0.023136</td>\n",
       "      <td>0.274373</td>\n",
       "      <td>0.098815</td>\n",
       "      <td>...</td>\n",
       "      <td>0.124683</td>\n",
       "      <td>0.052833</td>\n",
       "      <td>-0.266672</td>\n",
       "      <td>-0.082730</td>\n",
       "      <td>-0.135624</td>\n",
       "      <td>0.172185</td>\n",
       "      <td>0.082626</td>\n",
       "      <td>1.000000</td>\n",
       "      <td>0.079259</td>\n",
       "      <td>0.156834</td>\n",
       "    </tr>\n",
       "    <tr>\n",
       "      <th>total_days</th>\n",
       "      <td>0.247479</td>\n",
       "      <td>0.017779</td>\n",
       "      <td>0.157167</td>\n",
       "      <td>0.031438</td>\n",
       "      <td>0.021536</td>\n",
       "      <td>0.018719</td>\n",
       "      <td>-0.027408</td>\n",
       "      <td>0.045277</td>\n",
       "      <td>0.126052</td>\n",
       "      <td>0.101407</td>\n",
       "      <td>...</td>\n",
       "      <td>0.109042</td>\n",
       "      <td>0.096498</td>\n",
       "      <td>-0.100809</td>\n",
       "      <td>-0.022652</td>\n",
       "      <td>-0.137577</td>\n",
       "      <td>0.067945</td>\n",
       "      <td>-0.025794</td>\n",
       "      <td>0.079259</td>\n",
       "      <td>1.000000</td>\n",
       "      <td>0.115463</td>\n",
       "    </tr>\n",
       "    <tr>\n",
       "      <th>total_customers</th>\n",
       "      <td>0.040821</td>\n",
       "      <td>0.046522</td>\n",
       "      <td>0.072265</td>\n",
       "      <td>0.052127</td>\n",
       "      <td>0.027252</td>\n",
       "      <td>0.025220</td>\n",
       "      <td>0.006742</td>\n",
       "      <td>-0.005975</td>\n",
       "      <td>0.213221</td>\n",
       "      <td>0.144357</td>\n",
       "      <td>...</td>\n",
       "      <td>0.302422</td>\n",
       "      <td>-0.003173</td>\n",
       "      <td>-0.079281</td>\n",
       "      <td>-0.026431</td>\n",
       "      <td>-0.113232</td>\n",
       "      <td>0.368105</td>\n",
       "      <td>0.047934</td>\n",
       "      <td>0.156834</td>\n",
       "      <td>0.115463</td>\n",
       "      <td>1.000000</td>\n",
       "    </tr>\n",
       "  </tbody>\n",
       "</table>\n",
       "<p>22 rows × 22 columns</p>\n",
       "</div>"
      ],
      "text/plain": [
       "                                hotel  is_canceled  lead_time  \\\n",
       "hotel                        1.000000    -0.136531  -0.075381   \n",
       "is_canceled                 -0.136531     1.000000   0.293123   \n",
       "lead_time                   -0.075381     0.293123   1.000000   \n",
       "arrival_date_year           -0.035267     0.016660   0.040142   \n",
       "arrival_date_month          -0.001817     0.011022   0.131424   \n",
       "arrival_date_week_number    -0.001270     0.008148   0.126871   \n",
       "arrival_date_day_of_month    0.001862    -0.006130   0.002268   \n",
       "meal                        -0.008018    -0.017678   0.000349   \n",
       "market_segment              -0.083795     0.059338   0.013797   \n",
       "distribution_channel        -0.174419     0.167600   0.220414   \n",
       "is_repeated_guest            0.050421    -0.084793  -0.124410   \n",
       "reserved_room_type           0.249677    -0.061282  -0.106089   \n",
       "assigned_room_type           0.307834    -0.176028  -0.172219   \n",
       "booking_changes              0.072820    -0.144381   0.000149   \n",
       "deposit_type                -0.159021     0.468634   0.375667   \n",
       "days_in_waiting_list        -0.072432     0.054186   0.170084   \n",
       "customer_type               -0.047531    -0.068140   0.073403   \n",
       "adr                         -0.096719     0.047557  -0.063077   \n",
       "required_car_parking_spaces  0.218873    -0.195498  -0.116451   \n",
       "total_of_special_requests    0.043390    -0.234658  -0.095712   \n",
       "total_days                   0.247479     0.017779   0.157167   \n",
       "total_customers              0.040821     0.046522   0.072265   \n",
       "\n",
       "                             arrival_date_year  arrival_date_month  \\\n",
       "hotel                                -0.035267           -0.001817   \n",
       "is_canceled                           0.016660            0.011022   \n",
       "lead_time                             0.040142            0.131424   \n",
       "arrival_date_year                     1.000000           -0.527739   \n",
       "arrival_date_month                   -0.527739            1.000000   \n",
       "arrival_date_week_number             -0.540561            0.995105   \n",
       "arrival_date_day_of_month            -0.000221           -0.026063   \n",
       "meal                                  0.065840           -0.015205   \n",
       "market_segment                        0.107697            0.001293   \n",
       "distribution_channel                  0.022644            0.007381   \n",
       "is_repeated_guest                     0.010341           -0.030729   \n",
       "reserved_room_type                    0.092809           -0.007923   \n",
       "assigned_room_type                    0.036141           -0.006378   \n",
       "booking_changes                       0.030872            0.004809   \n",
       "deposit_type                         -0.064714            0.004048   \n",
       "days_in_waiting_list                 -0.056497            0.019045   \n",
       "customer_type                        -0.006149           -0.029753   \n",
       "adr                                   0.197580            0.079315   \n",
       "required_car_parking_spaces          -0.013684            0.000257   \n",
       "total_of_special_requests             0.108531            0.028026   \n",
       "total_days                            0.031438            0.021536   \n",
       "total_customers                       0.052127            0.027252   \n",
       "\n",
       "                             arrival_date_week_number  \\\n",
       "hotel                                       -0.001270   \n",
       "is_canceled                                  0.008148   \n",
       "lead_time                                    0.126871   \n",
       "arrival_date_year                           -0.540561   \n",
       "arrival_date_month                           0.995105   \n",
       "arrival_date_week_number                     1.000000   \n",
       "arrival_date_day_of_month                    0.066809   \n",
       "meal                                        -0.017381   \n",
       "market_segment                              -0.000510   \n",
       "distribution_channel                         0.005699   \n",
       "is_repeated_guest                           -0.030131   \n",
       "reserved_room_type                          -0.007997   \n",
       "assigned_room_type                          -0.005684   \n",
       "booking_changes                              0.005508   \n",
       "deposit_type                                 0.003891   \n",
       "days_in_waiting_list                         0.022933   \n",
       "customer_type                               -0.028432   \n",
       "adr                                          0.075791   \n",
       "required_car_parking_spaces                  0.001920   \n",
       "total_of_special_requests                    0.026149   \n",
       "total_days                                   0.018719   \n",
       "total_customers                              0.025220   \n",
       "\n",
       "                             arrival_date_day_of_month      meal  \\\n",
       "hotel                                         0.001862 -0.008018   \n",
       "is_canceled                                  -0.006130 -0.017678   \n",
       "lead_time                                     0.002268  0.000349   \n",
       "arrival_date_year                            -0.000221  0.065840   \n",
       "arrival_date_month                           -0.026063 -0.015205   \n",
       "arrival_date_week_number                      0.066809 -0.017381   \n",
       "arrival_date_day_of_month                     1.000000 -0.007086   \n",
       "meal                                         -0.007086  1.000000   \n",
       "market_segment                               -0.004088  0.145132   \n",
       "distribution_channel                          0.001578  0.116957   \n",
       "is_repeated_guest                            -0.006145 -0.057009   \n",
       "reserved_room_type                            0.016929 -0.120749   \n",
       "assigned_room_type                            0.011646 -0.120792   \n",
       "booking_changes                               0.010613  0.024650   \n",
       "deposit_type                                 -0.001358 -0.092151   \n",
       "days_in_waiting_list                          0.022728 -0.007132   \n",
       "customer_type                                 0.012188  0.044658   \n",
       "adr                                           0.030245  0.059098   \n",
       "required_car_parking_spaces                   0.008683 -0.038923   \n",
       "total_of_special_requests                     0.003062  0.023136   \n",
       "total_days                                   -0.027408  0.045277   \n",
       "total_customers                               0.006742 -0.005975   \n",
       "\n",
       "                             market_segment  distribution_channel  ...  \\\n",
       "hotel                             -0.083795             -0.174419  ...   \n",
       "is_canceled                        0.059338              0.167600  ...   \n",
       "lead_time                          0.013797              0.220414  ...   \n",
       "arrival_date_year                  0.107697              0.022644  ...   \n",
       "arrival_date_month                 0.001293              0.007381  ...   \n",
       "arrival_date_week_number          -0.000510              0.005699  ...   \n",
       "arrival_date_day_of_month         -0.004088              0.001578  ...   \n",
       "meal                               0.145132              0.116957  ...   \n",
       "market_segment                     1.000000              0.767751  ...   \n",
       "distribution_channel               0.767751              1.000000  ...   \n",
       "is_repeated_guest                 -0.250286             -0.263219  ...   \n",
       "reserved_room_type                 0.094540             -0.041720  ...   \n",
       "assigned_room_type                 0.026377             -0.104502  ...   \n",
       "booking_changes                   -0.071818             -0.113601  ...   \n",
       "deposit_type                      -0.184847              0.092580  ...   \n",
       "days_in_waiting_list              -0.041503              0.048642  ...   \n",
       "customer_type                     -0.165814             -0.069640  ...   \n",
       "adr                                0.232763              0.092396  ...   \n",
       "required_car_parking_spaces       -0.062226             -0.132280  ...   \n",
       "total_of_special_requests          0.274373              0.098815  ...   \n",
       "total_days                         0.126052              0.101407  ...   \n",
       "total_customers                    0.213221              0.144357  ...   \n",
       "\n",
       "                             assigned_room_type  booking_changes  \\\n",
       "hotel                                  0.307834         0.072820   \n",
       "is_canceled                           -0.176028        -0.144381   \n",
       "lead_time                             -0.172219         0.000149   \n",
       "arrival_date_year                      0.036141         0.030872   \n",
       "arrival_date_month                    -0.006378         0.004809   \n",
       "arrival_date_week_number              -0.005684         0.005508   \n",
       "arrival_date_day_of_month              0.011646         0.010613   \n",
       "meal                                  -0.120792         0.024650   \n",
       "market_segment                         0.026377        -0.071818   \n",
       "distribution_channel                  -0.104502        -0.113601   \n",
       "is_repeated_guest                      0.032441         0.012092   \n",
       "reserved_room_type                     0.814005         0.045060   \n",
       "assigned_room_type                     1.000000         0.096162   \n",
       "booking_changes                        0.096162         1.000000   \n",
       "deposit_type                          -0.242384        -0.112153   \n",
       "days_in_waiting_list                  -0.068676        -0.011634   \n",
       "customer_type                         -0.084427         0.092029   \n",
       "adr                                    0.258134         0.019618   \n",
       "required_car_parking_spaces            0.160131         0.065620   \n",
       "total_of_special_requests              0.124683         0.052833   \n",
       "total_days                             0.109042         0.096498   \n",
       "total_customers                        0.302422        -0.003173   \n",
       "\n",
       "                             deposit_type  days_in_waiting_list  \\\n",
       "hotel                           -0.159021             -0.072432   \n",
       "is_canceled                      0.468634              0.054186   \n",
       "lead_time                        0.375667              0.170084   \n",
       "arrival_date_year               -0.064714             -0.056497   \n",
       "arrival_date_month               0.004048              0.019045   \n",
       "arrival_date_week_number         0.003891              0.022933   \n",
       "arrival_date_day_of_month       -0.001358              0.022728   \n",
       "meal                            -0.092151             -0.007132   \n",
       "market_segment                  -0.184847             -0.041503   \n",
       "distribution_channel             0.092580              0.048642   \n",
       "is_repeated_guest               -0.057502             -0.022235   \n",
       "reserved_room_type              -0.199689             -0.068821   \n",
       "assigned_room_type              -0.242384             -0.068676   \n",
       "booking_changes                 -0.112153             -0.011634   \n",
       "deposit_type                     1.000000              0.121017   \n",
       "days_in_waiting_list             0.121017              1.000000   \n",
       "customer_type                   -0.076404              0.099121   \n",
       "adr                             -0.089838             -0.040756   \n",
       "required_car_parking_spaces     -0.090929             -0.030600   \n",
       "total_of_special_requests       -0.266672             -0.082730   \n",
       "total_days                      -0.100809             -0.022652   \n",
       "total_customers                 -0.079281             -0.026431   \n",
       "\n",
       "                             customer_type       adr  \\\n",
       "hotel                            -0.047531 -0.096719   \n",
       "is_canceled                      -0.068140  0.047557   \n",
       "lead_time                         0.073403 -0.063077   \n",
       "arrival_date_year                -0.006149  0.197580   \n",
       "arrival_date_month               -0.029753  0.079315   \n",
       "arrival_date_week_number         -0.028432  0.075791   \n",
       "arrival_date_day_of_month         0.012188  0.030245   \n",
       "meal                              0.044658  0.059098   \n",
       "market_segment                   -0.165814  0.232763   \n",
       "distribution_channel             -0.069640  0.092396   \n",
       "is_repeated_guest                -0.017111 -0.134314   \n",
       "reserved_room_type               -0.120978  0.392060   \n",
       "assigned_room_type               -0.084427  0.258134   \n",
       "booking_changes                   0.092029  0.019618   \n",
       "deposit_type                     -0.076404 -0.089838   \n",
       "days_in_waiting_list              0.099121 -0.040756   \n",
       "customer_type                     1.000000 -0.077155   \n",
       "adr                              -0.077155  1.000000   \n",
       "required_car_parking_spaces      -0.030060  0.056628   \n",
       "total_of_special_requests        -0.135624  0.172185   \n",
       "total_days                       -0.137577  0.067945   \n",
       "total_customers                  -0.113232  0.368105   \n",
       "\n",
       "                             required_car_parking_spaces  \\\n",
       "hotel                                           0.218873   \n",
       "is_canceled                                    -0.195498   \n",
       "lead_time                                      -0.116451   \n",
       "arrival_date_year                              -0.013684   \n",
       "arrival_date_month                              0.000257   \n",
       "arrival_date_week_number                        0.001920   \n",
       "arrival_date_day_of_month                       0.008683   \n",
       "meal                                           -0.038923   \n",
       "market_segment                                 -0.062226   \n",
       "distribution_channel                           -0.132280   \n",
       "is_repeated_guest                               0.077090   \n",
       "reserved_room_type                              0.131583   \n",
       "assigned_room_type                              0.160131   \n",
       "booking_changes                                 0.065620   \n",
       "deposit_type                                   -0.090929   \n",
       "days_in_waiting_list                           -0.030600   \n",
       "customer_type                                  -0.030060   \n",
       "adr                                             0.056628   \n",
       "required_car_parking_spaces                     1.000000   \n",
       "total_of_special_requests                       0.082626   \n",
       "total_days                                     -0.025794   \n",
       "total_customers                                 0.047934   \n",
       "\n",
       "                             total_of_special_requests  total_days  \\\n",
       "hotel                                         0.043390    0.247479   \n",
       "is_canceled                                  -0.234658    0.017779   \n",
       "lead_time                                    -0.095712    0.157167   \n",
       "arrival_date_year                             0.108531    0.031438   \n",
       "arrival_date_month                            0.028026    0.021536   \n",
       "arrival_date_week_number                      0.026149    0.018719   \n",
       "arrival_date_day_of_month                     0.003062   -0.027408   \n",
       "meal                                          0.023136    0.045277   \n",
       "market_segment                                0.274373    0.126052   \n",
       "distribution_channel                          0.098815    0.101407   \n",
       "is_repeated_guest                             0.013050   -0.106626   \n",
       "reserved_room_type                            0.137466    0.181296   \n",
       "assigned_room_type                            0.124683    0.109042   \n",
       "booking_changes                               0.052833    0.096498   \n",
       "deposit_type                                 -0.266672   -0.100809   \n",
       "days_in_waiting_list                         -0.082730   -0.022652   \n",
       "customer_type                                -0.135624   -0.137577   \n",
       "adr                                           0.172185    0.067945   \n",
       "required_car_parking_spaces                   0.082626   -0.025794   \n",
       "total_of_special_requests                     1.000000    0.079259   \n",
       "total_days                                    0.079259    1.000000   \n",
       "total_customers                               0.156834    0.115463   \n",
       "\n",
       "                             total_customers  \n",
       "hotel                               0.040821  \n",
       "is_canceled                         0.046522  \n",
       "lead_time                           0.072265  \n",
       "arrival_date_year                   0.052127  \n",
       "arrival_date_month                  0.027252  \n",
       "arrival_date_week_number            0.025220  \n",
       "arrival_date_day_of_month           0.006742  \n",
       "meal                               -0.005975  \n",
       "market_segment                      0.213221  \n",
       "distribution_channel                0.144357  \n",
       "is_repeated_guest                  -0.136748  \n",
       "reserved_room_type                  0.383357  \n",
       "assigned_room_type                  0.302422  \n",
       "booking_changes                    -0.003173  \n",
       "deposit_type                       -0.079281  \n",
       "days_in_waiting_list               -0.026431  \n",
       "customer_type                      -0.113232  \n",
       "adr                                 0.368105  \n",
       "required_car_parking_spaces         0.047934  \n",
       "total_of_special_requests           0.156834  \n",
       "total_days                          0.115463  \n",
       "total_customers                     1.000000  \n",
       "\n",
       "[22 rows x 22 columns]"
      ]
     },
     "execution_count": 117,
     "metadata": {},
     "output_type": "execute_result"
    }
   ],
   "source": [
    "df.corr()"
   ]
  },
  {
   "cell_type": "code",
   "execution_count": 173,
   "metadata": {},
   "outputs": [
    {
     "data": {
      "text/plain": [
       "reservation_status            -0.466185\n",
       "total_of_special_requests     -0.266672\n",
       "assigned_room_type            -0.242384\n",
       "reserved_room_type            -0.199689\n",
       "market_segment                -0.184847\n",
       "booking_changes               -0.112153\n",
       "total_days                    -0.100809\n",
       "meal                          -0.092151\n",
       "required_car_parking_spaces   -0.090929\n",
       "adr                           -0.089838\n",
       "total_customers               -0.079277\n",
       "customer_type                 -0.076404\n",
       "arrival_date_year             -0.064714\n",
       "is_repeated_guest             -0.057502\n",
       "arrival_date_day_of_month     -0.001358\n",
       "arrival_date_week_number       0.003891\n",
       "arrival_date_month             0.004048\n",
       "distribution_channel           0.092580\n",
       "days_in_waiting_list           0.121017\n",
       "lead_time                      0.375667\n",
       "is_canceled                    0.468634\n",
       "deposit_type                   1.000000\n",
       "Name: deposit_type, dtype: float64"
      ]
     },
     "execution_count": 173,
     "metadata": {},
     "output_type": "execute_result"
    }
   ],
   "source": [
    "feat_corr['deposit_type'].sort_values()"
   ]
  },
  {
   "cell_type": "code",
   "execution_count": 105,
   "metadata": {},
   "outputs": [
    {
     "data": {
      "text/plain": [
       "<matplotlib.axes._subplots.AxesSubplot at 0x2157c7b8>"
      ]
     },
     "execution_count": 105,
     "metadata": {},
     "output_type": "execute_result"
    },
    {
     "data": {
      "image/png": "[encoded data removed]",
      "text/plain": [
       "<Figure size 576x432 with 2 Axes>"
      ]
     },
     "metadata": {},
     "output_type": "display_data"
    }
   ],
   "source": [
    "plt.figure(figsize=(8,6))\n",
    "feat_corr = df.corr()\n",
    "sns.heatmap(feat_corr)"
   ]
  },
  {
   "cell_type": "markdown",
   "metadata": {},
   "source": [
    "The diagonal shows correlation of each feature with itself, hence indicates highest correlation.\n",
    "Using the table and plot we observe that few features have veryhigh correlation\n",
    "Ex:- \n",
    "1. Arrival_date_year and arrival_date_month = -0.52\n",
    "2. Reservation_status and deposit type = -0.46 \n",
    "3. market_segment vs distribution_channel = 0.76\n",
    "4. reserved_room_type vs assigned_room_type = 0.81"
   ]
  },
  {
   "cell_type": "code",
   "execution_count": 107,
   "metadata": {},
   "outputs": [
    {
     "data": {
      "text/plain": [
       "reservation_status            -0.917196\n",
       "total_of_special_requests     -0.234658\n",
       "required_car_parking_spaces   -0.195498\n",
       "assigned_room_type            -0.176028\n",
       "booking_changes               -0.144381\n",
       "is_repeated_guest             -0.084793\n",
       "customer_type                 -0.068140\n",
       "reserved_room_type            -0.061282\n",
       "meal                          -0.017678\n",
       "arrival_date_day_of_month     -0.006130\n",
       "arrival_date_week_number       0.008148\n",
       "arrival_date_month             0.011022\n",
       "arrival_date_year              0.016660\n",
       "total_days                     0.017779\n",
       "total_customers                0.046506\n",
       "adr                            0.047557\n",
       "days_in_waiting_list           0.054186\n",
       "market_segment                 0.059338\n",
       "distribution_channel           0.167600\n",
       "lead_time                      0.293123\n",
       "deposit_type                   0.468634\n",
       "is_canceled                    1.000000\n",
       "Name: is_canceled, dtype: float64"
      ]
     },
     "execution_count": 107,
     "metadata": {},
     "output_type": "execute_result"
    }
   ],
   "source": [
    "feat_corr['is_canceled'].sort_values()"
   ]
  },
  {
   "cell_type": "markdown",
   "metadata": {},
   "source": [
    "The reservation_status has high correlation with is_canceled. In Naive Bayes session, we saw that removing the reservation_status feature caused the model performance to drop considerably. Lets see how it affects Trees"
   ]
  },
  {
   "cell_type": "markdown",
   "metadata": {},
   "source": [
    "## Implementing Descion Tree"
   ]
  },
  {
   "cell_type": "markdown",
   "metadata": {},
   "source": [
    "There are various decision tree algorithms like - ID3, C4.5, C5.0 and CART. Scikit learn implements optimized version of CART alogrithm. We have multiple hyperparameters in decision tree, <a href=\"https://scikit-learn.org/stable/modules/generated/sklearn.tree.DecisionTreeClassifier.html\">sklearn documentation</a> \n",
    "<br> <br>\n",
    "We will try to see the effect of following hyperparameters on modelling -\n",
    "1. criterion -{gini and entropy}\n",
    "2. max_depth\n",
    "3. class_weight"
   ]
  },
  {
   "cell_type": "markdown",
   "metadata": {},
   "source": [
    "### Model 1 -\n",
    "Default hyperparaments -- Gini criterion, no class weight and no pruning"
   ]
  },
  {
   "cell_type": "code",
   "execution_count": 57,
   "metadata": {},
   "outputs": [],
   "source": [
    "df=df.fillna(0)"
   ]
  },
  {
   "cell_type": "code",
   "execution_count": 58,
   "metadata": {},
   "outputs": [],
   "source": [
    "# Split data into train test set in train:test=70:30 size\n",
    "y = df[\"is_canceled\"]\n",
    "X = df.drop([\"is_canceled\"], axis=1)\n",
    "\n",
    "X_train, X_test, y_train, y_test = train_test_split(X, y, test_size = 0.30, random_state = 42)"
   ]
  },
  {
   "cell_type": "code",
   "execution_count": 21,
   "metadata": {},
   "outputs": [
    {
     "data": {
      "text/plain": [
       "DecisionTreeClassifier(class_weight=None, criterion='gini', max_depth=None,\n",
       "            max_features=None, max_leaf_nodes=None,\n",
       "            min_impurity_decrease=0.0, min_impurity_split=None,\n",
       "            min_samples_leaf=1, min_samples_split=2,\n",
       "            min_weight_fraction_leaf=0.0, presort=False, random_state=0,\n",
       "            splitter='best')"
      ]
     },
     "execution_count": 21,
     "metadata": {},
     "output_type": "execute_result"
    }
   ],
   "source": [
    "clf = DecisionTreeClassifier(random_state = 0)\n",
    "clf.fit(X_train, y_train)"
   ]
  },
  {
   "cell_type": "code",
   "execution_count": 22,
   "metadata": {},
   "outputs": [],
   "source": [
    "y_pred = clf.predict(X_test)\n",
    "y_prob = clf.predict_proba(X_test)"
   ]
  },
  {
   "cell_type": "code",
   "execution_count": 23,
   "metadata": {},
   "outputs": [
    {
     "data": {
      "text/plain": [
       "array([0, 1, 0, 0, 0, 0, 1, 0, 0, 0], dtype=int64)"
      ]
     },
     "execution_count": 23,
     "metadata": {},
     "output_type": "execute_result"
    }
   ],
   "source": [
    "y_pred[:10]"
   ]
  },
  {
   "cell_type": "markdown",
   "metadata": {},
   "source": [
    "## Evaluation metric"
   ]
  },
  {
   "cell_type": "code",
   "execution_count": 25,
   "metadata": {},
   "outputs": [
    {
     "name": "stdout",
     "output_type": "stream",
     "text": [
      "('test-set confusion matrix:\\n', array([[22478,     0],\n",
      "       [    0, 13339]], dtype=int64))\n",
      "('recall score: ', 1.0)\n",
      "('precision score: ', 1.0)\n",
      "('f1 score: ', 1.0)\n",
      "('accuracy score: ', 1.0)\n"
     ]
    }
   ],
   "source": [
    "from sklearn.metrics import recall_score, precision_score, accuracy_score, f1_score\n",
    "from sklearn.metrics import confusion_matrix,auc,roc_auc_score\n",
    "print('test-set confusion matrix:\\n', confusion_matrix(y_test,y_pred)) \n",
    "print(\"recall score: \", recall_score(y_test,y_pred))\n",
    "print(\"precision score: \", precision_score(y_test,y_pred))\n",
    "print(\"f1 score: \", f1_score(y_test,y_pred))\n",
    "print(\"accuracy score: \", accuracy_score(y_test,y_pred))"
   ]
  },
  {
   "cell_type": "markdown",
   "metadata": {},
   "source": [
    "Feature Importance"
   ]
  },
  {
   "cell_type": "code",
   "execution_count": 59,
   "metadata": {},
   "outputs": [
    {
     "data": {
      "text/html": [
       "<div>\n",
       "<style scoped>\n",
       "    .dataframe tbody tr th:only-of-type {\n",
       "        vertical-align: middle;\n",
       "    }\n",
       "\n",
       "    .dataframe tbody tr th {\n",
       "        vertical-align: top;\n",
       "    }\n",
       "\n",
       "    .dataframe thead th {\n",
       "        text-align: right;\n",
       "    }\n",
       "</style>\n",
       "<table border=\"1\" class=\"dataframe\">\n",
       "  <thead>\n",
       "    <tr style=\"text-align: right;\">\n",
       "      <th></th>\n",
       "      <th>Features</th>\n",
       "      <th>Importance</th>\n",
       "    </tr>\n",
       "  </thead>\n",
       "  <tbody>\n",
       "    <tr>\n",
       "      <th>19</th>\n",
       "      <td>reservation_status</td>\n",
       "      <td>1.0</td>\n",
       "    </tr>\n",
       "    <tr>\n",
       "      <th>0</th>\n",
       "      <td>hotel</td>\n",
       "      <td>0.0</td>\n",
       "    </tr>\n",
       "    <tr>\n",
       "      <th>1</th>\n",
       "      <td>lead_time</td>\n",
       "      <td>0.0</td>\n",
       "    </tr>\n",
       "    <tr>\n",
       "      <th>20</th>\n",
       "      <td>total_days</td>\n",
       "      <td>0.0</td>\n",
       "    </tr>\n",
       "    <tr>\n",
       "      <th>18</th>\n",
       "      <td>total_of_special_requests</td>\n",
       "      <td>0.0</td>\n",
       "    </tr>\n",
       "    <tr>\n",
       "      <th>17</th>\n",
       "      <td>required_car_parking_spaces</td>\n",
       "      <td>0.0</td>\n",
       "    </tr>\n",
       "    <tr>\n",
       "      <th>16</th>\n",
       "      <td>adr</td>\n",
       "      <td>0.0</td>\n",
       "    </tr>\n",
       "    <tr>\n",
       "      <th>15</th>\n",
       "      <td>customer_type</td>\n",
       "      <td>0.0</td>\n",
       "    </tr>\n",
       "    <tr>\n",
       "      <th>14</th>\n",
       "      <td>days_in_waiting_list</td>\n",
       "      <td>0.0</td>\n",
       "    </tr>\n",
       "    <tr>\n",
       "      <th>13</th>\n",
       "      <td>deposit_type</td>\n",
       "      <td>0.0</td>\n",
       "    </tr>\n",
       "    <tr>\n",
       "      <th>12</th>\n",
       "      <td>booking_changes</td>\n",
       "      <td>0.0</td>\n",
       "    </tr>\n",
       "    <tr>\n",
       "      <th>11</th>\n",
       "      <td>assigned_room_type</td>\n",
       "      <td>0.0</td>\n",
       "    </tr>\n",
       "    <tr>\n",
       "      <th>10</th>\n",
       "      <td>reserved_room_type</td>\n",
       "      <td>0.0</td>\n",
       "    </tr>\n",
       "    <tr>\n",
       "      <th>9</th>\n",
       "      <td>is_repeated_guest</td>\n",
       "      <td>0.0</td>\n",
       "    </tr>\n",
       "    <tr>\n",
       "      <th>8</th>\n",
       "      <td>distribution_channel</td>\n",
       "      <td>0.0</td>\n",
       "    </tr>\n",
       "    <tr>\n",
       "      <th>7</th>\n",
       "      <td>market_segment</td>\n",
       "      <td>0.0</td>\n",
       "    </tr>\n",
       "    <tr>\n",
       "      <th>6</th>\n",
       "      <td>meal</td>\n",
       "      <td>0.0</td>\n",
       "    </tr>\n",
       "    <tr>\n",
       "      <th>5</th>\n",
       "      <td>arrival_date_day_of_month</td>\n",
       "      <td>0.0</td>\n",
       "    </tr>\n",
       "    <tr>\n",
       "      <th>4</th>\n",
       "      <td>arrival_date_week_number</td>\n",
       "      <td>0.0</td>\n",
       "    </tr>\n",
       "    <tr>\n",
       "      <th>3</th>\n",
       "      <td>arrival_date_month</td>\n",
       "      <td>0.0</td>\n",
       "    </tr>\n",
       "    <tr>\n",
       "      <th>2</th>\n",
       "      <td>arrival_date_year</td>\n",
       "      <td>0.0</td>\n",
       "    </tr>\n",
       "    <tr>\n",
       "      <th>21</th>\n",
       "      <td>total_customers</td>\n",
       "      <td>0.0</td>\n",
       "    </tr>\n",
       "  </tbody>\n",
       "</table>\n",
       "</div>"
      ],
      "text/plain": [
       "                       Features  Importance\n",
       "19           reservation_status         1.0\n",
       "0                         hotel         0.0\n",
       "1                     lead_time         0.0\n",
       "20                   total_days         0.0\n",
       "18    total_of_special_requests         0.0\n",
       "17  required_car_parking_spaces         0.0\n",
       "16                          adr         0.0\n",
       "15                customer_type         0.0\n",
       "14         days_in_waiting_list         0.0\n",
       "13                 deposit_type         0.0\n",
       "12              booking_changes         0.0\n",
       "11           assigned_room_type         0.0\n",
       "10           reserved_room_type         0.0\n",
       "9             is_repeated_guest         0.0\n",
       "8          distribution_channel         0.0\n",
       "7                market_segment         0.0\n",
       "6                          meal         0.0\n",
       "5     arrival_date_day_of_month         0.0\n",
       "4      arrival_date_week_number         0.0\n",
       "3            arrival_date_month         0.0\n",
       "2             arrival_date_year         0.0\n",
       "21              total_customers         0.0"
      ]
     },
     "execution_count": 59,
     "metadata": {},
     "output_type": "execute_result"
    }
   ],
   "source": [
    "d = pd.DataFrame(\n",
    "    {'Features': list(X_train.columns),\n",
    "     'Importance': clf.feature_importances_\n",
    "    })\n",
    "d.sort_values(by=['Importance'],ascending=False)"
   ]
  },
  {
   "cell_type": "markdown",
   "metadata": {},
   "source": [
    "The model performance is perfect but only 1 feature has been used in the model, hence we should remove that feature to avoid data leak"
   ]
  },
  {
   "cell_type": "markdown",
   "metadata": {},
   "source": [
    "### Model 2 - \n",
    "Remove the feature that is highly correlated with target feature\n",
    "<br>\n",
    "<b>Reservation_status</b> has high correlation with is_canceled. Looking at the values in column reveals that canceled is a reservation type. This might be causing data leak. Hence we will delete this feature and train with default hyperparameters"
   ]
  },
  {
   "cell_type": "code",
   "execution_count": 35,
   "metadata": {},
   "outputs": [
    {
     "data": {
      "text/plain": [
       "array(['Check-Out', 'Canceled', 'No-Show'], dtype=object)"
      ]
     },
     "execution_count": 35,
     "metadata": {},
     "output_type": "execute_result"
    }
   ],
   "source": [
    "backup['reservation_status'].unique()"
   ]
  },
  {
   "cell_type": "code",
   "execution_count": null,
   "metadata": {},
   "outputs": [],
   "source": [
    "df = df.drop('reservation_status',axis=1)"
   ]
  },
  {
   "cell_type": "code",
   "execution_count": 37,
   "metadata": {},
   "outputs": [],
   "source": [
    "# Split data into train test set in train:test=70:30 size\n",
    "y = df[\"is_canceled\"]\n",
    "X = df.drop([\"is_canceled\"], axis=1)\n",
    "\n",
    "X_train, X_test, y_train, y_test = train_test_split(X, y, test_size = 0.30, random_state = 42)"
   ]
  },
  {
   "cell_type": "code",
   "execution_count": 38,
   "metadata": {},
   "outputs": [
    {
     "data": {
      "text/plain": [
       "DecisionTreeClassifier(class_weight=None, criterion='gini', max_depth=None,\n",
       "            max_features=None, max_leaf_nodes=None,\n",
       "            min_impurity_decrease=0.0, min_impurity_split=None,\n",
       "            min_samples_leaf=1, min_samples_split=2,\n",
       "            min_weight_fraction_leaf=0.0, presort=False, random_state=0,\n",
       "            splitter='best')"
      ]
     },
     "execution_count": 38,
     "metadata": {},
     "output_type": "execute_result"
    }
   ],
   "source": [
    "clf2 = DecisionTreeClassifier(random_state = 0)\n",
    "clf2.fit(X_train, y_train)"
   ]
  },
  {
   "cell_type": "code",
   "execution_count": 39,
   "metadata": {},
   "outputs": [],
   "source": [
    "y_pred2 = clf2.predict(X_test)\n",
    "y_prob2 = clf2.predict_proba(X_test)"
   ]
  },
  {
   "cell_type": "code",
   "execution_count": 40,
   "metadata": {},
   "outputs": [
    {
     "name": "stdout",
     "output_type": "stream",
     "text": [
      "('test-set confusion matrix:\\n', array([[19231,  3247],\n",
      "       [ 3133, 10206]], dtype=int64))\n",
      "('recall score: ', 0.765124821950671)\n",
      "('precision score: ', 0.7586411952724299)\n",
      "('f1 score: ', 0.7618692146909525)\n",
      "('accuracy score: ', 0.8218722952787783)\n"
     ]
    }
   ],
   "source": [
    "print('test-set confusion matrix:\\n', confusion_matrix(y_test,y_pred2)) \n",
    "print(\"recall score: \", recall_score(y_test,y_pred2))\n",
    "print(\"precision score: \", precision_score(y_test,y_pred2))\n",
    "print(\"f1 score: \", f1_score(y_test,y_pred2))\n",
    "print(\"accuracy score: \", accuracy_score(y_test,y_pred2))"
   ]
  },
  {
   "cell_type": "code",
   "execution_count": 42,
   "metadata": {},
   "outputs": [
    {
     "data": {
      "text/html": [
       "<div>\n",
       "<style scoped>\n",
       "    .dataframe tbody tr th:only-of-type {\n",
       "        vertical-align: middle;\n",
       "    }\n",
       "\n",
       "    .dataframe tbody tr th {\n",
       "        vertical-align: top;\n",
       "    }\n",
       "\n",
       "    .dataframe thead th {\n",
       "        text-align: right;\n",
       "    }\n",
       "</style>\n",
       "<table border=\"1\" class=\"dataframe\">\n",
       "  <thead>\n",
       "    <tr style=\"text-align: right;\">\n",
       "      <th></th>\n",
       "      <th>Features</th>\n",
       "      <th>Importance</th>\n",
       "    </tr>\n",
       "  </thead>\n",
       "  <tbody>\n",
       "    <tr>\n",
       "      <th>13</th>\n",
       "      <td>deposit_type</td>\n",
       "      <td>0.237134</td>\n",
       "    </tr>\n",
       "    <tr>\n",
       "      <th>1</th>\n",
       "      <td>lead_time</td>\n",
       "      <td>0.168706</td>\n",
       "    </tr>\n",
       "    <tr>\n",
       "      <th>16</th>\n",
       "      <td>adr</td>\n",
       "      <td>0.118033</td>\n",
       "    </tr>\n",
       "    <tr>\n",
       "      <th>5</th>\n",
       "      <td>arrival_date_day_of_month</td>\n",
       "      <td>0.081162</td>\n",
       "    </tr>\n",
       "    <tr>\n",
       "      <th>4</th>\n",
       "      <td>arrival_date_week_number</td>\n",
       "      <td>0.059990</td>\n",
       "    </tr>\n",
       "    <tr>\n",
       "      <th>18</th>\n",
       "      <td>total_of_special_requests</td>\n",
       "      <td>0.058941</td>\n",
       "    </tr>\n",
       "    <tr>\n",
       "      <th>19</th>\n",
       "      <td>total_days</td>\n",
       "      <td>0.053855</td>\n",
       "    </tr>\n",
       "    <tr>\n",
       "      <th>7</th>\n",
       "      <td>market_segment</td>\n",
       "      <td>0.038042</td>\n",
       "    </tr>\n",
       "    <tr>\n",
       "      <th>11</th>\n",
       "      <td>assigned_room_type</td>\n",
       "      <td>0.025025</td>\n",
       "    </tr>\n",
       "    <tr>\n",
       "      <th>12</th>\n",
       "      <td>booking_changes</td>\n",
       "      <td>0.020870</td>\n",
       "    </tr>\n",
       "    <tr>\n",
       "      <th>17</th>\n",
       "      <td>required_car_parking_spaces</td>\n",
       "      <td>0.019395</td>\n",
       "    </tr>\n",
       "    <tr>\n",
       "      <th>2</th>\n",
       "      <td>arrival_date_year</td>\n",
       "      <td>0.018952</td>\n",
       "    </tr>\n",
       "    <tr>\n",
       "      <th>20</th>\n",
       "      <td>total_customers</td>\n",
       "      <td>0.018470</td>\n",
       "    </tr>\n",
       "    <tr>\n",
       "      <th>3</th>\n",
       "      <td>arrival_date_month</td>\n",
       "      <td>0.017450</td>\n",
       "    </tr>\n",
       "    <tr>\n",
       "      <th>15</th>\n",
       "      <td>customer_type</td>\n",
       "      <td>0.017278</td>\n",
       "    </tr>\n",
       "    <tr>\n",
       "      <th>6</th>\n",
       "      <td>meal</td>\n",
       "      <td>0.014318</td>\n",
       "    </tr>\n",
       "    <tr>\n",
       "      <th>10</th>\n",
       "      <td>reserved_room_type</td>\n",
       "      <td>0.013547</td>\n",
       "    </tr>\n",
       "    <tr>\n",
       "      <th>0</th>\n",
       "      <td>hotel</td>\n",
       "      <td>0.008909</td>\n",
       "    </tr>\n",
       "    <tr>\n",
       "      <th>8</th>\n",
       "      <td>distribution_channel</td>\n",
       "      <td>0.004925</td>\n",
       "    </tr>\n",
       "    <tr>\n",
       "      <th>14</th>\n",
       "      <td>days_in_waiting_list</td>\n",
       "      <td>0.002700</td>\n",
       "    </tr>\n",
       "    <tr>\n",
       "      <th>9</th>\n",
       "      <td>is_repeated_guest</td>\n",
       "      <td>0.002296</td>\n",
       "    </tr>\n",
       "  </tbody>\n",
       "</table>\n",
       "</div>"
      ],
      "text/plain": [
       "                       Features  Importance\n",
       "13                 deposit_type    0.237134\n",
       "1                     lead_time    0.168706\n",
       "16                          adr    0.118033\n",
       "5     arrival_date_day_of_month    0.081162\n",
       "4      arrival_date_week_number    0.059990\n",
       "18    total_of_special_requests    0.058941\n",
       "19                   total_days    0.053855\n",
       "7                market_segment    0.038042\n",
       "11           assigned_room_type    0.025025\n",
       "12              booking_changes    0.020870\n",
       "17  required_car_parking_spaces    0.019395\n",
       "2             arrival_date_year    0.018952\n",
       "20              total_customers    0.018470\n",
       "3            arrival_date_month    0.017450\n",
       "15                customer_type    0.017278\n",
       "6                          meal    0.014318\n",
       "10           reserved_room_type    0.013547\n",
       "0                         hotel    0.008909\n",
       "8          distribution_channel    0.004925\n",
       "14         days_in_waiting_list    0.002700\n",
       "9             is_repeated_guest    0.002296"
      ]
     },
     "execution_count": 42,
     "metadata": {},
     "output_type": "execute_result"
    }
   ],
   "source": [
    "d = pd.DataFrame(\n",
    "    {'Features': list(X_train.columns),\n",
    "     'Importance': clf2.feature_importances_\n",
    "    })\n",
    "d.sort_values(by=['Importance'],ascending=False)"
   ]
  },
  {
   "cell_type": "markdown",
   "metadata": {},
   "source": [
    "### Model 3\n",
    "Let us remove 1 feature from the correlated feature pair, We will remove the feature with lesser importance\n",
    "1. Arrival_date_year and arrival_date_month = -0.52\n",
    "2. Reservation_status and deposit type = -0.46 \n",
    "3. market_segment vs distribution_channel = 0.76\n",
    "4. reserved_room_type vs assigned_room_type = 0.81\n"
   ]
  },
  {
   "cell_type": "code",
   "execution_count": 123,
   "metadata": {},
   "outputs": [],
   "source": [
    "df1=df.copy()\n",
    "df = df.drop('arrival_date_month',axis=1)\n",
    "df = df.drop('distribution_channel',axis=1)\n",
    "df = df.drop('reserved_room_type',axis=1)"
   ]
  },
  {
   "cell_type": "code",
   "execution_count": 124,
   "metadata": {},
   "outputs": [
    {
     "name": "stdout",
     "output_type": "stream",
     "text": [
      "('f1 score: ', 0.7596021309093618)\n"
     ]
    }
   ],
   "source": [
    "# Split data into train test set in train:test=70:30 size\n",
    "y = df[\"is_canceled\"]\n",
    "X = df.drop([\"is_canceled\"], axis=1)\n",
    "\n",
    "X_train, X_test, y_train, y_test = train_test_split(X, y, test_size = 0.30, random_state = 42)\n",
    "clf3 = DecisionTreeClassifier(random_state = 0)\n",
    "clf3.fit(X_train, y_train)\n",
    "y_pred3=clf3.predict(X_test)\n",
    "print(\"f1 score: \", f1_score(y_test,y_pred3))"
   ]
  },
  {
   "cell_type": "code",
   "execution_count": 122,
   "metadata": {},
   "outputs": [
    {
     "data": {
      "text/html": [
       "<div>\n",
       "<style scoped>\n",
       "    .dataframe tbody tr th:only-of-type {\n",
       "        vertical-align: middle;\n",
       "    }\n",
       "\n",
       "    .dataframe tbody tr th {\n",
       "        vertical-align: top;\n",
       "    }\n",
       "\n",
       "    .dataframe thead th {\n",
       "        text-align: right;\n",
       "    }\n",
       "</style>\n",
       "<table border=\"1\" class=\"dataframe\">\n",
       "  <thead>\n",
       "    <tr style=\"text-align: right;\">\n",
       "      <th></th>\n",
       "      <th>Features</th>\n",
       "      <th>Importance</th>\n",
       "    </tr>\n",
       "  </thead>\n",
       "  <tbody>\n",
       "    <tr>\n",
       "      <th>10</th>\n",
       "      <td>deposit_type</td>\n",
       "      <td>0.237271</td>\n",
       "    </tr>\n",
       "    <tr>\n",
       "      <th>1</th>\n",
       "      <td>lead_time</td>\n",
       "      <td>0.171351</td>\n",
       "    </tr>\n",
       "    <tr>\n",
       "      <th>13</th>\n",
       "      <td>adr</td>\n",
       "      <td>0.141337</td>\n",
       "    </tr>\n",
       "    <tr>\n",
       "      <th>4</th>\n",
       "      <td>arrival_date_day_of_month</td>\n",
       "      <td>0.086784</td>\n",
       "    </tr>\n",
       "    <tr>\n",
       "      <th>3</th>\n",
       "      <td>arrival_date_week_number</td>\n",
       "      <td>0.079913</td>\n",
       "    </tr>\n",
       "    <tr>\n",
       "      <th>16</th>\n",
       "      <td>total_days</td>\n",
       "      <td>0.058841</td>\n",
       "    </tr>\n",
       "    <tr>\n",
       "      <th>8</th>\n",
       "      <td>assigned_room_type</td>\n",
       "      <td>0.033324</td>\n",
       "    </tr>\n",
       "    <tr>\n",
       "      <th>15</th>\n",
       "      <td>total_of_special_requests</td>\n",
       "      <td>0.030256</td>\n",
       "    </tr>\n",
       "    <tr>\n",
       "      <th>12</th>\n",
       "      <td>customer_type</td>\n",
       "      <td>0.029286</td>\n",
       "    </tr>\n",
       "    <tr>\n",
       "      <th>9</th>\n",
       "      <td>booking_changes</td>\n",
       "      <td>0.026047</td>\n",
       "    </tr>\n",
       "    <tr>\n",
       "      <th>14</th>\n",
       "      <td>required_car_parking_spaces</td>\n",
       "      <td>0.020232</td>\n",
       "    </tr>\n",
       "    <tr>\n",
       "      <th>2</th>\n",
       "      <td>arrival_date_year</td>\n",
       "      <td>0.020178</td>\n",
       "    </tr>\n",
       "    <tr>\n",
       "      <th>17</th>\n",
       "      <td>total_customers</td>\n",
       "      <td>0.019553</td>\n",
       "    </tr>\n",
       "    <tr>\n",
       "      <th>5</th>\n",
       "      <td>meal</td>\n",
       "      <td>0.017073</td>\n",
       "    </tr>\n",
       "    <tr>\n",
       "      <th>6</th>\n",
       "      <td>distribution_channel</td>\n",
       "      <td>0.014975</td>\n",
       "    </tr>\n",
       "    <tr>\n",
       "      <th>0</th>\n",
       "      <td>hotel</td>\n",
       "      <td>0.009713</td>\n",
       "    </tr>\n",
       "    <tr>\n",
       "      <th>11</th>\n",
       "      <td>days_in_waiting_list</td>\n",
       "      <td>0.001997</td>\n",
       "    </tr>\n",
       "    <tr>\n",
       "      <th>7</th>\n",
       "      <td>is_repeated_guest</td>\n",
       "      <td>0.001870</td>\n",
       "    </tr>\n",
       "  </tbody>\n",
       "</table>\n",
       "</div>"
      ],
      "text/plain": [
       "                       Features  Importance\n",
       "10                 deposit_type    0.237271\n",
       "1                     lead_time    0.171351\n",
       "13                          adr    0.141337\n",
       "4     arrival_date_day_of_month    0.086784\n",
       "3      arrival_date_week_number    0.079913\n",
       "16                   total_days    0.058841\n",
       "8            assigned_room_type    0.033324\n",
       "15    total_of_special_requests    0.030256\n",
       "12                customer_type    0.029286\n",
       "9               booking_changes    0.026047\n",
       "14  required_car_parking_spaces    0.020232\n",
       "2             arrival_date_year    0.020178\n",
       "17              total_customers    0.019553\n",
       "5                          meal    0.017073\n",
       "6          distribution_channel    0.014975\n",
       "0                         hotel    0.009713\n",
       "11         days_in_waiting_list    0.001997\n",
       "7             is_repeated_guest    0.001870"
      ]
     },
     "execution_count": 122,
     "metadata": {},
     "output_type": "execute_result"
    }
   ],
   "source": [
    "d = pd.DataFrame(\n",
    "    {'Features': list(X_train.columns),\n",
    "     'Importance': clf3.feature_importances_\n",
    "    })\n",
    "d.sort_values(by=['Importance'],ascending=False)"
   ]
  },
  {
   "cell_type": "markdown",
   "metadata": {},
   "source": [
    "### Model 4 - \n",
    "Use entropy criterion <br><br>\n",
    "$Gini = 1- \\sum_{n=1}^{c} (P_i)^{2}$ <br><br>\n",
    "$Entropy = \\sum_{n=1}^{c}-P_i*log_2(P_i)$\n",
    "<img src=\"img/Impurity criterion.PNG\" width=\"400\"/>\n",
    "We see that both criterion follow same curve indicating that there is no significant difference between the two."
   ]
  },
  {
   "cell_type": "code",
   "execution_count": 131,
   "metadata": {},
   "outputs": [
    {
     "data": {
      "text/plain": [
       "DecisionTreeClassifier(class_weight=None, criterion='entropy', max_depth=None,\n",
       "            max_features=None, max_leaf_nodes=None,\n",
       "            min_impurity_decrease=0.0, min_impurity_split=None,\n",
       "            min_samples_leaf=1, min_samples_split=2,\n",
       "            min_weight_fraction_leaf=0.0, presort=False, random_state=0,\n",
       "            splitter='best')"
      ]
     },
     "execution_count": 131,
     "metadata": {},
     "output_type": "execute_result"
    }
   ],
   "source": [
    "# Split data into train test set in train:test=70:30 size\n",
    "df=df1.copy()\n",
    "y = df[\"is_canceled\"]\n",
    "X = df.drop([\"is_canceled\"], axis=1)\n",
    "\n",
    "X_train, X_test, y_train, y_test = train_test_split(X, y, test_size = 0.30, random_state = 42)\n",
    "clf4 = DecisionTreeClassifier(criterion=\"entropy\",random_state = 0)\n",
    "clf4.fit(X_train, y_train)"
   ]
  },
  {
   "cell_type": "code",
   "execution_count": 132,
   "metadata": {},
   "outputs": [
    {
     "name": "stdout",
     "output_type": "stream",
     "text": [
      "('f1 score: ', 0.7611090295991008)\n"
     ]
    }
   ],
   "source": [
    "y_pred4 = clf4.predict(X_test)\n",
    "y_prob4 = clf4.predict_proba(X_test)\n",
    "print(\"f1 score: \", f1_score(y_test,y_pred4))"
   ]
  },
  {
   "cell_type": "markdown",
   "metadata": {},
   "source": [
    "Impurity criterion did not affect our model performance. The feature importance of the 2 models also look similar "
   ]
  },
  {
   "cell_type": "code",
   "execution_count": 76,
   "metadata": {},
   "outputs": [
    {
     "data": {
      "text/html": [
       "<div>\n",
       "<style scoped>\n",
       "    .dataframe tbody tr th:only-of-type {\n",
       "        vertical-align: middle;\n",
       "    }\n",
       "\n",
       "    .dataframe tbody tr th {\n",
       "        vertical-align: top;\n",
       "    }\n",
       "\n",
       "    .dataframe thead th {\n",
       "        text-align: right;\n",
       "    }\n",
       "</style>\n",
       "<table border=\"1\" class=\"dataframe\">\n",
       "  <thead>\n",
       "    <tr style=\"text-align: right;\">\n",
       "      <th></th>\n",
       "      <th>Clf2_Importance</th>\n",
       "      <th>Clf3_Importance</th>\n",
       "      <th>Features</th>\n",
       "    </tr>\n",
       "  </thead>\n",
       "  <tbody>\n",
       "    <tr>\n",
       "      <th>13</th>\n",
       "      <td>0.237134</td>\n",
       "      <td>0.203415</td>\n",
       "      <td>deposit_type</td>\n",
       "    </tr>\n",
       "    <tr>\n",
       "      <th>1</th>\n",
       "      <td>0.168706</td>\n",
       "      <td>0.176323</td>\n",
       "      <td>lead_time</td>\n",
       "    </tr>\n",
       "    <tr>\n",
       "      <th>16</th>\n",
       "      <td>0.118033</td>\n",
       "      <td>0.127984</td>\n",
       "      <td>adr</td>\n",
       "    </tr>\n",
       "    <tr>\n",
       "      <th>5</th>\n",
       "      <td>0.081162</td>\n",
       "      <td>0.089640</td>\n",
       "      <td>arrival_date_day_of_month</td>\n",
       "    </tr>\n",
       "    <tr>\n",
       "      <th>4</th>\n",
       "      <td>0.059990</td>\n",
       "      <td>0.063001</td>\n",
       "      <td>arrival_date_week_number</td>\n",
       "    </tr>\n",
       "    <tr>\n",
       "      <th>19</th>\n",
       "      <td>0.053855</td>\n",
       "      <td>0.055489</td>\n",
       "      <td>total_days</td>\n",
       "    </tr>\n",
       "    <tr>\n",
       "      <th>18</th>\n",
       "      <td>0.058941</td>\n",
       "      <td>0.047579</td>\n",
       "      <td>total_of_special_requests</td>\n",
       "    </tr>\n",
       "    <tr>\n",
       "      <th>7</th>\n",
       "      <td>0.038042</td>\n",
       "      <td>0.035656</td>\n",
       "      <td>market_segment</td>\n",
       "    </tr>\n",
       "    <tr>\n",
       "      <th>17</th>\n",
       "      <td>0.019395</td>\n",
       "      <td>0.033527</td>\n",
       "      <td>required_car_parking_spaces</td>\n",
       "    </tr>\n",
       "    <tr>\n",
       "      <th>11</th>\n",
       "      <td>0.025025</td>\n",
       "      <td>0.025294</td>\n",
       "      <td>assigned_room_type</td>\n",
       "    </tr>\n",
       "    <tr>\n",
       "      <th>2</th>\n",
       "      <td>0.018952</td>\n",
       "      <td>0.022299</td>\n",
       "      <td>arrival_date_year</td>\n",
       "    </tr>\n",
       "    <tr>\n",
       "      <th>20</th>\n",
       "      <td>0.018470</td>\n",
       "      <td>0.019836</td>\n",
       "      <td>total_customers</td>\n",
       "    </tr>\n",
       "    <tr>\n",
       "      <th>15</th>\n",
       "      <td>0.017278</td>\n",
       "      <td>0.018251</td>\n",
       "      <td>customer_type</td>\n",
       "    </tr>\n",
       "    <tr>\n",
       "      <th>3</th>\n",
       "      <td>0.017450</td>\n",
       "      <td>0.017859</td>\n",
       "      <td>arrival_date_month</td>\n",
       "    </tr>\n",
       "    <tr>\n",
       "      <th>12</th>\n",
       "      <td>0.020870</td>\n",
       "      <td>0.016407</td>\n",
       "      <td>booking_changes</td>\n",
       "    </tr>\n",
       "    <tr>\n",
       "      <th>10</th>\n",
       "      <td>0.013547</td>\n",
       "      <td>0.015082</td>\n",
       "      <td>reserved_room_type</td>\n",
       "    </tr>\n",
       "    <tr>\n",
       "      <th>6</th>\n",
       "      <td>0.014318</td>\n",
       "      <td>0.012590</td>\n",
       "      <td>meal</td>\n",
       "    </tr>\n",
       "    <tr>\n",
       "      <th>0</th>\n",
       "      <td>0.008909</td>\n",
       "      <td>0.008999</td>\n",
       "      <td>hotel</td>\n",
       "    </tr>\n",
       "    <tr>\n",
       "      <th>8</th>\n",
       "      <td>0.004925</td>\n",
       "      <td>0.005851</td>\n",
       "      <td>distribution_channel</td>\n",
       "    </tr>\n",
       "    <tr>\n",
       "      <th>9</th>\n",
       "      <td>0.002296</td>\n",
       "      <td>0.002697</td>\n",
       "      <td>is_repeated_guest</td>\n",
       "    </tr>\n",
       "    <tr>\n",
       "      <th>14</th>\n",
       "      <td>0.002700</td>\n",
       "      <td>0.002223</td>\n",
       "      <td>days_in_waiting_list</td>\n",
       "    </tr>\n",
       "  </tbody>\n",
       "</table>\n",
       "</div>"
      ],
      "text/plain": [
       "    Clf2_Importance  Clf3_Importance                     Features\n",
       "13         0.237134         0.203415                 deposit_type\n",
       "1          0.168706         0.176323                    lead_time\n",
       "16         0.118033         0.127984                          adr\n",
       "5          0.081162         0.089640    arrival_date_day_of_month\n",
       "4          0.059990         0.063001     arrival_date_week_number\n",
       "19         0.053855         0.055489                   total_days\n",
       "18         0.058941         0.047579    total_of_special_requests\n",
       "7          0.038042         0.035656               market_segment\n",
       "17         0.019395         0.033527  required_car_parking_spaces\n",
       "11         0.025025         0.025294           assigned_room_type\n",
       "2          0.018952         0.022299            arrival_date_year\n",
       "20         0.018470         0.019836              total_customers\n",
       "15         0.017278         0.018251                customer_type\n",
       "3          0.017450         0.017859           arrival_date_month\n",
       "12         0.020870         0.016407              booking_changes\n",
       "10         0.013547         0.015082           reserved_room_type\n",
       "6          0.014318         0.012590                         meal\n",
       "0          0.008909         0.008999                        hotel\n",
       "8          0.004925         0.005851         distribution_channel\n",
       "9          0.002296         0.002697            is_repeated_guest\n",
       "14         0.002700         0.002223         days_in_waiting_list"
      ]
     },
     "execution_count": 76,
     "metadata": {},
     "output_type": "execute_result"
    }
   ],
   "source": [
    "d = pd.DataFrame(\n",
    "    {'Features': list(X_train.columns),\n",
    "     'Clf2_Importance': clf2.feature_importances_,\n",
    "     'Clf3_Importance': clf3.feat ure_importances_\n",
    "    })\n",
    "d.sort_values(by=['Clf3_Importance'],ascending=False)"
   ]
  },
  {
   "cell_type": "markdown",
   "metadata": {},
   "source": [
    "<b>Training metric</b>"
   ]
  },
  {
   "cell_type": "code",
   "execution_count": 133,
   "metadata": {},
   "outputs": [
    {
     "name": "stdout",
     "output_type": "stream",
     "text": [
      "('test-set confusion matrix:\\n', array([[52528,   160],\n",
      "       [  514, 30371]], dtype=int64))\n",
      "('f1 score: ', 0.9890256610655205)\n",
      "('accuracy score: ', 0.9919351943809603)\n"
     ]
    }
   ],
   "source": [
    "y_pred4_train = clf4.predict(X_train)\n",
    "print('test-set confusion matrix:\\n', confusion_matrix(y_train,y_pred4_train)) \n",
    "print(\"f1 score: \", f1_score(y_train,y_pred4_train))\n",
    "print(\"accuracy score: \", accuracy_score(y_train,y_pred4_train))"
   ]
  },
  {
   "cell_type": "markdown",
   "metadata": {},
   "source": [
    "We see that the model has very low training error but considerably high test error. This indicates that the model is overfitted. "
   ]
  },
  {
   "cell_type": "markdown",
   "metadata": {},
   "source": [
    "### Model 4 -\n",
    "Pruning the model to avoid overfitting <br>\n",
    "We have multiple hyperparameters such as max_depth, min_sample_split etc which can be tuned to prune the model. "
   ]
  },
  {
   "cell_type": "code",
   "execution_count": 83,
   "metadata": {},
   "outputs": [
    {
     "data": {
      "image/png": "[encoded data removed]",
      "text/plain": [
       "<Figure size 432x288 with 1 Axes>"
      ]
     },
     "metadata": {
      "needs_background": "light"
     },
     "output_type": "display_data"
    }
   ],
   "source": [
    "max_depths = np.linspace(1, 32, 32, endpoint=True)\n",
    "train_results = []\n",
    "test_results = []\n",
    "for max_depth in max_depths:\n",
    "   clf4 = DecisionTreeClassifier(max_depth=max_depth)\n",
    "   clf4.fit(X_train, y_train)\n",
    "   train_pred = clf4.predict(X_train)\n",
    "   false_positive_rate, true_positive_rate, thresholds = roc_curve(y_train, train_pred)\n",
    "   roc_auc = auc(false_positive_rate, true_positive_rate)\n",
    "\n",
    "   train_results.append(roc_auc)\n",
    "   y_pred = clf4.predict(X_test)\n",
    "   false_positive_rate, true_positive_rate, thresholds = roc_curve(y_test, y_pred)\n",
    "   roc_auc = auc(false_positive_rate, true_positive_rate)\n",
    "\n",
    "   test_results.append(roc_auc)\n",
    "from matplotlib.legend_handler import HandlerLine2D\n",
    "line1, = plt.plot(max_depths, train_results, 'b', label=\"Train AUC\")\n",
    "line2, = plt.plot(max_depths, test_results, 'r', label=\"Test AUC\")\n",
    "plt.legend(handler_map={line1: HandlerLine2D(numpoints=2)})\n",
    "plt.ylabel('AUC score')\n",
    "plt.xlabel('Tree depth')\n",
    "plt.show()"
   ]
  },
  {
   "cell_type": "markdown",
   "metadata": {},
   "source": [
    "As the tree depth increases, our training error reduces and we get a perfect AUC score of 1, however the widening gap between the test and training error curve indicates that the model is unable to generalize well on unseen data i.e. the model has overfitted"
   ]
  },
  {
   "cell_type": "code",
   "execution_count": 89,
   "metadata": {},
   "outputs": [
    {
     "name": "stdout",
     "output_type": "stream",
     "text": [
      "('Train data f1 score: ', 0.7940868472493717)\n",
      "('Test data f1 score: ', 0.7422755361686659)\n"
     ]
    }
   ],
   "source": [
    "y = df[\"is_canceled\"]\n",
    "X = df.drop([\"is_canceled\"], axis=1)\n",
    "\n",
    "X_train, X_test, y_train, y_test = train_test_split(X, y, test_size = 0.30, random_state = 42)\n",
    "clf4 = DecisionTreeClassifier(criterion=\"gini\",random_state = 0,max_depth=15)\n",
    "clf4.fit(X_train, y_train)\n",
    "y_pred4 = clf4.predict(X_test)\n",
    "y_pred4_train = clf4.predict(X_train)\n",
    "print(\"Train data f1 score: \", f1_score(y_train,y_pred4_train))\n",
    "print(\"Test data f1 score: \", f1_score(y_test,y_pred4))"
   ]
  },
  {
   "cell_type": "markdown",
   "metadata": {},
   "source": [
    "### Model 5\n",
    "Experiment with class weight. Our data is slightly imbalanced, so try to assign higher weight for positive samples versus negative samples using <b>class_weight</b> hyeperparameter. We can assign {class:weight} or “balanced”<br>\n",
    "\n",
    "The “balanced” mode uses the values of y to automatically adjust weights inversely proportional to class frequencies in the input data as n_samples / (n_classes * np.bincount(y))\n",
    "</br>"
   ]
  },
  {
   "cell_type": "code",
   "execution_count": 95,
   "metadata": {},
   "outputs": [
    {
     "name": "stdout",
     "output_type": "stream",
     "text": [
      "('Train data f1 score: ', 0.7973304450320154)\n",
      "('Test data f1 score: ', 0.7519196692262256)\n"
     ]
    }
   ],
   "source": [
    "y = df[\"is_canceled\"]\n",
    "X = df.drop([\"is_canceled\"], axis=1)\n",
    "\n",
    "X_train, X_test, y_train, y_test = train_test_split(X, y, test_size = 0.30, random_state = 42)\n",
    "clf5 = DecisionTreeClassifier(criterion=\"gini\",random_state = 0,max_depth=15,class_weight=\"balanced\")\n",
    "clf5.fit(X_train, y_train)\n",
    "y_pred5 = clf5.predict(X_test)\n",
    "y_pred5_train = clf5.predict(X_train)\n",
    "print(\"Train data f1 score: \", f1_score(y_train,y_pred5_train))\n",
    "print(\"Test data f1 score: \", f1_score(y_test,y_pred5))"
   ]
  },
  {
   "cell_type": "markdown",
   "metadata": {},
   "source": [
    "By adjusting the class_weight, our test f1 score has improved by 1%"
   ]
  },
  {
   "cell_type": "markdown",
   "metadata": {},
   "source": [
    "Decision tree has many hyperparameters and we can use sklearn's <b>GridSearchCV</b> or <b>RandomizedSearchCV</b> to find the best hyperparaters. <a href=\"https://scikit-learn.org/stable/modules/grid_search.html\">Sklearn documentation</a>"
   ]
  },
  {
   "cell_type": "markdown",
   "metadata": {},
   "source": [
    "## Ensemble model - Random forest\n",
    "Random forest is a ensemble of decision trees which aims to improve prediction accuracy while avoiding over fitting. In sklearn's Random forest implementation, each subsample used to fit each tree is same size as actual data but sampled using replacement if <b>bootstrap </b> hyperparameter is set to True. It has many hyperparameters similar to decision tree. <a href=\"https://scikit-learn.org/stable/modules/generated/sklearn.ensemble.RandomForestClassifier.html\">sklearn documenatation </a>"
   ]
  },
  {
   "cell_type": "code",
   "execution_count": 103,
   "metadata": {},
   "outputs": [
    {
     "name": "stdout",
     "output_type": "stream",
     "text": [
      "('Train data f1 score: ', 0.9745915918877166)\n",
      "('Test data f1 score: ', 0.7894843439867136)\n"
     ]
    }
   ],
   "source": [
    "y = df[\"is_canceled\"]\n",
    "X = df.drop([\"is_canceled\"], axis=1)\n",
    "X_train, X_test, y_train, y_test = train_test_split(X, y, test_size = 0.30, random_state = 42)\n",
    "rf1=RandomForestClassifier()\n",
    "rf1.fit(X_train,y_train)\n",
    "y_pred_rf1=rf1.predict(X_test)\n",
    "y_pred_rf1_train=rf1.predict(X_train)\n",
    "\n",
    "print(\"Train data f1 score: \", f1_score(y_train,y_pred_rf1_train))\n",
    "print(\"Test data f1 score: \", f1_score(y_test,y_pred_rf1))"
   ]
  },
  {
   "cell_type": "code",
   "execution_count": 104,
   "metadata": {},
   "outputs": [
    {
     "data": {
      "text/plain": [
       "{'bootstrap': True,\n",
       " 'class_weight': None,\n",
       " 'criterion': 'gini',\n",
       " 'max_depth': None,\n",
       " 'max_features': 'auto',\n",
       " 'max_leaf_nodes': None,\n",
       " 'min_impurity_decrease': 0.0,\n",
       " 'min_impurity_split': None,\n",
       " 'min_samples_leaf': 1,\n",
       " 'min_samples_split': 2,\n",
       " 'min_weight_fraction_leaf': 0.0,\n",
       " 'n_estimators': 10,\n",
       " 'n_jobs': None,\n",
       " 'oob_score': False,\n",
       " 'random_state': None,\n",
       " 'verbose': 0,\n",
       " 'warm_start': False}"
      ]
     },
     "execution_count": 104,
     "metadata": {},
     "output_type": "execute_result"
    }
   ],
   "source": [
    "rf1.get_params()"
   ]
  },
  {
   "cell_type": "markdown",
   "metadata": {},
   "source": [
    "With default setting, we see that the model has better performance on test data but the training data f1 score is very high, signifying a overfitting. "
   ]
  },
  {
   "cell_type": "markdown",
   "metadata": {},
   "source": [
    "### Model 2\n",
    "1. Using optimal max_depth \n",
    "2. Class_weight = \"balanced_subsample\" - Same as balanced but the ratio is computed for each tree based on the bootstrapped data considered"
   ]
  },
  {
   "cell_type": "code",
   "execution_count": 106,
   "metadata": {},
   "outputs": [
    {
     "name": "stdout",
     "output_type": "stream",
     "text": [
      "('Train data f1 score: ', 0.8196379611666051)\n",
      "('Test data f1 score: ', 0.7792070617526123)\n"
     ]
    }
   ],
   "source": [
    "y = df[\"is_canceled\"]\n",
    "X = df.drop([\"is_canceled\"], axis=1)\n",
    "X_train, X_test, y_train, y_test = train_test_split(X, y, test_size = 0.30, random_state = 42)\n",
    "rf2=RandomForestClassifier(max_depth=15,class_weight=\"balanced_subsample\")\n",
    "rf2.fit(X_train,y_train)\n",
    "y_pred_rf2=rf2.predict(X_test)\n",
    "y_pred_rf2_train=rf2.predict(X_train)\n",
    "\n",
    "print(\"Train data f1 score: \", f1_score(y_train,y_pred_rf2_train))\n",
    "print(\"Test data f1 score: \", f1_score(y_test,y_pred_rf2))"
   ]
  },
  {
   "cell_type": "markdown",
   "metadata": {},
   "source": [
    "### Model 3\n",
    "1. Increase number of estimators to 50; It increases the training time "
   ]
  },
  {
   "cell_type": "code",
   "execution_count": 108,
   "metadata": {},
   "outputs": [
    {
     "name": "stdout",
     "output_type": "stream",
     "text": [
      "('Train data f1 score: ', 0.8312147350671248)\n",
      "('Test data f1 score: ', 0.786883991429446)\n"
     ]
    }
   ],
   "source": [
    "y = df[\"is_canceled\"]\n",
    "X = df.drop([\"is_canceled\"], axis=1)\n",
    "X_train, X_test, y_train, y_test = train_test_split(X, y, test_size = 0.30, random_state = 42)\n",
    "rf3=RandomForestClassifier(max_depth=15,class_weight=\"balanced_subsample\",n_estimators=50)\n",
    "rf3.fit(X_train,y_train)\n",
    "y_pred_rf3=rf3.predict(X_test)\n",
    "y_pred_rf3_train=rf3.predict(X_train)\n",
    "\n",
    "print(\"Train data f1 score: \", f1_score(y_train,y_pred_rf3_train))\n",
    "print(\"Test data f1 score: \", f1_score(y_test,y_pred_rf3))"
   ]
  },
  {
   "cell_type": "markdown",
   "metadata": {},
   "source": [
    "## ROC curve\n",
    "We will compare the best versions of the 3 classifiers we have trained so far in classification session -\n",
    "1. Gaussian Naive Bayes\n",
    "2. Decision tree model \n",
    "3. Random forest"
   ]
  },
  {
   "cell_type": "code",
   "execution_count": 114,
   "metadata": {},
   "outputs": [],
   "source": [
    "classifier3 = GaussianNB()\n",
    "classifier3.fit(X_train, y_train)\n",
    "y_probNB = classifier3.predict_proba(X_test)\n",
    "false_positive_rateNB, true_positive_rateNB, thresholdNB = roc_curve(y_test, y_probNB[:,1])\n",
    "roc_aucNB = auc(false_positive_rateNB, true_positive_rateNB)"
   ]
  },
  {
   "cell_type": "code",
   "execution_count": 110,
   "metadata": {},
   "outputs": [],
   "source": [
    "y_prob5 = clf5.predict_proba(X_test)\n",
    "false_positive_rateDT, true_positive_rateDT, thresholdDT = roc_curve(y_test, y_prob5[:,1])\n",
    "roc_aucDT = auc(false_positive_rateDT, true_positive_rateDT)"
   ]
  },
  {
   "cell_type": "code",
   "execution_count": 111,
   "metadata": {},
   "outputs": [],
   "source": [
    "y_prob_rf = rf3.predict_proba(X_test)\n",
    "false_positive_rateRF, true_positive_rateRF, thresholdRF = roc_curve(y_test, y_prob_rf[:,1])\n",
    "roc_aucRF = auc(false_positive_rateRF, true_positive_rateRF)"
   ]
  },
  {
   "cell_type": "code",
   "execution_count": 115,
   "metadata": {},
   "outputs": [
    {
     "data": {
      "text/plain": [
       "Text(0.5,0,'False Positive Rate')"
      ]
     },
     "execution_count": 115,
     "metadata": {},
     "output_type": "execute_result"
    },
    {
     "data": {
      "image/png": "[encoded data removed]",
      "text/plain": [
       "<Figure size 720x720 with 1 Axes>"
      ]
     },
     "metadata": {
      "needs_background": "light"
     },
     "output_type": "display_data"
    }
   ],
   "source": [
    "plt.figure(figsize = (10,10))\n",
    "plt.title('Receiver Operating Characteristic')\n",
    "plt.plot(false_positive_rateDT, true_positive_rateDT, color = 'red', label = 'DT AUC = %0.2f' % roc_aucDT)\n",
    "plt.plot(false_positive_rateRF, true_positive_rateRF, color = 'green', label = 'RF AUC = %0.2f' % roc_aucRF)\n",
    "plt.plot(false_positive_rateNB, true_positive_rateNB, color = 'yellow', label = 'NB AUC = %0.2f' % roc_aucNB)\n",
    "plt.legend(loc = 'lower right')\n",
    "plt.plot([0, 1], [0, 1], linestyle = '--')\n",
    "plt.axis('tight')\n",
    "plt.ylabel('True Positive Rate')\n",
    "plt.xlabel('False Positive Rate')"
   ]
  },
  {
   "cell_type": "markdown",
   "metadata": {},
   "source": [
    "We see that Random forest has the best performance among the 3 models"
   ]
  },
  {
   "cell_type": "code",
   "execution_count": null,
   "metadata": {},
   "outputs": [],
   "source": []
  }
 ],
 "metadata": {
  "kernelspec": {
   "display_name": "Python 2",
   "language": "python",
   "name": "python2"
  },
  "language_info": {
   "codemirror_mode": {
    "name": "ipython",
    "version": 2
   },
   "file_extension": ".py",
   "mimetype": "text/x-python",
   "name": "python",
   "nbconvert_exporter": "python",
   "pygments_lexer": "ipython2",
   "version": "2.7.16"
  }
 },
 "nbformat": 4,
 "nbformat_minor": 2
}
