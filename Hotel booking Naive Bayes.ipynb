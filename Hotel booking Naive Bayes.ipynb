{
 "cells": [
  {
   "cell_type": "markdown",
   "metadata": {},
   "source": [
    "In this notebook we will build a classification model using Naive Bayes classifier from python's scikit learn library"
   ]
  },
  {
   "cell_type": "markdown",
   "metadata": {},
   "source": [
    "## Loading Data"
   ]
  },
  {
   "cell_type": "markdown",
   "metadata": {},
   "source": [
    "In this section we will import all the necessary packages and load the datasets we plan to work on. We will use the \n",
    "<a href='https://www.kaggle.com/jessemostipak/hotel-booking-demand'> Hotel booking data </a> and build a model to determine which customers will cancel their hotel booking"
   ]
  },
  {
   "cell_type": "code",
   "execution_count": 193,
   "metadata": {},
   "outputs": [],
   "source": [
    "import numpy as np\n",
    "import pandas as pd\n",
    "import seaborn as sns\n",
    "import matplotlib.pyplot as plt\n",
    "from scipy.stats.stats import pearsonr\n",
    "from sklearn.naive_bayes import GaussianNB\n",
    "from sklearn.naive_bayes import BernoulliNB \n",
    "from sklearn.model_selection import train_test_split\n",
    "from sklearn import metrics\n",
    "from sklearn.preprocessing import LabelEncoder"
   ]
  },
  {
   "cell_type": "code",
   "execution_count": 140,
   "metadata": {},
   "outputs": [],
   "source": [
    "# Load the data\n",
    "file_path = 'C:\\Users\\Tejal\\Documents\\Tejal\\WWC-siliconvalley\\hotel_bookings.csv'\n",
    "df = pd.read_csv(file_path)"
   ]
  },
  {
   "cell_type": "markdown",
   "metadata": {},
   "source": [
    "## Explore the dataset"
   ]
  },
  {
   "cell_type": "markdown",
   "metadata": {},
   "source": [
    "Understanding the data, its features and distribution is a major part of builiding ML models. "
   ]
  },
  {
   "cell_type": "code",
   "execution_count": 139,
   "metadata": {},
   "outputs": [
    {
     "data": {
      "text/html": [
       "<div>\n",
       "<style scoped>\n",
       "    .dataframe tbody tr th:only-of-type {\n",
       "        vertical-align: middle;\n",
       "    }\n",
       "\n",
       "    .dataframe tbody tr th {\n",
       "        vertical-align: top;\n",
       "    }\n",
       "\n",
       "    .dataframe thead th {\n",
       "        text-align: right;\n",
       "    }\n",
       "</style>\n",
       "<table border=\"1\" class=\"dataframe\">\n",
       "  <thead>\n",
       "    <tr style=\"text-align: right;\">\n",
       "      <th></th>\n",
       "      <th>hotel</th>\n",
       "      <th>is_canceled</th>\n",
       "      <th>lead_time</th>\n",
       "      <th>arrival_date_year</th>\n",
       "      <th>arrival_date_month</th>\n",
       "      <th>arrival_date_week_number</th>\n",
       "      <th>arrival_date_day_of_month</th>\n",
       "      <th>meal</th>\n",
       "      <th>market_segment</th>\n",
       "      <th>distribution_channel</th>\n",
       "      <th>...</th>\n",
       "      <th>assigned_room_type</th>\n",
       "      <th>booking_changes</th>\n",
       "      <th>deposit_type</th>\n",
       "      <th>days_in_waiting_list</th>\n",
       "      <th>customer_type</th>\n",
       "      <th>adr</th>\n",
       "      <th>required_car_parking_spaces</th>\n",
       "      <th>total_of_special_requests</th>\n",
       "      <th>total_days</th>\n",
       "      <th>total_customers</th>\n",
       "    </tr>\n",
       "  </thead>\n",
       "  <tbody>\n",
       "    <tr>\n",
       "      <th>0</th>\n",
       "      <td>1</td>\n",
       "      <td>0</td>\n",
       "      <td>342</td>\n",
       "      <td>0</td>\n",
       "      <td>7</td>\n",
       "      <td>27</td>\n",
       "      <td>1</td>\n",
       "      <td>0</td>\n",
       "      <td>3</td>\n",
       "      <td>1</td>\n",
       "      <td>...</td>\n",
       "      <td>2</td>\n",
       "      <td>3</td>\n",
       "      <td>0</td>\n",
       "      <td>0</td>\n",
       "      <td>2</td>\n",
       "      <td>0.0</td>\n",
       "      <td>0</td>\n",
       "      <td>0</td>\n",
       "      <td>0</td>\n",
       "      <td>2.0</td>\n",
       "    </tr>\n",
       "    <tr>\n",
       "      <th>1</th>\n",
       "      <td>1</td>\n",
       "      <td>0</td>\n",
       "      <td>737</td>\n",
       "      <td>0</td>\n",
       "      <td>7</td>\n",
       "      <td>27</td>\n",
       "      <td>1</td>\n",
       "      <td>0</td>\n",
       "      <td>3</td>\n",
       "      <td>1</td>\n",
       "      <td>...</td>\n",
       "      <td>2</td>\n",
       "      <td>4</td>\n",
       "      <td>0</td>\n",
       "      <td>0</td>\n",
       "      <td>2</td>\n",
       "      <td>0.0</td>\n",
       "      <td>0</td>\n",
       "      <td>0</td>\n",
       "      <td>0</td>\n",
       "      <td>2.0</td>\n",
       "    </tr>\n",
       "    <tr>\n",
       "      <th>2</th>\n",
       "      <td>1</td>\n",
       "      <td>0</td>\n",
       "      <td>7</td>\n",
       "      <td>0</td>\n",
       "      <td>7</td>\n",
       "      <td>27</td>\n",
       "      <td>1</td>\n",
       "      <td>0</td>\n",
       "      <td>3</td>\n",
       "      <td>1</td>\n",
       "      <td>...</td>\n",
       "      <td>2</td>\n",
       "      <td>0</td>\n",
       "      <td>0</td>\n",
       "      <td>0</td>\n",
       "      <td>2</td>\n",
       "      <td>75.0</td>\n",
       "      <td>0</td>\n",
       "      <td>0</td>\n",
       "      <td>1</td>\n",
       "      <td>1.0</td>\n",
       "    </tr>\n",
       "    <tr>\n",
       "      <th>3</th>\n",
       "      <td>1</td>\n",
       "      <td>0</td>\n",
       "      <td>13</td>\n",
       "      <td>0</td>\n",
       "      <td>7</td>\n",
       "      <td>27</td>\n",
       "      <td>1</td>\n",
       "      <td>0</td>\n",
       "      <td>2</td>\n",
       "      <td>0</td>\n",
       "      <td>...</td>\n",
       "      <td>0</td>\n",
       "      <td>0</td>\n",
       "      <td>0</td>\n",
       "      <td>0</td>\n",
       "      <td>2</td>\n",
       "      <td>75.0</td>\n",
       "      <td>0</td>\n",
       "      <td>0</td>\n",
       "      <td>1</td>\n",
       "      <td>1.0</td>\n",
       "    </tr>\n",
       "    <tr>\n",
       "      <th>4</th>\n",
       "      <td>1</td>\n",
       "      <td>0</td>\n",
       "      <td>14</td>\n",
       "      <td>0</td>\n",
       "      <td>7</td>\n",
       "      <td>27</td>\n",
       "      <td>1</td>\n",
       "      <td>0</td>\n",
       "      <td>6</td>\n",
       "      <td>3</td>\n",
       "      <td>...</td>\n",
       "      <td>0</td>\n",
       "      <td>0</td>\n",
       "      <td>0</td>\n",
       "      <td>0</td>\n",
       "      <td>2</td>\n",
       "      <td>98.0</td>\n",
       "      <td>0</td>\n",
       "      <td>1</td>\n",
       "      <td>2</td>\n",
       "      <td>2.0</td>\n",
       "    </tr>\n",
       "  </tbody>\n",
       "</table>\n",
       "<p>5 rows × 22 columns</p>\n",
       "</div>"
      ],
      "text/plain": [
       "   hotel  is_canceled  lead_time  arrival_date_year  arrival_date_month  \\\n",
       "0      1            0        342                  0                   7   \n",
       "1      1            0        737                  0                   7   \n",
       "2      1            0          7                  0                   7   \n",
       "3      1            0         13                  0                   7   \n",
       "4      1            0         14                  0                   7   \n",
       "\n",
       "   arrival_date_week_number  arrival_date_day_of_month  meal  market_segment  \\\n",
       "0                        27                          1     0               3   \n",
       "1                        27                          1     0               3   \n",
       "2                        27                          1     0               3   \n",
       "3                        27                          1     0               2   \n",
       "4                        27                          1     0               6   \n",
       "\n",
       "   distribution_channel  ...  assigned_room_type  booking_changes  \\\n",
       "0                     1  ...                   2                3   \n",
       "1                     1  ...                   2                4   \n",
       "2                     1  ...                   2                0   \n",
       "3                     0  ...                   0                0   \n",
       "4                     3  ...                   0                0   \n",
       "\n",
       "   deposit_type  days_in_waiting_list  customer_type   adr  \\\n",
       "0             0                     0              2   0.0   \n",
       "1             0                     0              2   0.0   \n",
       "2             0                     0              2  75.0   \n",
       "3             0                     0              2  75.0   \n",
       "4             0                     0              2  98.0   \n",
       "\n",
       "   required_car_parking_spaces  total_of_special_requests  total_days  \\\n",
       "0                            0                          0           0   \n",
       "1                            0                          0           0   \n",
       "2                            0                          0           1   \n",
       "3                            0                          0           1   \n",
       "4                            0                          1           2   \n",
       "\n",
       "   total_customers  \n",
       "0              2.0  \n",
       "1              2.0  \n",
       "2              1.0  \n",
       "3              1.0  \n",
       "4              2.0  \n",
       "\n",
       "[5 rows x 22 columns]"
      ]
     },
     "execution_count": 139,
     "metadata": {},
     "output_type": "execute_result"
    }
   ],
   "source": [
    "df.head()"
   ]
  },
  {
   "cell_type": "code",
   "execution_count": 4,
   "metadata": {},
   "outputs": [
    {
     "data": {
      "text/plain": [
       "(119390, 32)"
      ]
     },
     "execution_count": 4,
     "metadata": {},
     "output_type": "execute_result"
    }
   ],
   "source": [
    "# Data has 119390 rows (data points) and 32 columns (features)\n",
    "df.shape"
   ]
  },
  {
   "cell_type": "code",
   "execution_count": 6,
   "metadata": {},
   "outputs": [
    {
     "data": {
      "text/plain": [
       "hotel                              object\n",
       "is_canceled                         int64\n",
       "lead_time                           int64\n",
       "arrival_date_year                   int64\n",
       "arrival_date_month                 object\n",
       "arrival_date_week_number            int64\n",
       "arrival_date_day_of_month           int64\n",
       "stays_in_weekend_nights             int64\n",
       "stays_in_week_nights                int64\n",
       "adults                              int64\n",
       "children                          float64\n",
       "babies                              int64\n",
       "meal                               object\n",
       "country                            object\n",
       "market_segment                     object\n",
       "distribution_channel               object\n",
       "is_repeated_guest                   int64\n",
       "previous_cancellations              int64\n",
       "previous_bookings_not_canceled      int64\n",
       "reserved_room_type                 object\n",
       "assigned_room_type                 object\n",
       "booking_changes                     int64\n",
       "deposit_type                       object\n",
       "agent                             float64\n",
       "company                           float64\n",
       "days_in_waiting_list                int64\n",
       "customer_type                      object\n",
       "adr                               float64\n",
       "required_car_parking_spaces         int64\n",
       "total_of_special_requests           int64\n",
       "reservation_status                 object\n",
       "reservation_status_date            object\n",
       "dtype: object"
      ]
     },
     "execution_count": 6,
     "metadata": {},
     "output_type": "execute_result"
    }
   ],
   "source": [
    "# Check the datatype of features\n",
    "df.dtypes"
   ]
  },
  {
   "cell_type": "code",
   "execution_count": 7,
   "metadata": {},
   "outputs": [
    {
     "data": {
      "text/plain": [
       "Index([u'hotel', u'is_canceled', u'lead_time', u'arrival_date_year',\n",
       "       u'arrival_date_month', u'arrival_date_week_number',\n",
       "       u'arrival_date_day_of_month', u'stays_in_weekend_nights',\n",
       "       u'stays_in_week_nights', u'adults', u'children', u'babies', u'meal',\n",
       "       u'country', u'market_segment', u'distribution_channel',\n",
       "       u'is_repeated_guest', u'previous_cancellations',\n",
       "       u'previous_bookings_not_canceled', u'reserved_room_type',\n",
       "       u'assigned_room_type', u'booking_changes', u'deposit_type', u'agent',\n",
       "       u'company', u'days_in_waiting_list', u'customer_type', u'adr',\n",
       "       u'required_car_parking_spaces', u'total_of_special_requests',\n",
       "       u'reservation_status', u'reservation_status_date'],\n",
       "      dtype='object')"
      ]
     },
     "execution_count": 7,
     "metadata": {},
     "output_type": "execute_result"
    }
   ],
   "source": [
    "# Feature list \n",
    "df.columns"
   ]
  },
  {
   "cell_type": "code",
   "execution_count": 10,
   "metadata": {},
   "outputs": [
    {
     "data": {
      "text/html": [
       "<div>\n",
       "<style scoped>\n",
       "    .dataframe tbody tr th:only-of-type {\n",
       "        vertical-align: middle;\n",
       "    }\n",
       "\n",
       "    .dataframe tbody tr th {\n",
       "        vertical-align: top;\n",
       "    }\n",
       "\n",
       "    .dataframe thead th {\n",
       "        text-align: right;\n",
       "    }\n",
       "</style>\n",
       "<table border=\"1\" class=\"dataframe\">\n",
       "  <thead>\n",
       "    <tr style=\"text-align: right;\">\n",
       "      <th></th>\n",
       "      <th>column_name</th>\n",
       "      <th>percent_missing</th>\n",
       "    </tr>\n",
       "  </thead>\n",
       "  <tbody>\n",
       "    <tr>\n",
       "      <th>company</th>\n",
       "      <td>company</td>\n",
       "      <td>94.306893</td>\n",
       "    </tr>\n",
       "    <tr>\n",
       "      <th>agent</th>\n",
       "      <td>agent</td>\n",
       "      <td>13.686238</td>\n",
       "    </tr>\n",
       "    <tr>\n",
       "      <th>country</th>\n",
       "      <td>country</td>\n",
       "      <td>0.408744</td>\n",
       "    </tr>\n",
       "    <tr>\n",
       "      <th>children</th>\n",
       "      <td>children</td>\n",
       "      <td>0.003350</td>\n",
       "    </tr>\n",
       "    <tr>\n",
       "      <th>reserved_room_type</th>\n",
       "      <td>reserved_room_type</td>\n",
       "      <td>0.000000</td>\n",
       "    </tr>\n",
       "    <tr>\n",
       "      <th>assigned_room_type</th>\n",
       "      <td>assigned_room_type</td>\n",
       "      <td>0.000000</td>\n",
       "    </tr>\n",
       "    <tr>\n",
       "      <th>booking_changes</th>\n",
       "      <td>booking_changes</td>\n",
       "      <td>0.000000</td>\n",
       "    </tr>\n",
       "    <tr>\n",
       "      <th>deposit_type</th>\n",
       "      <td>deposit_type</td>\n",
       "      <td>0.000000</td>\n",
       "    </tr>\n",
       "    <tr>\n",
       "      <th>hotel</th>\n",
       "      <td>hotel</td>\n",
       "      <td>0.000000</td>\n",
       "    </tr>\n",
       "    <tr>\n",
       "      <th>previous_cancellations</th>\n",
       "      <td>previous_cancellations</td>\n",
       "      <td>0.000000</td>\n",
       "    </tr>\n",
       "    <tr>\n",
       "      <th>days_in_waiting_list</th>\n",
       "      <td>days_in_waiting_list</td>\n",
       "      <td>0.000000</td>\n",
       "    </tr>\n",
       "    <tr>\n",
       "      <th>customer_type</th>\n",
       "      <td>customer_type</td>\n",
       "      <td>0.000000</td>\n",
       "    </tr>\n",
       "    <tr>\n",
       "      <th>adr</th>\n",
       "      <td>adr</td>\n",
       "      <td>0.000000</td>\n",
       "    </tr>\n",
       "    <tr>\n",
       "      <th>required_car_parking_spaces</th>\n",
       "      <td>required_car_parking_spaces</td>\n",
       "      <td>0.000000</td>\n",
       "    </tr>\n",
       "    <tr>\n",
       "      <th>total_of_special_requests</th>\n",
       "      <td>total_of_special_requests</td>\n",
       "      <td>0.000000</td>\n",
       "    </tr>\n",
       "    <tr>\n",
       "      <th>reservation_status</th>\n",
       "      <td>reservation_status</td>\n",
       "      <td>0.000000</td>\n",
       "    </tr>\n",
       "    <tr>\n",
       "      <th>previous_bookings_not_canceled</th>\n",
       "      <td>previous_bookings_not_canceled</td>\n",
       "      <td>0.000000</td>\n",
       "    </tr>\n",
       "    <tr>\n",
       "      <th>is_repeated_guest</th>\n",
       "      <td>is_repeated_guest</td>\n",
       "      <td>0.000000</td>\n",
       "    </tr>\n",
       "    <tr>\n",
       "      <th>is_canceled</th>\n",
       "      <td>is_canceled</td>\n",
       "      <td>0.000000</td>\n",
       "    </tr>\n",
       "    <tr>\n",
       "      <th>distribution_channel</th>\n",
       "      <td>distribution_channel</td>\n",
       "      <td>0.000000</td>\n",
       "    </tr>\n",
       "    <tr>\n",
       "      <th>market_segment</th>\n",
       "      <td>market_segment</td>\n",
       "      <td>0.000000</td>\n",
       "    </tr>\n",
       "    <tr>\n",
       "      <th>meal</th>\n",
       "      <td>meal</td>\n",
       "      <td>0.000000</td>\n",
       "    </tr>\n",
       "    <tr>\n",
       "      <th>babies</th>\n",
       "      <td>babies</td>\n",
       "      <td>0.000000</td>\n",
       "    </tr>\n",
       "    <tr>\n",
       "      <th>adults</th>\n",
       "      <td>adults</td>\n",
       "      <td>0.000000</td>\n",
       "    </tr>\n",
       "    <tr>\n",
       "      <th>stays_in_week_nights</th>\n",
       "      <td>stays_in_week_nights</td>\n",
       "      <td>0.000000</td>\n",
       "    </tr>\n",
       "    <tr>\n",
       "      <th>stays_in_weekend_nights</th>\n",
       "      <td>stays_in_weekend_nights</td>\n",
       "      <td>0.000000</td>\n",
       "    </tr>\n",
       "    <tr>\n",
       "      <th>arrival_date_day_of_month</th>\n",
       "      <td>arrival_date_day_of_month</td>\n",
       "      <td>0.000000</td>\n",
       "    </tr>\n",
       "    <tr>\n",
       "      <th>arrival_date_week_number</th>\n",
       "      <td>arrival_date_week_number</td>\n",
       "      <td>0.000000</td>\n",
       "    </tr>\n",
       "    <tr>\n",
       "      <th>arrival_date_month</th>\n",
       "      <td>arrival_date_month</td>\n",
       "      <td>0.000000</td>\n",
       "    </tr>\n",
       "    <tr>\n",
       "      <th>arrival_date_year</th>\n",
       "      <td>arrival_date_year</td>\n",
       "      <td>0.000000</td>\n",
       "    </tr>\n",
       "    <tr>\n",
       "      <th>lead_time</th>\n",
       "      <td>lead_time</td>\n",
       "      <td>0.000000</td>\n",
       "    </tr>\n",
       "    <tr>\n",
       "      <th>reservation_status_date</th>\n",
       "      <td>reservation_status_date</td>\n",
       "      <td>0.000000</td>\n",
       "    </tr>\n",
       "  </tbody>\n",
       "</table>\n",
       "</div>"
      ],
      "text/plain": [
       "                                                   column_name  \\\n",
       "company                                                company   \n",
       "agent                                                    agent   \n",
       "country                                                country   \n",
       "children                                              children   \n",
       "reserved_room_type                          reserved_room_type   \n",
       "assigned_room_type                          assigned_room_type   \n",
       "booking_changes                                booking_changes   \n",
       "deposit_type                                      deposit_type   \n",
       "hotel                                                    hotel   \n",
       "previous_cancellations                  previous_cancellations   \n",
       "days_in_waiting_list                      days_in_waiting_list   \n",
       "customer_type                                    customer_type   \n",
       "adr                                                        adr   \n",
       "required_car_parking_spaces        required_car_parking_spaces   \n",
       "total_of_special_requests            total_of_special_requests   \n",
       "reservation_status                          reservation_status   \n",
       "previous_bookings_not_canceled  previous_bookings_not_canceled   \n",
       "is_repeated_guest                            is_repeated_guest   \n",
       "is_canceled                                        is_canceled   \n",
       "distribution_channel                      distribution_channel   \n",
       "market_segment                                  market_segment   \n",
       "meal                                                      meal   \n",
       "babies                                                  babies   \n",
       "adults                                                  adults   \n",
       "stays_in_week_nights                      stays_in_week_nights   \n",
       "stays_in_weekend_nights                stays_in_weekend_nights   \n",
       "arrival_date_day_of_month            arrival_date_day_of_month   \n",
       "arrival_date_week_number              arrival_date_week_number   \n",
       "arrival_date_month                          arrival_date_month   \n",
       "arrival_date_year                            arrival_date_year   \n",
       "lead_time                                            lead_time   \n",
       "reservation_status_date                reservation_status_date   \n",
       "\n",
       "                                percent_missing  \n",
       "company                               94.306893  \n",
       "agent                                 13.686238  \n",
       "country                                0.408744  \n",
       "children                               0.003350  \n",
       "reserved_room_type                     0.000000  \n",
       "assigned_room_type                     0.000000  \n",
       "booking_changes                        0.000000  \n",
       "deposit_type                           0.000000  \n",
       "hotel                                  0.000000  \n",
       "previous_cancellations                 0.000000  \n",
       "days_in_waiting_list                   0.000000  \n",
       "customer_type                          0.000000  \n",
       "adr                                    0.000000  \n",
       "required_car_parking_spaces            0.000000  \n",
       "total_of_special_requests              0.000000  \n",
       "reservation_status                     0.000000  \n",
       "previous_bookings_not_canceled         0.000000  \n",
       "is_repeated_guest                      0.000000  \n",
       "is_canceled                            0.000000  \n",
       "distribution_channel                   0.000000  \n",
       "market_segment                         0.000000  \n",
       "meal                                   0.000000  \n",
       "babies                                 0.000000  \n",
       "adults                                 0.000000  \n",
       "stays_in_week_nights                   0.000000  \n",
       "stays_in_weekend_nights                0.000000  \n",
       "arrival_date_day_of_month              0.000000  \n",
       "arrival_date_week_number               0.000000  \n",
       "arrival_date_month                     0.000000  \n",
       "arrival_date_year                      0.000000  \n",
       "lead_time                              0.000000  \n",
       "reservation_status_date                0.000000  "
      ]
     },
     "execution_count": 10,
     "metadata": {},
     "output_type": "execute_result"
    }
   ],
   "source": [
    "# Check for null values\n",
    "percent_missing = df.isnull().sum() * 100 / len(df)\n",
    "missing_value_df = pd.DataFrame({'column_name': df.columns,\n",
    "                                 'percent_missing': percent_missing})\n",
    "missing_value_df.sort_values('percent_missing', ascending=False,inplace=True)\n",
    "missing_value_df"
   ]
  },
  {
   "cell_type": "markdown",
   "metadata": {},
   "source": [
    "Company, agent, country and children have null values. There are multiple techniques for imputing null value but for simplicity we impute them with 0. As company has a very high null value percentage we will drop the column"
   ]
  },
  {
   "cell_type": "code",
   "execution_count": 141,
   "metadata": {},
   "outputs": [],
   "source": [
    "# Let us create a copy of dataframe for backup and impute null with 0\n",
    "backup_df=df.copy\n",
    "df = df.drop('company',axis=1)\n",
    "df=df.fillna(0)"
   ]
  },
  {
   "cell_type": "code",
   "execution_count": 142,
   "metadata": {},
   "outputs": [
    {
     "data": {
      "text/plain": [
       "0"
      ]
     },
     "execution_count": 142,
     "metadata": {},
     "output_type": "execute_result"
    }
   ],
   "source": [
    "# The df has no Null values\n",
    "(df['children'].isnull().sum()/len(df)) * 100"
   ]
  },
  {
   "cell_type": "markdown",
   "metadata": {},
   "source": [
    "## Data Visualization"
   ]
  },
  {
   "cell_type": "markdown",
   "metadata": {},
   "source": [
    "In this task, our target variable is is_cancelled which indicates if the booking was cancelled "
   ]
  },
  {
   "cell_type": "code",
   "execution_count": 15,
   "metadata": {},
   "outputs": [
    {
     "data": {
      "text/plain": [
       "<matplotlib.axes._subplots.AxesSubplot at 0xedb4b38>"
      ]
     },
     "execution_count": 15,
     "metadata": {},
     "output_type": "execute_result"
    },
    {
     "data": {
      "image/png": "[encoded data removed]",
      "text/plain": [
       "<Figure size 432x288 with 1 Axes>"
      ]
     },
     "metadata": {},
     "output_type": "display_data"
    }
   ],
   "source": [
    "df['is_canceled'].value_counts().plot(kind='pie',autopct='%1.1f%%')"
   ]
  },
  {
   "cell_type": "markdown",
   "metadata": {},
   "source": [
    "37% customers have cancelled their bookings. we see that our data in imbalanced"
   ]
  },
  {
   "cell_type": "code",
   "execution_count": 35,
   "metadata": {},
   "outputs": [
    {
     "data": {
      "text/plain": [
       "Index([u'hotel', u'is_canceled', u'lead_time', u'arrival_date_year',\n",
       "       u'arrival_date_month', u'arrival_date_week_number',\n",
       "       u'arrival_date_day_of_month', u'stays_in_weekend_nights',\n",
       "       u'stays_in_week_nights', u'adults', u'children', u'babies', u'meal',\n",
       "       u'country', u'market_segment', u'distribution_channel',\n",
       "       u'is_repeated_guest', u'previous_cancellations',\n",
       "       u'previous_bookings_not_canceled', u'reserved_room_type',\n",
       "       u'assigned_room_type', u'booking_changes', u'deposit_type', u'agent',\n",
       "       u'days_in_waiting_list', u'customer_type', u'adr',\n",
       "       u'required_car_parking_spaces', u'total_of_special_requests',\n",
       "       u'reservation_status', u'reservation_status_date'],\n",
       "      dtype='object')"
      ]
     },
     "execution_count": 35,
     "metadata": {},
     "output_type": "execute_result"
    }
   ],
   "source": [
    "df.columns"
   ]
  },
  {
   "cell_type": "code",
   "execution_count": 37,
   "metadata": {},
   "outputs": [
    {
     "data": {
      "text/plain": [
       "<matplotlib.axes._subplots.AxesSubplot at 0xe400550>"
      ]
     },
     "execution_count": 37,
     "metadata": {},
     "output_type": "execute_result"
    },
    {
     "data": {
      "image/png": "[encoded data removed]",
      "text/plain": [
       "<Figure size 432x288 with 1 Axes>"
      ]
     },
     "metadata": {},
     "output_type": "display_data"
    }
   ],
   "source": [
    "# Hotel feature count and distribution across 0 and 1 class \n",
    "df['hotel'].value_counts().plot(kind='pie',autopct='%1.1f%%')"
   ]
  },
  {
   "cell_type": "code",
   "execution_count": 36,
   "metadata": {},
   "outputs": [
    {
     "data": {
      "text/plain": [
       "<matplotlib.axes._subplots.AxesSubplot at 0x111c07f0>"
      ]
     },
     "execution_count": 36,
     "metadata": {},
     "output_type": "execute_result"
    },
    {
     "data": {
      "image/png": "[encoded data removed]",
      "text/plain": [
       "<Figure size 432x288 with 1 Axes>"
      ]
     },
     "metadata": {
      "needs_background": "light"
     },
     "output_type": "display_data"
    }
   ],
   "source": [
    "sns.countplot(x='is_canceled',hue='hotel',data=df)"
   ]
  },
  {
   "cell_type": "markdown",
   "metadata": {},
   "source": [
    "As data has higher city hotel reservation data points compared to resort, above observation is on par with  same trend"
   ]
  },
  {
   "cell_type": "code",
   "execution_count": 38,
   "metadata": {},
   "outputs": [
    {
     "data": {
      "text/plain": [
       "<matplotlib.axes._subplots.AxesSubplot at 0xeabe0b8>"
      ]
     },
     "execution_count": 38,
     "metadata": {},
     "output_type": "execute_result"
    },
    {
     "data": {
      "image/png": "[encoded data removed]",
      "text/plain": [
       "<Figure size 432x288 with 1 Axes>"
      ]
     },
     "metadata": {
      "needs_background": "light"
     },
     "output_type": "display_data"
    }
   ],
   "source": [
    "#market segments\n",
    "df.groupby(['market_segment'])['is_canceled'].count().plot(kind='bar')"
   ]
  },
  {
   "cell_type": "code",
   "execution_count": 65,
   "metadata": {},
   "outputs": [],
   "source": [
    "#Let us add weekend stay and weekday stay days to get total days of stay\n",
    "df['total_days'] = df['stays_in_week_nights'] + df['stays_in_weekend_nights']\n",
    "# drop the weekend stay and weekday stay days features\n",
    "df = df.drop('stays_in_week_nights',axis=1).drop('stays_in_weekend_nights',axis=1)"
   ]
  },
  {
   "cell_type": "code",
   "execution_count": 62,
   "metadata": {},
   "outputs": [
    {
     "data": {
      "image/png": "[encoded data removed]",
      "text/plain": [
       "<Figure size 1440x1440 with 2 Axes>"
      ]
     },
     "metadata": {},
     "output_type": "display_data"
    }
   ],
   "source": [
    "from pylab import *\n",
    "df_0=df[(df['is_canceled']==0)]\n",
    "df_1=df[df['is_canceled']==1]\n",
    "sns.set(rc={\"figure.figsize\": (20, 20)})\n",
    "subplot(2,2,1)\n",
    "ax = sns.distplot(df_0['total_days'], bins=100, color='r')\n",
    "subplot(2,2,2)\n",
    "ax=sns.distplot(df_1['total_days'], bins=100, color='g')"
   ]
  },
  {
   "cell_type": "code",
   "execution_count": 63,
   "metadata": {},
   "outputs": [
    {
     "data": {
      "image/png": "[encoded data removed]",
      "text/plain": [
       "<Figure size 360x360 with 1 Axes>"
      ]
     },
     "metadata": {},
     "output_type": "display_data"
    }
   ],
   "source": [
    "# lead time distribution\n",
    "g = sns.FacetGrid(df, hue=\"is_canceled\", height=5) #,xlim=(0,500))\n",
    "g = g.map(sns.kdeplot, \"lead_time\")"
   ]
  },
  {
   "cell_type": "markdown",
   "metadata": {},
   "source": [
    "## Feature Engineering"
   ]
  },
  {
   "cell_type": "markdown",
   "metadata": {},
   "source": [
    "1. Derive new features using existing features\n",
    "2. Remove irrelevant features\n",
    "3. Transform existing features\n",
    "4. Encoding categorical variables"
   ]
  },
  {
   "cell_type": "code",
   "execution_count": null,
   "metadata": {},
   "outputs": [],
   "source": [
    "#Total customers\n",
    "df['total_customers'] = df['adults'] + df['children']+df['babies']\n",
    "df = df.drop('adults',axis=1).drop('children',axis=1).drop('babies',axis=1)"
   ]
  },
  {
   "cell_type": "code",
   "execution_count": 145,
   "metadata": {},
   "outputs": [],
   "source": [
    "df = df.drop(['reservation_status_date'],axis=1)"
   ]
  },
  {
   "cell_type": "code",
   "execution_count": 146,
   "metadata": {},
   "outputs": [],
   "source": [
    "len(df['agent'].unique()) # 334 unique values - Large number of unique agents and it is categorical, difficult to encode\n",
    "df = df.drop('agent',axis=1)"
   ]
  },
  {
   "cell_type": "code",
   "execution_count": 147,
   "metadata": {},
   "outputs": [],
   "source": [
    "len(df['country'].unique()) # 178 countries\n",
    "df = df.drop('country',axis=1)"
   ]
  },
  {
   "cell_type": "code",
   "execution_count": 148,
   "metadata": {},
   "outputs": [],
   "source": [
    "# df['previous_bookings_not_canceled'].value_counts() # We observe that most data has value = 0; hence we drop the feature\n",
    "# df.groupby(['is_canceled'])['previous_bookings_not_canceled'].value_counts() # We observe that data distribution across both class is remains same\n",
    "df = df.drop('previous_bookings_not_canceled',axis=1)"
   ]
  },
  {
   "cell_type": "code",
   "execution_count": 149,
   "metadata": {},
   "outputs": [],
   "source": [
    "# df['previous_cancellations'].value_counts().plot('bar') \n",
    "# df.groupby(['is_canceled'])['previous_cancellations'].value_counts()\n",
    "df = df.drop('previous_cancellations',axis=1)"
   ]
  },
  {
   "cell_type": "code",
   "execution_count": 150,
   "metadata": {},
   "outputs": [
    {
     "data": {
      "text/plain": [
       "24"
      ]
     },
     "execution_count": 150,
     "metadata": {},
     "output_type": "execute_result"
    }
   ],
   "source": [
    "len(df.columns)"
   ]
  },
  {
   "cell_type": "code",
   "execution_count": 151,
   "metadata": {},
   "outputs": [],
   "source": [
    "backup = df.copy()"
   ]
  },
  {
   "cell_type": "code",
   "execution_count": 152,
   "metadata": {},
   "outputs": [],
   "source": [
    "#Custom encoding\n",
    "df['arrival_date_month'] = df['arrival_date_month'].map({'January':1, 'February': 2, 'March':3, \\\n",
    "                                                         'April':4, 'May':5, 'June':6, 'July':7,\\\n",
    "                                                         'August':8, 'September':9, 'October':10, \\\n",
    "                                                         'November':11, 'December':12})"
   ]
  },
  {
   "cell_type": "code",
   "execution_count": 153,
   "metadata": {},
   "outputs": [],
   "source": [
    "encode = LabelEncoder()"
   ]
  },
  {
   "cell_type": "code",
   "execution_count": 154,
   "metadata": {},
   "outputs": [
    {
     "data": {
      "text/plain": [
       "Index([u'hotel', u'is_canceled', u'lead_time', u'arrival_date_year',\n",
       "       u'arrival_date_month', u'arrival_date_week_number',\n",
       "       u'arrival_date_day_of_month', u'stays_in_weekend_nights',\n",
       "       u'stays_in_week_nights', u'meal', u'market_segment',\n",
       "       u'distribution_channel', u'is_repeated_guest', u'reserved_room_type',\n",
       "       u'assigned_room_type', u'booking_changes', u'deposit_type',\n",
       "       u'days_in_waiting_list', u'customer_type', u'adr',\n",
       "       u'required_car_parking_spaces', u'total_of_special_requests',\n",
       "       u'reservation_status', u'total_customers'],\n",
       "      dtype='object')"
      ]
     },
     "execution_count": 154,
     "metadata": {},
     "output_type": "execute_result"
    }
   ],
   "source": [
    "df.columns"
   ]
  },
  {
   "cell_type": "code",
   "execution_count": 155,
   "metadata": {},
   "outputs": [],
   "source": [
    "cat_col=['hotel','arrival_date_year','meal','market_segment','distribution_channel','reserved_room_type', 'assigned_room_type',\\\n",
    "        'deposit_type','customer_type','reservation_status']\n",
    "for i in cat_col:\n",
    "    df[i] = encode.fit_transform(df[i])"
   ]
  },
  {
   "cell_type": "code",
   "execution_count": 102,
   "metadata": {},
   "outputs": [
    {
     "data": {
      "text/html": [
       "<div>\n",
       "<style scoped>\n",
       "    .dataframe tbody tr th:only-of-type {\n",
       "        vertical-align: middle;\n",
       "    }\n",
       "\n",
       "    .dataframe tbody tr th {\n",
       "        vertical-align: top;\n",
       "    }\n",
       "\n",
       "    .dataframe thead th {\n",
       "        text-align: right;\n",
       "    }\n",
       "</style>\n",
       "<table border=\"1\" class=\"dataframe\">\n",
       "  <thead>\n",
       "    <tr style=\"text-align: right;\">\n",
       "      <th></th>\n",
       "      <th>arrival_date_year</th>\n",
       "      <th>meal</th>\n",
       "      <th>market_segment</th>\n",
       "      <th>distribution_channel</th>\n",
       "      <th>reserved_room_type</th>\n",
       "      <th>assigned_room_type</th>\n",
       "      <th>deposit_type</th>\n",
       "      <th>customer_type</th>\n",
       "      <th>reservation_status</th>\n",
       "    </tr>\n",
       "  </thead>\n",
       "  <tbody>\n",
       "    <tr>\n",
       "      <th>0</th>\n",
       "      <td>0</td>\n",
       "      <td>0</td>\n",
       "      <td>3</td>\n",
       "      <td>1</td>\n",
       "      <td>2</td>\n",
       "      <td>2</td>\n",
       "      <td>0</td>\n",
       "      <td>2</td>\n",
       "      <td>1</td>\n",
       "    </tr>\n",
       "    <tr>\n",
       "      <th>1</th>\n",
       "      <td>0</td>\n",
       "      <td>0</td>\n",
       "      <td>3</td>\n",
       "      <td>1</td>\n",
       "      <td>2</td>\n",
       "      <td>2</td>\n",
       "      <td>0</td>\n",
       "      <td>2</td>\n",
       "      <td>1</td>\n",
       "    </tr>\n",
       "    <tr>\n",
       "      <th>2</th>\n",
       "      <td>0</td>\n",
       "      <td>0</td>\n",
       "      <td>3</td>\n",
       "      <td>1</td>\n",
       "      <td>0</td>\n",
       "      <td>2</td>\n",
       "      <td>0</td>\n",
       "      <td>2</td>\n",
       "      <td>1</td>\n",
       "    </tr>\n",
       "    <tr>\n",
       "      <th>3</th>\n",
       "      <td>0</td>\n",
       "      <td>0</td>\n",
       "      <td>2</td>\n",
       "      <td>0</td>\n",
       "      <td>0</td>\n",
       "      <td>0</td>\n",
       "      <td>0</td>\n",
       "      <td>2</td>\n",
       "      <td>1</td>\n",
       "    </tr>\n",
       "    <tr>\n",
       "      <th>4</th>\n",
       "      <td>0</td>\n",
       "      <td>0</td>\n",
       "      <td>6</td>\n",
       "      <td>3</td>\n",
       "      <td>0</td>\n",
       "      <td>0</td>\n",
       "      <td>0</td>\n",
       "      <td>2</td>\n",
       "      <td>1</td>\n",
       "    </tr>\n",
       "  </tbody>\n",
       "</table>\n",
       "</div>"
      ],
      "text/plain": [
       "   arrival_date_year  meal  market_segment  distribution_channel  \\\n",
       "0                  0     0               3                     1   \n",
       "1                  0     0               3                     1   \n",
       "2                  0     0               3                     1   \n",
       "3                  0     0               2                     0   \n",
       "4                  0     0               6                     3   \n",
       "\n",
       "   reserved_room_type  assigned_room_type  deposit_type  customer_type  \\\n",
       "0                   2                   2             0              2   \n",
       "1                   2                   2             0              2   \n",
       "2                   0                   2             0              2   \n",
       "3                   0                   0             0              2   \n",
       "4                   0                   0             0              2   \n",
       "\n",
       "   reservation_status  \n",
       "0                   1  \n",
       "1                   1  \n",
       "2                   1  \n",
       "3                   1  \n",
       "4                   1  "
      ]
     },
     "execution_count": 102,
     "metadata": {},
     "output_type": "execute_result"
    }
   ],
   "source": [
    "df[cat_col].head()"
   ]
  },
  {
   "cell_type": "markdown",
   "metadata": {},
   "source": [
    "### Feature correlation"
   ]
  },
  {
   "cell_type": "code",
   "execution_count": 104,
   "metadata": {
    "scrolled": false
   },
   "outputs": [
    {
     "data": {
      "text/html": [
       "<div>\n",
       "<style scoped>\n",
       "    .dataframe tbody tr th:only-of-type {\n",
       "        vertical-align: middle;\n",
       "    }\n",
       "\n",
       "    .dataframe tbody tr th {\n",
       "        vertical-align: top;\n",
       "    }\n",
       "\n",
       "    .dataframe thead th {\n",
       "        text-align: right;\n",
       "    }\n",
       "</style>\n",
       "<table border=\"1\" class=\"dataframe\">\n",
       "  <thead>\n",
       "    <tr style=\"text-align: right;\">\n",
       "      <th></th>\n",
       "      <th>is_canceled</th>\n",
       "      <th>lead_time</th>\n",
       "      <th>arrival_date_year</th>\n",
       "      <th>arrival_date_month</th>\n",
       "      <th>arrival_date_week_number</th>\n",
       "      <th>arrival_date_day_of_month</th>\n",
       "      <th>meal</th>\n",
       "      <th>market_segment</th>\n",
       "      <th>distribution_channel</th>\n",
       "      <th>is_repeated_guest</th>\n",
       "      <th>...</th>\n",
       "      <th>booking_changes</th>\n",
       "      <th>deposit_type</th>\n",
       "      <th>days_in_waiting_list</th>\n",
       "      <th>customer_type</th>\n",
       "      <th>adr</th>\n",
       "      <th>required_car_parking_spaces</th>\n",
       "      <th>total_of_special_requests</th>\n",
       "      <th>reservation_status</th>\n",
       "      <th>total_days</th>\n",
       "      <th>total_customers</th>\n",
       "    </tr>\n",
       "  </thead>\n",
       "  <tbody>\n",
       "    <tr>\n",
       "      <th>is_canceled</th>\n",
       "      <td>1.000000</td>\n",
       "      <td>0.293123</td>\n",
       "      <td>0.016660</td>\n",
       "      <td>0.011022</td>\n",
       "      <td>0.008148</td>\n",
       "      <td>-0.006130</td>\n",
       "      <td>-0.017678</td>\n",
       "      <td>0.059338</td>\n",
       "      <td>0.167600</td>\n",
       "      <td>-0.084793</td>\n",
       "      <td>...</td>\n",
       "      <td>-0.144381</td>\n",
       "      <td>0.468634</td>\n",
       "      <td>0.054186</td>\n",
       "      <td>-0.068140</td>\n",
       "      <td>0.047557</td>\n",
       "      <td>-0.195498</td>\n",
       "      <td>-0.234658</td>\n",
       "      <td>-0.917196</td>\n",
       "      <td>0.017779</td>\n",
       "      <td>0.046506</td>\n",
       "    </tr>\n",
       "    <tr>\n",
       "      <th>lead_time</th>\n",
       "      <td>0.293123</td>\n",
       "      <td>1.000000</td>\n",
       "      <td>0.040142</td>\n",
       "      <td>0.131424</td>\n",
       "      <td>0.126871</td>\n",
       "      <td>0.002268</td>\n",
       "      <td>0.000349</td>\n",
       "      <td>0.013797</td>\n",
       "      <td>0.220414</td>\n",
       "      <td>-0.124410</td>\n",
       "      <td>...</td>\n",
       "      <td>0.000149</td>\n",
       "      <td>0.375667</td>\n",
       "      <td>0.170084</td>\n",
       "      <td>0.073403</td>\n",
       "      <td>-0.063077</td>\n",
       "      <td>-0.116451</td>\n",
       "      <td>-0.095712</td>\n",
       "      <td>-0.302175</td>\n",
       "      <td>0.157167</td>\n",
       "      <td>0.072279</td>\n",
       "    </tr>\n",
       "    <tr>\n",
       "      <th>arrival_date_year</th>\n",
       "      <td>0.016660</td>\n",
       "      <td>0.040142</td>\n",
       "      <td>1.000000</td>\n",
       "      <td>-0.527739</td>\n",
       "      <td>-0.540561</td>\n",
       "      <td>-0.000221</td>\n",
       "      <td>0.065840</td>\n",
       "      <td>0.107697</td>\n",
       "      <td>0.022644</td>\n",
       "      <td>0.010341</td>\n",
       "      <td>...</td>\n",
       "      <td>0.030872</td>\n",
       "      <td>-0.064714</td>\n",
       "      <td>-0.056497</td>\n",
       "      <td>-0.006149</td>\n",
       "      <td>0.197580</td>\n",
       "      <td>-0.013684</td>\n",
       "      <td>0.108531</td>\n",
       "      <td>-0.017683</td>\n",
       "      <td>0.031438</td>\n",
       "      <td>0.052152</td>\n",
       "    </tr>\n",
       "    <tr>\n",
       "      <th>arrival_date_month</th>\n",
       "      <td>0.011022</td>\n",
       "      <td>0.131424</td>\n",
       "      <td>-0.527739</td>\n",
       "      <td>1.000000</td>\n",
       "      <td>0.995105</td>\n",
       "      <td>-0.026063</td>\n",
       "      <td>-0.015205</td>\n",
       "      <td>0.001293</td>\n",
       "      <td>0.007381</td>\n",
       "      <td>-0.030729</td>\n",
       "      <td>...</td>\n",
       "      <td>0.004809</td>\n",
       "      <td>0.004048</td>\n",
       "      <td>0.019045</td>\n",
       "      <td>-0.029753</td>\n",
       "      <td>0.079315</td>\n",
       "      <td>0.000257</td>\n",
       "      <td>0.028026</td>\n",
       "      <td>-0.021090</td>\n",
       "      <td>0.021536</td>\n",
       "      <td>0.027246</td>\n",
       "    </tr>\n",
       "    <tr>\n",
       "      <th>arrival_date_week_number</th>\n",
       "      <td>0.008148</td>\n",
       "      <td>0.126871</td>\n",
       "      <td>-0.540561</td>\n",
       "      <td>0.995105</td>\n",
       "      <td>1.000000</td>\n",
       "      <td>0.066809</td>\n",
       "      <td>-0.017381</td>\n",
       "      <td>-0.000510</td>\n",
       "      <td>0.005699</td>\n",
       "      <td>-0.030131</td>\n",
       "      <td>...</td>\n",
       "      <td>0.005508</td>\n",
       "      <td>0.003891</td>\n",
       "      <td>0.022933</td>\n",
       "      <td>-0.028432</td>\n",
       "      <td>0.075791</td>\n",
       "      <td>0.001920</td>\n",
       "      <td>0.026149</td>\n",
       "      <td>-0.017387</td>\n",
       "      <td>0.018719</td>\n",
       "      <td>0.025216</td>\n",
       "    </tr>\n",
       "    <tr>\n",
       "      <th>arrival_date_day_of_month</th>\n",
       "      <td>-0.006130</td>\n",
       "      <td>0.002268</td>\n",
       "      <td>-0.000221</td>\n",
       "      <td>-0.026063</td>\n",
       "      <td>0.066809</td>\n",
       "      <td>1.000000</td>\n",
       "      <td>-0.007086</td>\n",
       "      <td>-0.004088</td>\n",
       "      <td>0.001578</td>\n",
       "      <td>-0.006145</td>\n",
       "      <td>...</td>\n",
       "      <td>0.010613</td>\n",
       "      <td>-0.001358</td>\n",
       "      <td>0.022728</td>\n",
       "      <td>0.012188</td>\n",
       "      <td>0.030245</td>\n",
       "      <td>0.008683</td>\n",
       "      <td>0.003062</td>\n",
       "      <td>0.011460</td>\n",
       "      <td>-0.027408</td>\n",
       "      <td>0.006758</td>\n",
       "    </tr>\n",
       "    <tr>\n",
       "      <th>meal</th>\n",
       "      <td>-0.017678</td>\n",
       "      <td>0.000349</td>\n",
       "      <td>0.065840</td>\n",
       "      <td>-0.015205</td>\n",
       "      <td>-0.017381</td>\n",
       "      <td>-0.007086</td>\n",
       "      <td>1.000000</td>\n",
       "      <td>0.145132</td>\n",
       "      <td>0.116957</td>\n",
       "      <td>-0.057009</td>\n",
       "      <td>...</td>\n",
       "      <td>0.024650</td>\n",
       "      <td>-0.092151</td>\n",
       "      <td>-0.007132</td>\n",
       "      <td>0.044658</td>\n",
       "      <td>0.059098</td>\n",
       "      <td>-0.038923</td>\n",
       "      <td>0.023136</td>\n",
       "      <td>0.015393</td>\n",
       "      <td>0.045277</td>\n",
       "      <td>-0.005968</td>\n",
       "    </tr>\n",
       "    <tr>\n",
       "      <th>market_segment</th>\n",
       "      <td>0.059338</td>\n",
       "      <td>0.013797</td>\n",
       "      <td>0.107697</td>\n",
       "      <td>0.001293</td>\n",
       "      <td>-0.000510</td>\n",
       "      <td>-0.004088</td>\n",
       "      <td>0.145132</td>\n",
       "      <td>1.000000</td>\n",
       "      <td>0.767751</td>\n",
       "      <td>-0.250286</td>\n",
       "      <td>...</td>\n",
       "      <td>-0.071818</td>\n",
       "      <td>-0.184847</td>\n",
       "      <td>-0.041503</td>\n",
       "      <td>-0.165814</td>\n",
       "      <td>0.232763</td>\n",
       "      <td>-0.062226</td>\n",
       "      <td>0.274373</td>\n",
       "      <td>-0.061584</td>\n",
       "      <td>0.126052</td>\n",
       "      <td>0.213210</td>\n",
       "    </tr>\n",
       "    <tr>\n",
       "      <th>distribution_channel</th>\n",
       "      <td>0.167600</td>\n",
       "      <td>0.220414</td>\n",
       "      <td>0.022644</td>\n",
       "      <td>0.007381</td>\n",
       "      <td>0.005699</td>\n",
       "      <td>0.001578</td>\n",
       "      <td>0.116957</td>\n",
       "      <td>0.767751</td>\n",
       "      <td>1.000000</td>\n",
       "      <td>-0.263219</td>\n",
       "      <td>...</td>\n",
       "      <td>-0.113601</td>\n",
       "      <td>0.092580</td>\n",
       "      <td>0.048642</td>\n",
       "      <td>-0.069640</td>\n",
       "      <td>0.092396</td>\n",
       "      <td>-0.132280</td>\n",
       "      <td>0.098815</td>\n",
       "      <td>-0.171330</td>\n",
       "      <td>0.101407</td>\n",
       "      <td>0.144344</td>\n",
       "    </tr>\n",
       "    <tr>\n",
       "      <th>is_repeated_guest</th>\n",
       "      <td>-0.084793</td>\n",
       "      <td>-0.124410</td>\n",
       "      <td>0.010341</td>\n",
       "      <td>-0.030729</td>\n",
       "      <td>-0.030131</td>\n",
       "      <td>-0.006145</td>\n",
       "      <td>-0.057009</td>\n",
       "      <td>-0.250286</td>\n",
       "      <td>-0.263219</td>\n",
       "      <td>1.000000</td>\n",
       "      <td>...</td>\n",
       "      <td>0.012092</td>\n",
       "      <td>-0.057502</td>\n",
       "      <td>-0.022235</td>\n",
       "      <td>-0.017111</td>\n",
       "      <td>-0.134314</td>\n",
       "      <td>0.077090</td>\n",
       "      <td>0.013050</td>\n",
       "      <td>0.083504</td>\n",
       "      <td>-0.106626</td>\n",
       "      <td>-0.136747</td>\n",
       "    </tr>\n",
       "    <tr>\n",
       "      <th>reserved_room_type</th>\n",
       "      <td>-0.061282</td>\n",
       "      <td>-0.106089</td>\n",
       "      <td>0.092809</td>\n",
       "      <td>-0.007923</td>\n",
       "      <td>-0.007997</td>\n",
       "      <td>0.016929</td>\n",
       "      <td>-0.120749</td>\n",
       "      <td>0.094540</td>\n",
       "      <td>-0.041720</td>\n",
       "      <td>-0.029537</td>\n",
       "      <td>...</td>\n",
       "      <td>0.045060</td>\n",
       "      <td>-0.199689</td>\n",
       "      <td>-0.068821</td>\n",
       "      <td>-0.120978</td>\n",
       "      <td>0.392060</td>\n",
       "      <td>0.131583</td>\n",
       "      <td>0.137466</td>\n",
       "      <td>0.058693</td>\n",
       "      <td>0.181296</td>\n",
       "      <td>0.383360</td>\n",
       "    </tr>\n",
       "    <tr>\n",
       "      <th>assigned_room_type</th>\n",
       "      <td>-0.176028</td>\n",
       "      <td>-0.172219</td>\n",
       "      <td>0.036141</td>\n",
       "      <td>-0.006378</td>\n",
       "      <td>-0.005684</td>\n",
       "      <td>0.011646</td>\n",
       "      <td>-0.120792</td>\n",
       "      <td>0.026377</td>\n",
       "      <td>-0.104502</td>\n",
       "      <td>0.032441</td>\n",
       "      <td>...</td>\n",
       "      <td>0.096162</td>\n",
       "      <td>-0.242384</td>\n",
       "      <td>-0.068676</td>\n",
       "      <td>-0.084427</td>\n",
       "      <td>0.258134</td>\n",
       "      <td>0.160131</td>\n",
       "      <td>0.124683</td>\n",
       "      <td>0.172537</td>\n",
       "      <td>0.109042</td>\n",
       "      <td>0.302427</td>\n",
       "    </tr>\n",
       "    <tr>\n",
       "      <th>booking_changes</th>\n",
       "      <td>-0.144381</td>\n",
       "      <td>0.000149</td>\n",
       "      <td>0.030872</td>\n",
       "      <td>0.004809</td>\n",
       "      <td>0.005508</td>\n",
       "      <td>0.010613</td>\n",
       "      <td>0.024650</td>\n",
       "      <td>-0.071818</td>\n",
       "      <td>-0.113601</td>\n",
       "      <td>0.012092</td>\n",
       "      <td>...</td>\n",
       "      <td>1.000000</td>\n",
       "      <td>-0.112153</td>\n",
       "      <td>-0.011634</td>\n",
       "      <td>0.092029</td>\n",
       "      <td>0.019618</td>\n",
       "      <td>0.065620</td>\n",
       "      <td>0.052833</td>\n",
       "      <td>0.140799</td>\n",
       "      <td>0.096498</td>\n",
       "      <td>-0.003168</td>\n",
       "    </tr>\n",
       "    <tr>\n",
       "      <th>deposit_type</th>\n",
       "      <td>0.468634</td>\n",
       "      <td>0.375667</td>\n",
       "      <td>-0.064714</td>\n",
       "      <td>0.004048</td>\n",
       "      <td>0.003891</td>\n",
       "      <td>-0.001358</td>\n",
       "      <td>-0.092151</td>\n",
       "      <td>-0.184847</td>\n",
       "      <td>0.092580</td>\n",
       "      <td>-0.057502</td>\n",
       "      <td>...</td>\n",
       "      <td>-0.112153</td>\n",
       "      <td>1.000000</td>\n",
       "      <td>0.121017</td>\n",
       "      <td>-0.076404</td>\n",
       "      <td>-0.089838</td>\n",
       "      <td>-0.090929</td>\n",
       "      <td>-0.266672</td>\n",
       "      <td>-0.466185</td>\n",
       "      <td>-0.100809</td>\n",
       "      <td>-0.079277</td>\n",
       "    </tr>\n",
       "    <tr>\n",
       "      <th>days_in_waiting_list</th>\n",
       "      <td>0.054186</td>\n",
       "      <td>0.170084</td>\n",
       "      <td>-0.056497</td>\n",
       "      <td>0.019045</td>\n",
       "      <td>0.022933</td>\n",
       "      <td>0.022728</td>\n",
       "      <td>-0.007132</td>\n",
       "      <td>-0.041503</td>\n",
       "      <td>0.048642</td>\n",
       "      <td>-0.022235</td>\n",
       "      <td>...</td>\n",
       "      <td>-0.011634</td>\n",
       "      <td>0.121017</td>\n",
       "      <td>1.000000</td>\n",
       "      <td>0.099121</td>\n",
       "      <td>-0.040756</td>\n",
       "      <td>-0.030600</td>\n",
       "      <td>-0.082730</td>\n",
       "      <td>-0.057927</td>\n",
       "      <td>-0.022652</td>\n",
       "      <td>-0.026429</td>\n",
       "    </tr>\n",
       "    <tr>\n",
       "      <th>customer_type</th>\n",
       "      <td>-0.068140</td>\n",
       "      <td>0.073403</td>\n",
       "      <td>-0.006149</td>\n",
       "      <td>-0.029753</td>\n",
       "      <td>-0.028432</td>\n",
       "      <td>0.012188</td>\n",
       "      <td>0.044658</td>\n",
       "      <td>-0.165814</td>\n",
       "      <td>-0.069640</td>\n",
       "      <td>-0.017111</td>\n",
       "      <td>...</td>\n",
       "      <td>0.092029</td>\n",
       "      <td>-0.076404</td>\n",
       "      <td>0.099121</td>\n",
       "      <td>1.000000</td>\n",
       "      <td>-0.077155</td>\n",
       "      <td>-0.030060</td>\n",
       "      <td>-0.135624</td>\n",
       "      <td>0.066004</td>\n",
       "      <td>-0.137577</td>\n",
       "      <td>-0.113257</td>\n",
       "    </tr>\n",
       "    <tr>\n",
       "      <th>adr</th>\n",
       "      <td>0.047557</td>\n",
       "      <td>-0.063077</td>\n",
       "      <td>0.197580</td>\n",
       "      <td>0.079315</td>\n",
       "      <td>0.075791</td>\n",
       "      <td>0.030245</td>\n",
       "      <td>0.059098</td>\n",
       "      <td>0.232763</td>\n",
       "      <td>0.092396</td>\n",
       "      <td>-0.134314</td>\n",
       "      <td>...</td>\n",
       "      <td>0.019618</td>\n",
       "      <td>-0.089838</td>\n",
       "      <td>-0.040756</td>\n",
       "      <td>-0.077155</td>\n",
       "      <td>1.000000</td>\n",
       "      <td>0.056628</td>\n",
       "      <td>0.172185</td>\n",
       "      <td>-0.050520</td>\n",
       "      <td>0.067945</td>\n",
       "      <td>0.368144</td>\n",
       "    </tr>\n",
       "    <tr>\n",
       "      <th>required_car_parking_spaces</th>\n",
       "      <td>-0.195498</td>\n",
       "      <td>-0.116451</td>\n",
       "      <td>-0.013684</td>\n",
       "      <td>0.000257</td>\n",
       "      <td>0.001920</td>\n",
       "      <td>0.008683</td>\n",
       "      <td>-0.038923</td>\n",
       "      <td>-0.062226</td>\n",
       "      <td>-0.132280</td>\n",
       "      <td>0.077090</td>\n",
       "      <td>...</td>\n",
       "      <td>0.065620</td>\n",
       "      <td>-0.090929</td>\n",
       "      <td>-0.030600</td>\n",
       "      <td>-0.030060</td>\n",
       "      <td>0.056628</td>\n",
       "      <td>1.000000</td>\n",
       "      <td>0.082626</td>\n",
       "      <td>0.179310</td>\n",
       "      <td>-0.025794</td>\n",
       "      <td>0.047938</td>\n",
       "    </tr>\n",
       "    <tr>\n",
       "      <th>total_of_special_requests</th>\n",
       "      <td>-0.234658</td>\n",
       "      <td>-0.095712</td>\n",
       "      <td>0.108531</td>\n",
       "      <td>0.028026</td>\n",
       "      <td>0.026149</td>\n",
       "      <td>0.003062</td>\n",
       "      <td>0.023136</td>\n",
       "      <td>0.274373</td>\n",
       "      <td>0.098815</td>\n",
       "      <td>0.013050</td>\n",
       "      <td>...</td>\n",
       "      <td>0.052833</td>\n",
       "      <td>-0.266672</td>\n",
       "      <td>-0.082730</td>\n",
       "      <td>-0.135624</td>\n",
       "      <td>0.172185</td>\n",
       "      <td>0.082626</td>\n",
       "      <td>1.000000</td>\n",
       "      <td>0.225674</td>\n",
       "      <td>0.079259</td>\n",
       "      <td>0.156816</td>\n",
       "    </tr>\n",
       "    <tr>\n",
       "      <th>reservation_status</th>\n",
       "      <td>-0.917196</td>\n",
       "      <td>-0.302175</td>\n",
       "      <td>-0.017683</td>\n",
       "      <td>-0.021090</td>\n",
       "      <td>-0.017387</td>\n",
       "      <td>0.011460</td>\n",
       "      <td>0.015393</td>\n",
       "      <td>-0.061584</td>\n",
       "      <td>-0.171330</td>\n",
       "      <td>0.083504</td>\n",
       "      <td>...</td>\n",
       "      <td>0.140799</td>\n",
       "      <td>-0.466185</td>\n",
       "      <td>-0.057927</td>\n",
       "      <td>0.066004</td>\n",
       "      <td>-0.050520</td>\n",
       "      <td>0.179310</td>\n",
       "      <td>0.225674</td>\n",
       "      <td>1.000000</td>\n",
       "      <td>-0.012781</td>\n",
       "      <td>-0.055258</td>\n",
       "    </tr>\n",
       "    <tr>\n",
       "      <th>total_days</th>\n",
       "      <td>0.017779</td>\n",
       "      <td>0.157167</td>\n",
       "      <td>0.031438</td>\n",
       "      <td>0.021536</td>\n",
       "      <td>0.018719</td>\n",
       "      <td>-0.027408</td>\n",
       "      <td>0.045277</td>\n",
       "      <td>0.126052</td>\n",
       "      <td>0.101407</td>\n",
       "      <td>-0.106626</td>\n",
       "      <td>...</td>\n",
       "      <td>0.096498</td>\n",
       "      <td>-0.100809</td>\n",
       "      <td>-0.022652</td>\n",
       "      <td>-0.137577</td>\n",
       "      <td>0.067945</td>\n",
       "      <td>-0.025794</td>\n",
       "      <td>0.079259</td>\n",
       "      <td>-0.012781</td>\n",
       "      <td>1.000000</td>\n",
       "      <td>0.115473</td>\n",
       "    </tr>\n",
       "    <tr>\n",
       "      <th>total_customers</th>\n",
       "      <td>0.046506</td>\n",
       "      <td>0.072279</td>\n",
       "      <td>0.052152</td>\n",
       "      <td>0.027246</td>\n",
       "      <td>0.025216</td>\n",
       "      <td>0.006758</td>\n",
       "      <td>-0.005968</td>\n",
       "      <td>0.213210</td>\n",
       "      <td>0.144344</td>\n",
       "      <td>-0.136747</td>\n",
       "      <td>...</td>\n",
       "      <td>-0.003168</td>\n",
       "      <td>-0.079277</td>\n",
       "      <td>-0.026429</td>\n",
       "      <td>-0.113257</td>\n",
       "      <td>0.368144</td>\n",
       "      <td>0.047938</td>\n",
       "      <td>0.156816</td>\n",
       "      <td>-0.055258</td>\n",
       "      <td>0.115473</td>\n",
       "      <td>1.000000</td>\n",
       "    </tr>\n",
       "  </tbody>\n",
       "</table>\n",
       "<p>22 rows × 22 columns</p>\n",
       "</div>"
      ],
      "text/plain": [
       "                             is_canceled  lead_time  arrival_date_year  \\\n",
       "is_canceled                     1.000000   0.293123           0.016660   \n",
       "lead_time                       0.293123   1.000000           0.040142   \n",
       "arrival_date_year               0.016660   0.040142           1.000000   \n",
       "arrival_date_month              0.011022   0.131424          -0.527739   \n",
       "arrival_date_week_number        0.008148   0.126871          -0.540561   \n",
       "arrival_date_day_of_month      -0.006130   0.002268          -0.000221   \n",
       "meal                           -0.017678   0.000349           0.065840   \n",
       "market_segment                  0.059338   0.013797           0.107697   \n",
       "distribution_channel            0.167600   0.220414           0.022644   \n",
       "is_repeated_guest              -0.084793  -0.124410           0.010341   \n",
       "reserved_room_type             -0.061282  -0.106089           0.092809   \n",
       "assigned_room_type             -0.176028  -0.172219           0.036141   \n",
       "booking_changes                -0.144381   0.000149           0.030872   \n",
       "deposit_type                    0.468634   0.375667          -0.064714   \n",
       "days_in_waiting_list            0.054186   0.170084          -0.056497   \n",
       "customer_type                  -0.068140   0.073403          -0.006149   \n",
       "adr                             0.047557  -0.063077           0.197580   \n",
       "required_car_parking_spaces    -0.195498  -0.116451          -0.013684   \n",
       "total_of_special_requests      -0.234658  -0.095712           0.108531   \n",
       "reservation_status             -0.917196  -0.302175          -0.017683   \n",
       "total_days                      0.017779   0.157167           0.031438   \n",
       "total_customers                 0.046506   0.072279           0.052152   \n",
       "\n",
       "                             arrival_date_month  arrival_date_week_number  \\\n",
       "is_canceled                            0.011022                  0.008148   \n",
       "lead_time                              0.131424                  0.126871   \n",
       "arrival_date_year                     -0.527739                 -0.540561   \n",
       "arrival_date_month                     1.000000                  0.995105   \n",
       "arrival_date_week_number               0.995105                  1.000000   \n",
       "arrival_date_day_of_month             -0.026063                  0.066809   \n",
       "meal                                  -0.015205                 -0.017381   \n",
       "market_segment                         0.001293                 -0.000510   \n",
       "distribution_channel                   0.007381                  0.005699   \n",
       "is_repeated_guest                     -0.030729                 -0.030131   \n",
       "reserved_room_type                    -0.007923                 -0.007997   \n",
       "assigned_room_type                    -0.006378                 -0.005684   \n",
       "booking_changes                        0.004809                  0.005508   \n",
       "deposit_type                           0.004048                  0.003891   \n",
       "days_in_waiting_list                   0.019045                  0.022933   \n",
       "customer_type                         -0.029753                 -0.028432   \n",
       "adr                                    0.079315                  0.075791   \n",
       "required_car_parking_spaces            0.000257                  0.001920   \n",
       "total_of_special_requests              0.028026                  0.026149   \n",
       "reservation_status                    -0.021090                 -0.017387   \n",
       "total_days                             0.021536                  0.018719   \n",
       "total_customers                        0.027246                  0.025216   \n",
       "\n",
       "                             arrival_date_day_of_month      meal  \\\n",
       "is_canceled                                  -0.006130 -0.017678   \n",
       "lead_time                                     0.002268  0.000349   \n",
       "arrival_date_year                            -0.000221  0.065840   \n",
       "arrival_date_month                           -0.026063 -0.015205   \n",
       "arrival_date_week_number                      0.066809 -0.017381   \n",
       "arrival_date_day_of_month                     1.000000 -0.007086   \n",
       "meal                                         -0.007086  1.000000   \n",
       "market_segment                               -0.004088  0.145132   \n",
       "distribution_channel                          0.001578  0.116957   \n",
       "is_repeated_guest                            -0.006145 -0.057009   \n",
       "reserved_room_type                            0.016929 -0.120749   \n",
       "assigned_room_type                            0.011646 -0.120792   \n",
       "booking_changes                               0.010613  0.024650   \n",
       "deposit_type                                 -0.001358 -0.092151   \n",
       "days_in_waiting_list                          0.022728 -0.007132   \n",
       "customer_type                                 0.012188  0.044658   \n",
       "adr                                           0.030245  0.059098   \n",
       "required_car_parking_spaces                   0.008683 -0.038923   \n",
       "total_of_special_requests                     0.003062  0.023136   \n",
       "reservation_status                            0.011460  0.015393   \n",
       "total_days                                   -0.027408  0.045277   \n",
       "total_customers                               0.006758 -0.005968   \n",
       "\n",
       "                             market_segment  distribution_channel  \\\n",
       "is_canceled                        0.059338              0.167600   \n",
       "lead_time                          0.013797              0.220414   \n",
       "arrival_date_year                  0.107697              0.022644   \n",
       "arrival_date_month                 0.001293              0.007381   \n",
       "arrival_date_week_number          -0.000510              0.005699   \n",
       "arrival_date_day_of_month         -0.004088              0.001578   \n",
       "meal                               0.145132              0.116957   \n",
       "market_segment                     1.000000              0.767751   \n",
       "distribution_channel               0.767751              1.000000   \n",
       "is_repeated_guest                 -0.250286             -0.263219   \n",
       "reserved_room_type                 0.094540             -0.041720   \n",
       "assigned_room_type                 0.026377             -0.104502   \n",
       "booking_changes                   -0.071818             -0.113601   \n",
       "deposit_type                      -0.184847              0.092580   \n",
       "days_in_waiting_list              -0.041503              0.048642   \n",
       "customer_type                     -0.165814             -0.069640   \n",
       "adr                                0.232763              0.092396   \n",
       "required_car_parking_spaces       -0.062226             -0.132280   \n",
       "total_of_special_requests          0.274373              0.098815   \n",
       "reservation_status                -0.061584             -0.171330   \n",
       "total_days                         0.126052              0.101407   \n",
       "total_customers                    0.213210              0.144344   \n",
       "\n",
       "                             is_repeated_guest  ...  booking_changes  \\\n",
       "is_canceled                          -0.084793  ...        -0.144381   \n",
       "lead_time                            -0.124410  ...         0.000149   \n",
       "arrival_date_year                     0.010341  ...         0.030872   \n",
       "arrival_date_month                   -0.030729  ...         0.004809   \n",
       "arrival_date_week_number             -0.030131  ...         0.005508   \n",
       "arrival_date_day_of_month            -0.006145  ...         0.010613   \n",
       "meal                                 -0.057009  ...         0.024650   \n",
       "market_segment                       -0.250286  ...        -0.071818   \n",
       "distribution_channel                 -0.263219  ...        -0.113601   \n",
       "is_repeated_guest                     1.000000  ...         0.012092   \n",
       "reserved_room_type                   -0.029537  ...         0.045060   \n",
       "assigned_room_type                    0.032441  ...         0.096162   \n",
       "booking_changes                       0.012092  ...         1.000000   \n",
       "deposit_type                         -0.057502  ...        -0.112153   \n",
       "days_in_waiting_list                 -0.022235  ...        -0.011634   \n",
       "customer_type                        -0.017111  ...         0.092029   \n",
       "adr                                  -0.134314  ...         0.019618   \n",
       "required_car_parking_spaces           0.077090  ...         0.065620   \n",
       "total_of_special_requests             0.013050  ...         0.052833   \n",
       "reservation_status                    0.083504  ...         0.140799   \n",
       "total_days                           -0.106626  ...         0.096498   \n",
       "total_customers                      -0.136747  ...        -0.003168   \n",
       "\n",
       "                             deposit_type  days_in_waiting_list  \\\n",
       "is_canceled                      0.468634              0.054186   \n",
       "lead_time                        0.375667              0.170084   \n",
       "arrival_date_year               -0.064714             -0.056497   \n",
       "arrival_date_month               0.004048              0.019045   \n",
       "arrival_date_week_number         0.003891              0.022933   \n",
       "arrival_date_day_of_month       -0.001358              0.022728   \n",
       "meal                            -0.092151             -0.007132   \n",
       "market_segment                  -0.184847             -0.041503   \n",
       "distribution_channel             0.092580              0.048642   \n",
       "is_repeated_guest               -0.057502             -0.022235   \n",
       "reserved_room_type              -0.199689             -0.068821   \n",
       "assigned_room_type              -0.242384             -0.068676   \n",
       "booking_changes                 -0.112153             -0.011634   \n",
       "deposit_type                     1.000000              0.121017   \n",
       "days_in_waiting_list             0.121017              1.000000   \n",
       "customer_type                   -0.076404              0.099121   \n",
       "adr                             -0.089838             -0.040756   \n",
       "required_car_parking_spaces     -0.090929             -0.030600   \n",
       "total_of_special_requests       -0.266672             -0.082730   \n",
       "reservation_status              -0.466185             -0.057927   \n",
       "total_days                      -0.100809             -0.022652   \n",
       "total_customers                 -0.079277             -0.026429   \n",
       "\n",
       "                             customer_type       adr  \\\n",
       "is_canceled                      -0.068140  0.047557   \n",
       "lead_time                         0.073403 -0.063077   \n",
       "arrival_date_year                -0.006149  0.197580   \n",
       "arrival_date_month               -0.029753  0.079315   \n",
       "arrival_date_week_number         -0.028432  0.075791   \n",
       "arrival_date_day_of_month         0.012188  0.030245   \n",
       "meal                              0.044658  0.059098   \n",
       "market_segment                   -0.165814  0.232763   \n",
       "distribution_channel             -0.069640  0.092396   \n",
       "is_repeated_guest                -0.017111 -0.134314   \n",
       "reserved_room_type               -0.120978  0.392060   \n",
       "assigned_room_type               -0.084427  0.258134   \n",
       "booking_changes                   0.092029  0.019618   \n",
       "deposit_type                     -0.076404 -0.089838   \n",
       "days_in_waiting_list              0.099121 -0.040756   \n",
       "customer_type                     1.000000 -0.077155   \n",
       "adr                              -0.077155  1.000000   \n",
       "required_car_parking_spaces      -0.030060  0.056628   \n",
       "total_of_special_requests        -0.135624  0.172185   \n",
       "reservation_status                0.066004 -0.050520   \n",
       "total_days                       -0.137577  0.067945   \n",
       "total_customers                  -0.113257  0.368144   \n",
       "\n",
       "                             required_car_parking_spaces  \\\n",
       "is_canceled                                    -0.195498   \n",
       "lead_time                                      -0.116451   \n",
       "arrival_date_year                              -0.013684   \n",
       "arrival_date_month                              0.000257   \n",
       "arrival_date_week_number                        0.001920   \n",
       "arrival_date_day_of_month                       0.008683   \n",
       "meal                                           -0.038923   \n",
       "market_segment                                 -0.062226   \n",
       "distribution_channel                           -0.132280   \n",
       "is_repeated_guest                               0.077090   \n",
       "reserved_room_type                              0.131583   \n",
       "assigned_room_type                              0.160131   \n",
       "booking_changes                                 0.065620   \n",
       "deposit_type                                   -0.090929   \n",
       "days_in_waiting_list                           -0.030600   \n",
       "customer_type                                  -0.030060   \n",
       "adr                                             0.056628   \n",
       "required_car_parking_spaces                     1.000000   \n",
       "total_of_special_requests                       0.082626   \n",
       "reservation_status                              0.179310   \n",
       "total_days                                     -0.025794   \n",
       "total_customers                                 0.047938   \n",
       "\n",
       "                             total_of_special_requests  reservation_status  \\\n",
       "is_canceled                                  -0.234658           -0.917196   \n",
       "lead_time                                    -0.095712           -0.302175   \n",
       "arrival_date_year                             0.108531           -0.017683   \n",
       "arrival_date_month                            0.028026           -0.021090   \n",
       "arrival_date_week_number                      0.026149           -0.017387   \n",
       "arrival_date_day_of_month                     0.003062            0.011460   \n",
       "meal                                          0.023136            0.015393   \n",
       "market_segment                                0.274373           -0.061584   \n",
       "distribution_channel                          0.098815           -0.171330   \n",
       "is_repeated_guest                             0.013050            0.083504   \n",
       "reserved_room_type                            0.137466            0.058693   \n",
       "assigned_room_type                            0.124683            0.172537   \n",
       "booking_changes                               0.052833            0.140799   \n",
       "deposit_type                                 -0.266672           -0.466185   \n",
       "days_in_waiting_list                         -0.082730           -0.057927   \n",
       "customer_type                                -0.135624            0.066004   \n",
       "adr                                           0.172185           -0.050520   \n",
       "required_car_parking_spaces                   0.082626            0.179310   \n",
       "total_of_special_requests                     1.000000            0.225674   \n",
       "reservation_status                            0.225674            1.000000   \n",
       "total_days                                    0.079259           -0.012781   \n",
       "total_customers                               0.156816           -0.055258   \n",
       "\n",
       "                             total_days  total_customers  \n",
       "is_canceled                    0.017779         0.046506  \n",
       "lead_time                      0.157167         0.072279  \n",
       "arrival_date_year              0.031438         0.052152  \n",
       "arrival_date_month             0.021536         0.027246  \n",
       "arrival_date_week_number       0.018719         0.025216  \n",
       "arrival_date_day_of_month     -0.027408         0.006758  \n",
       "meal                           0.045277        -0.005968  \n",
       "market_segment                 0.126052         0.213210  \n",
       "distribution_channel           0.101407         0.144344  \n",
       "is_repeated_guest             -0.106626        -0.136747  \n",
       "reserved_room_type             0.181296         0.383360  \n",
       "assigned_room_type             0.109042         0.302427  \n",
       "booking_changes                0.096498        -0.003168  \n",
       "deposit_type                  -0.100809        -0.079277  \n",
       "days_in_waiting_list          -0.022652        -0.026429  \n",
       "customer_type                 -0.137577        -0.113257  \n",
       "adr                            0.067945         0.368144  \n",
       "required_car_parking_spaces   -0.025794         0.047938  \n",
       "total_of_special_requests      0.079259         0.156816  \n",
       "reservation_status            -0.012781        -0.055258  \n",
       "total_days                     1.000000         0.115473  \n",
       "total_customers                0.115473         1.000000  \n",
       "\n",
       "[22 rows x 22 columns]"
      ]
     },
     "execution_count": 104,
     "metadata": {},
     "output_type": "execute_result"
    }
   ],
   "source": [
    "df.corr()"
   ]
  },
  {
   "cell_type": "code",
   "execution_count": 173,
   "metadata": {},
   "outputs": [
    {
     "data": {
      "text/plain": [
       "reservation_status            -0.466185\n",
       "total_of_special_requests     -0.266672\n",
       "assigned_room_type            -0.242384\n",
       "reserved_room_type            -0.199689\n",
       "market_segment                -0.184847\n",
       "booking_changes               -0.112153\n",
       "total_days                    -0.100809\n",
       "meal                          -0.092151\n",
       "required_car_parking_spaces   -0.090929\n",
       "adr                           -0.089838\n",
       "total_customers               -0.079277\n",
       "customer_type                 -0.076404\n",
       "arrival_date_year             -0.064714\n",
       "is_repeated_guest             -0.057502\n",
       "arrival_date_day_of_month     -0.001358\n",
       "arrival_date_week_number       0.003891\n",
       "arrival_date_month             0.004048\n",
       "distribution_channel           0.092580\n",
       "days_in_waiting_list           0.121017\n",
       "lead_time                      0.375667\n",
       "is_canceled                    0.468634\n",
       "deposit_type                   1.000000\n",
       "Name: deposit_type, dtype: float64"
      ]
     },
     "execution_count": 173,
     "metadata": {},
     "output_type": "execute_result"
    }
   ],
   "source": [
    "feat_corr['deposit_type'].sort_values()"
   ]
  },
  {
   "cell_type": "code",
   "execution_count": 105,
   "metadata": {},
   "outputs": [
    {
     "data": {
      "text/plain": [
       "<matplotlib.axes._subplots.AxesSubplot at 0x2157c7b8>"
      ]
     },
     "execution_count": 105,
     "metadata": {},
     "output_type": "execute_result"
    },
    {
     "data": {
      "image/png": "[encoded data removed]",
      "text/plain": [
       "<Figure size 576x432 with 2 Axes>"
      ]
     },
     "metadata": {},
     "output_type": "display_data"
    }
   ],
   "source": [
    "plt.figure(figsize=(8,6))\n",
    "feat_corr = df.corr()\n",
    "sns.heatmap(feat_corr)"
   ]
  },
  {
   "cell_type": "markdown",
   "metadata": {},
   "source": [
    "The diagonal shows correlation of each feature with itself, hence indicates highest correlation.\n",
    "Using the table and plot we observe that few features have veryhigh correlation\n",
    "Ex:- \n",
    "1. Arrival_date_year and arrival_date_month = -0.52\n",
    "2. Reservation_status and deposit type = -0.46 \n",
    "3. market_segment vs distribution_channel = 0.76\n",
    "4. reserved_room_type vs assigned_room_type = 0.81\n",
    "\n",
    "It is advisable to remove one of the features from the high correlation pair, but we will reatin them and see the effect on performance"
   ]
  },
  {
   "cell_type": "code",
   "execution_count": 107,
   "metadata": {},
   "outputs": [
    {
     "data": {
      "text/plain": [
       "reservation_status            -0.917196\n",
       "total_of_special_requests     -0.234658\n",
       "required_car_parking_spaces   -0.195498\n",
       "assigned_room_type            -0.176028\n",
       "booking_changes               -0.144381\n",
       "is_repeated_guest             -0.084793\n",
       "customer_type                 -0.068140\n",
       "reserved_room_type            -0.061282\n",
       "meal                          -0.017678\n",
       "arrival_date_day_of_month     -0.006130\n",
       "arrival_date_week_number       0.008148\n",
       "arrival_date_month             0.011022\n",
       "arrival_date_year              0.016660\n",
       "total_days                     0.017779\n",
       "total_customers                0.046506\n",
       "adr                            0.047557\n",
       "days_in_waiting_list           0.054186\n",
       "market_segment                 0.059338\n",
       "distribution_channel           0.167600\n",
       "lead_time                      0.293123\n",
       "deposit_type                   0.468634\n",
       "is_canceled                    1.000000\n",
       "Name: is_canceled, dtype: float64"
      ]
     },
     "execution_count": 107,
     "metadata": {},
     "output_type": "execute_result"
    }
   ],
   "source": [
    "feat_corr['is_canceled'].sort_values()"
   ]
  },
  {
   "cell_type": "markdown",
   "metadata": {},
   "source": [
    "The reservation_status has high correlation with is_canceled. For iteration 1, lets retain the feature."
   ]
  },
  {
   "cell_type": "markdown",
   "metadata": {},
   "source": [
    "## Implementing gaussian NB classifier"
   ]
  },
  {
   "cell_type": "markdown",
   "metadata": {},
   "source": [
    "GaussianNB implements the Gaussian Naive Bayes algorithm for classification. The likelihood of the features is assumed to be Gaussian. <a href=\"https://scikit-learn.org/stable/modules/naive_bayes.html\">sklearn documentation</a>"
   ]
  },
  {
   "cell_type": "code",
   "execution_count": null,
   "metadata": {},
   "outputs": [],
   "source": [
    "df=df.fillna(0)"
   ]
  },
  {
   "cell_type": "code",
   "execution_count": 157,
   "metadata": {},
   "outputs": [],
   "source": [
    "# Split data into train test set in train:test=70:30 size\n",
    "y = df[\"is_canceled\"]\n",
    "X = df.drop([\"is_canceled\"], axis=1)\n",
    "\n",
    "X_train, X_test, y_train, y_test = train_test_split(X, y, test_size = 0.30, random_state = 42)"
   ]
  },
  {
   "cell_type": "code",
   "execution_count": 158,
   "metadata": {},
   "outputs": [
    {
     "data": {
      "text/plain": [
       "GaussianNB(priors=None, var_smoothing=1e-09)"
      ]
     },
     "execution_count": 158,
     "metadata": {},
     "output_type": "execute_result"
    }
   ],
   "source": [
    "classifier2 = GaussianNB()\n",
    "classifier2.fit(X_train, y_train)"
   ]
  },
  {
   "cell_type": "code",
   "execution_count": 159,
   "metadata": {},
   "outputs": [],
   "source": [
    "y_pred2 = classifier2.predict(X_test)\n",
    "y_prob2 = classifier2.predict_proba(X_test)"
   ]
  },
  {
   "cell_type": "markdown",
   "metadata": {},
   "source": [
    "## Evaluation metric"
   ]
  },
  {
   "cell_type": "code",
   "execution_count": 160,
   "metadata": {},
   "outputs": [
    {
     "name": "stdout",
     "output_type": "stream",
     "text": [
      "('test-set confusion matrix:\\n', array([[22215,   263],\n",
      "       [    0, 13339]], dtype=int64))\n",
      "('recall score: ', 1.0)\n",
      "('precision score: ', 0.9806646081458609)\n",
      "('f1 score: ', 0.9902379273226681)\n",
      "('accuracy score: ', 0.9926571181282631)\n"
     ]
    }
   ],
   "source": [
    "from sklearn.metrics import recall_score, precision_score, accuracy_score, f1_score\n",
    "from sklearn.metrics import confusion_matrix,auc,roc_auc_score\n",
    "print('test-set confusion matrix:\\n', confusion_matrix(y_test,y_pred2)) \n",
    "print(\"recall score: \", recall_score(y_test,y_pred2))\n",
    "print(\"precision score: \", precision_score(y_test,y_pred2))\n",
    "print(\"f1 score: \", f1_score(y_test,y_pred2))\n",
    "print(\"accuracy score: \", accuracy_score(y_test,y_pred2))"
   ]
  },
  {
   "cell_type": "markdown",
   "metadata": {},
   "source": [
    "### Model 2 - \n",
    "Remove the feature that is highly correlated with target feature\n",
    "<br>\n",
    "<b>Reservation_status</b> has high correlation with is_canceled. For iteration 1, lets retain the feature. Looking at the values in column reveals that canceled is a reservation type. This might be causing data leak. Hence we will delete this feature"
   ]
  },
  {
   "cell_type": "code",
   "execution_count": 109,
   "metadata": {},
   "outputs": [
    {
     "data": {
      "text/plain": [
       "array(['Check-Out', 'Canceled', 'No-Show'], dtype=object)"
      ]
     },
     "execution_count": 109,
     "metadata": {},
     "output_type": "execute_result"
    }
   ],
   "source": [
    "backup['reservation_status'].unique()"
   ]
  },
  {
   "cell_type": "code",
   "execution_count": 174,
   "metadata": {},
   "outputs": [],
   "source": [
    "df = df.drop('reservation_status',axis=1)"
   ]
  },
  {
   "cell_type": "code",
   "execution_count": null,
   "metadata": {},
   "outputs": [],
   "source": [
    "# Split data into train test set in train:test=70:30 size\n",
    "y = df[\"is_canceled\"]\n",
    "X = df.drop([\"is_canceled\"], axis=1)\n",
    "\n",
    "X_train, X_test, y_train, y_test = train_test_split(X, y, test_size = 0.30, random_state = 42)"
   ]
  },
  {
   "cell_type": "code",
   "execution_count": 125,
   "metadata": {},
   "outputs": [
    {
     "data": {
      "text/plain": [
       "GaussianNB(priors=None, var_smoothing=1e-09)"
      ]
     },
     "execution_count": 125,
     "metadata": {},
     "output_type": "execute_result"
    }
   ],
   "source": [
    "classifier = GaussianNB()\n",
    "classifier.fit(X_train, y_train)"
   ]
  },
  {
   "cell_type": "code",
   "execution_count": 137,
   "metadata": {},
   "outputs": [],
   "source": [
    "y_pred = classifier.predict(X_test)\n",
    "y_prob = classifier.predict_proba(X_test)"
   ]
  },
  {
   "cell_type": "code",
   "execution_count": 134,
   "metadata": {},
   "outputs": [
    {
     "name": "stdout",
     "output_type": "stream",
     "text": [
      "('test-set confusion matrix:\\n', array([[ 7555, 14923],\n",
      "       [ 1203, 12136]], dtype=int64))\n",
      "('recall score: ', 0.9098133293350326)\n",
      "('precision score: ', 0.4485014228168077)\n",
      "('f1 score: ', 0.6008218228625178)\n",
      "('accuracy score: ', 0.5497668704804981)\n"
     ]
    }
   ],
   "source": [
    "from sklearn.metrics import recall_score, precision_score, accuracy_score, f1_score\n",
    "from sklearn.metrics import confusion_matrix,auc,roc_auc_score\n",
    "print('test-set confusion matrix:\\n', confusion_matrix(y_test,y_pred)) \n",
    "print(\"recall score: \", recall_score(y_test,y_pred))\n",
    "print(\"precision score: \", precision_score(y_test,y_pred))\n",
    "print(\"f1 score: \", f1_score(y_test,y_pred))\n",
    "print(\"accuracy score: \", accuracy_score(y_test,y_pred))"
   ]
  },
  {
   "cell_type": "markdown",
   "metadata": {},
   "source": [
    "### Model 3 - \n",
    "Let us remove 1 feature from the correlated feature pair\n",
    "1. Arrival_date_year and arrival_date_month = -0.52\n",
    "2. Reservation_status and deposit type = -0.46 \n",
    "3. market_segment vs distribution_channel = 0.76\n",
    "4. reserved_room_type vs assigned_room_type = 0.81"
   ]
  },
  {
   "cell_type": "code",
   "execution_count": 178,
   "metadata": {},
   "outputs": [],
   "source": [
    "df1=df.copy()\n",
    "df = df.drop('arrival_date_month',axis=1)\n",
    "df = df.drop('market_segment',axis=1)\n",
    "df = df.drop('reserved_room_type',axis=1)"
   ]
  },
  {
   "cell_type": "code",
   "execution_count": 179,
   "metadata": {},
   "outputs": [],
   "source": [
    "# Split data into train test set in train:test=70:30 size\n",
    "y = df[\"is_canceled\"]\n",
    "X = df.drop([\"is_canceled\"], axis=1)\n",
    "\n",
    "X_train, X_test, y_train, y_test = train_test_split(X, y, test_size = 0.30, random_state = 42)"
   ]
  },
  {
   "cell_type": "code",
   "execution_count": 180,
   "metadata": {},
   "outputs": [
    {
     "data": {
      "text/plain": [
       "GaussianNB(priors=None, var_smoothing=1e-09)"
      ]
     },
     "execution_count": 180,
     "metadata": {},
     "output_type": "execute_result"
    }
   ],
   "source": [
    "classifier3 = GaussianNB()\n",
    "classifier3.fit(X_train, y_train)"
   ]
  },
  {
   "cell_type": "code",
   "execution_count": 182,
   "metadata": {},
   "outputs": [],
   "source": [
    "y_pred3 = classifier3.predict(X_test)\n",
    "y_prob3 = classifier3.predict_proba(X_test)"
   ]
  },
  {
   "cell_type": "code",
   "execution_count": 183,
   "metadata": {},
   "outputs": [
    {
     "name": "stdout",
     "output_type": "stream",
     "text": [
      "('test-set confusion matrix:\\n', array([[ 7164, 15314],\n",
      "       [ 1112, 12227]], dtype=int64))\n",
      "('recall score: ', 0.9166354299422745)\n",
      "('precision score: ', 0.44395628335935516)\n",
      "('f1 score: ', 0.5981898238747555)\n",
      "('accuracy score: ', 0.5413909596001899)\n"
     ]
    }
   ],
   "source": [
    "print('test-set confusion matrix:\\n', confusion_matrix(y_test,y_pred3)) \n",
    "print(\"recall score: \", recall_score(y_test,y_pred3))\n",
    "print(\"precision score: \", precision_score(y_test,y_pred3))\n",
    "print(\"f1 score: \", f1_score(y_test,y_pred3))\n",
    "print(\"accuracy score: \", accuracy_score(y_test,y_pred3))"
   ]
  },
  {
   "cell_type": "markdown",
   "metadata": {},
   "source": [
    "## Implementing Bernoulli NB classifier\n"
   ]
  },
  {
   "cell_type": "markdown",
   "metadata": {},
   "source": [
    "Bernoulli NB classifier works on discrete data with Binary or boolean features. <a href=\"https://scikit-learn.org/stable/modules/generated/sklearn.naive_bayes.BernoulliNB.html#sklearn.naive_bayes.BernoulliNB\">sklearn documentation</a>"
   ]
  },
  {
   "cell_type": "code",
   "execution_count": 217,
   "metadata": {},
   "outputs": [],
   "source": [
    "d1 = backup[['hotel','is_canceled','arrival_date_year','arrival_date_month','meal','market_segment',\\\n",
    "          'distribution_channel','reserved_room_type','deposit_type','customer_type','is_repeated_guest']]"
   ]
  },
  {
   "cell_type": "code",
   "execution_count": 218,
   "metadata": {},
   "outputs": [
    {
     "data": {
      "text/plain": [
       "Index([u'hotel', u'is_canceled', u'arrival_date_year', u'arrival_date_month',\n",
       "       u'meal', u'market_segment', u'distribution_channel',\n",
       "       u'reserved_room_type', u'deposit_type', u'customer_type',\n",
       "       u'is_repeated_guest'],\n",
       "      dtype='object')"
      ]
     },
     "execution_count": 218,
     "metadata": {},
     "output_type": "execute_result"
    }
   ],
   "source": [
    "d1.columns"
   ]
  },
  {
   "cell_type": "code",
   "execution_count": 219,
   "metadata": {},
   "outputs": [],
   "source": [
    "cat_col=['hotel','arrival_date_year','arrival_date_month','meal','market_segment',\\\n",
    "          'distribution_channel','reserved_room_type','deposit_type','customer_type','is_repeated_guest']\n",
    "d2=pd.get_dummies(data=d1,columns=cat_col)"
   ]
  },
  {
   "cell_type": "code",
   "execution_count": 222,
   "metadata": {},
   "outputs": [
    {
     "data": {
      "text/html": [
       "<div>\n",
       "<style scoped>\n",
       "    .dataframe tbody tr th:only-of-type {\n",
       "        vertical-align: middle;\n",
       "    }\n",
       "\n",
       "    .dataframe tbody tr th {\n",
       "        vertical-align: top;\n",
       "    }\n",
       "\n",
       "    .dataframe thead th {\n",
       "        text-align: right;\n",
       "    }\n",
       "</style>\n",
       "<table border=\"1\" class=\"dataframe\">\n",
       "  <thead>\n",
       "    <tr style=\"text-align: right;\">\n",
       "      <th></th>\n",
       "      <th>hotel</th>\n",
       "      <th>is_canceled</th>\n",
       "      <th>arrival_date_year</th>\n",
       "      <th>arrival_date_month</th>\n",
       "      <th>meal</th>\n",
       "      <th>market_segment</th>\n",
       "      <th>distribution_channel</th>\n",
       "      <th>reserved_room_type</th>\n",
       "      <th>deposit_type</th>\n",
       "      <th>customer_type</th>\n",
       "      <th>is_repeated_guest</th>\n",
       "    </tr>\n",
       "  </thead>\n",
       "  <tbody>\n",
       "    <tr>\n",
       "      <th>0</th>\n",
       "      <td>Resort Hotel</td>\n",
       "      <td>0</td>\n",
       "      <td>2015</td>\n",
       "      <td>July</td>\n",
       "      <td>BB</td>\n",
       "      <td>Direct</td>\n",
       "      <td>Direct</td>\n",
       "      <td>C</td>\n",
       "      <td>No Deposit</td>\n",
       "      <td>Transient</td>\n",
       "      <td>0</td>\n",
       "    </tr>\n",
       "  </tbody>\n",
       "</table>\n",
       "</div>"
      ],
      "text/plain": [
       "          hotel  is_canceled  arrival_date_year arrival_date_month meal  \\\n",
       "0  Resort Hotel            0               2015               July   BB   \n",
       "\n",
       "  market_segment distribution_channel reserved_room_type deposit_type  \\\n",
       "0         Direct               Direct                  C   No Deposit   \n",
       "\n",
       "  customer_type  is_repeated_guest  \n",
       "0     Transient                  0  "
      ]
     },
     "execution_count": 222,
     "metadata": {},
     "output_type": "execute_result"
    }
   ],
   "source": [
    "d1.head(1)"
   ]
  },
  {
   "cell_type": "code",
   "execution_count": 221,
   "metadata": {},
   "outputs": [
    {
     "data": {
      "text/html": [
       "<div>\n",
       "<style scoped>\n",
       "    .dataframe tbody tr th:only-of-type {\n",
       "        vertical-align: middle;\n",
       "    }\n",
       "\n",
       "    .dataframe tbody tr th {\n",
       "        vertical-align: top;\n",
       "    }\n",
       "\n",
       "    .dataframe thead th {\n",
       "        text-align: right;\n",
       "    }\n",
       "</style>\n",
       "<table border=\"1\" class=\"dataframe\">\n",
       "  <thead>\n",
       "    <tr style=\"text-align: right;\">\n",
       "      <th></th>\n",
       "      <th>is_canceled</th>\n",
       "      <th>hotel_City Hotel</th>\n",
       "      <th>hotel_Resort Hotel</th>\n",
       "      <th>arrival_date_year_2015</th>\n",
       "      <th>arrival_date_year_2016</th>\n",
       "      <th>arrival_date_year_2017</th>\n",
       "      <th>arrival_date_month_April</th>\n",
       "      <th>arrival_date_month_August</th>\n",
       "      <th>arrival_date_month_December</th>\n",
       "      <th>arrival_date_month_February</th>\n",
       "      <th>...</th>\n",
       "      <th>reserved_room_type_P</th>\n",
       "      <th>deposit_type_No Deposit</th>\n",
       "      <th>deposit_type_Non Refund</th>\n",
       "      <th>deposit_type_Refundable</th>\n",
       "      <th>customer_type_Contract</th>\n",
       "      <th>customer_type_Group</th>\n",
       "      <th>customer_type_Transient</th>\n",
       "      <th>customer_type_Transient-Party</th>\n",
       "      <th>is_repeated_guest_0</th>\n",
       "      <th>is_repeated_guest_1</th>\n",
       "    </tr>\n",
       "  </thead>\n",
       "  <tbody>\n",
       "    <tr>\n",
       "      <th>0</th>\n",
       "      <td>0</td>\n",
       "      <td>0</td>\n",
       "      <td>1</td>\n",
       "      <td>1</td>\n",
       "      <td>0</td>\n",
       "      <td>0</td>\n",
       "      <td>0</td>\n",
       "      <td>0</td>\n",
       "      <td>0</td>\n",
       "      <td>0</td>\n",
       "      <td>...</td>\n",
       "      <td>0</td>\n",
       "      <td>1</td>\n",
       "      <td>0</td>\n",
       "      <td>0</td>\n",
       "      <td>0</td>\n",
       "      <td>0</td>\n",
       "      <td>1</td>\n",
       "      <td>0</td>\n",
       "      <td>1</td>\n",
       "      <td>0</td>\n",
       "    </tr>\n",
       "  </tbody>\n",
       "</table>\n",
       "<p>1 rows × 55 columns</p>\n",
       "</div>"
      ],
      "text/plain": [
       "   is_canceled  hotel_City Hotel  hotel_Resort Hotel  arrival_date_year_2015  \\\n",
       "0            0                 0                   1                       1   \n",
       "\n",
       "   arrival_date_year_2016  arrival_date_year_2017  arrival_date_month_April  \\\n",
       "0                       0                       0                         0   \n",
       "\n",
       "   arrival_date_month_August  arrival_date_month_December  \\\n",
       "0                          0                            0   \n",
       "\n",
       "   arrival_date_month_February  ...  reserved_room_type_P  \\\n",
       "0                            0  ...                     0   \n",
       "\n",
       "   deposit_type_No Deposit  deposit_type_Non Refund  deposit_type_Refundable  \\\n",
       "0                        1                        0                        0   \n",
       "\n",
       "   customer_type_Contract  customer_type_Group  customer_type_Transient  \\\n",
       "0                       0                    0                        1   \n",
       "\n",
       "   customer_type_Transient-Party  is_repeated_guest_0  is_repeated_guest_1  \n",
       "0                              0                    1                    0  \n",
       "\n",
       "[1 rows x 55 columns]"
      ]
     },
     "execution_count": 221,
     "metadata": {},
     "output_type": "execute_result"
    }
   ],
   "source": [
    "d2.head(1)"
   ]
  },
  {
   "cell_type": "code",
   "execution_count": 223,
   "metadata": {},
   "outputs": [],
   "source": [
    "y = d2[\"is_canceled\"]\n",
    "X = d2.drop([\"is_canceled\"], axis=1)\n",
    "\n",
    "X_train, X_test, y_train, y_test = train_test_split(X, y, test_size = 0.30, random_state = 42)"
   ]
  },
  {
   "cell_type": "code",
   "execution_count": 224,
   "metadata": {},
   "outputs": [
    {
     "data": {
      "text/plain": [
       "BernoulliNB(alpha=1.0, binarize=0.0, class_prior=None, fit_prior=True)"
      ]
     },
     "execution_count": 224,
     "metadata": {},
     "output_type": "execute_result"
    }
   ],
   "source": [
    "classifier4 = BernoulliNB()\n",
    "classifier4.fit(X_train, y_train)"
   ]
  },
  {
   "cell_type": "code",
   "execution_count": 225,
   "metadata": {},
   "outputs": [],
   "source": [
    "y_pred4 = classifier4.predict(X_test)"
   ]
  },
  {
   "cell_type": "code",
   "execution_count": 226,
   "metadata": {},
   "outputs": [
    {
     "name": "stdout",
     "output_type": "stream",
     "text": [
      "('test-set confusion matrix:\\n', array([[21379,  1099],\n",
      "       [ 8158,  5181]], dtype=int64))\n",
      "('recall score: ', 0.3884099257815428)\n",
      "('precision score: ', 0.825)\n",
      "('f1 score: ', 0.5281614761200877)\n",
      "('accuracy score: ', 0.7415473099366223)\n"
     ]
    }
   ],
   "source": [
    "print('test-set confusion matrix:\\n', confusion_matrix(y_test,y_pred4)) \n",
    "print(\"recall score: \", recall_score(y_test,y_pred4))\n",
    "print(\"precision score: \", precision_score(y_test,y_pred4))\n",
    "print(\"f1 score: \", f1_score(y_test,y_pred4))\n",
    "print(\"accuracy score: \", accuracy_score(y_test,y_pred4))"
   ]
  }
 ],
 "metadata": {
  "kernelspec": {
   "display_name": "Python 2",
   "language": "python",
   "name": "python2"
  },
  "language_info": {
   "codemirror_mode": {
    "name": "ipython",
    "version": 2
   },
   "file_extension": ".py",
   "mimetype": "text/x-python",
   "name": "python",
   "nbconvert_exporter": "python",
   "pygments_lexer": "ipython2",
   "version": "2.7.16"
  }
 },
 "nbformat": 4,
 "nbformat_minor": 2
}
